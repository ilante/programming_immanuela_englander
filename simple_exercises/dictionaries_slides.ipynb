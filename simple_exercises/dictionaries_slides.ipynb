{
 "cells": [
  {
   "cell_type": "markdown",
   "metadata": {},
   "source": [
    "# Dictionaries \n",
    "\n",
    "slides [here](https://iol.unibo.it/pluginfile.php/486862/mod_resource/content/2/python_009_dictionaries.pdf)"
   ]
  },
  {
   "cell_type": "code",
   "execution_count": 3,
   "metadata": {},
   "outputs": [],
   "source": [
    "good_morning_di = {\n",
    "    \"English\": \"Good morning\",\n",
    "    \"Spanish\": \"Buenos dias\",\n",
    "    \"Swedish\": \"God morgon\",  \n",
    "    \"German\": \"Guten morgen\",  \n",
    "    \"Italian\": \"Buongiorno\",  \n",
    "    \"Afrikaans\": \"Goeie more\",\n",
    "}"
   ]
  },
  {
   "cell_type": "code",
   "execution_count": 4,
   "metadata": {},
   "outputs": [
    {
     "data": {
      "text/plain": [
       "'Goeie more'"
      ]
     },
     "execution_count": 4,
     "metadata": {},
     "output_type": "execute_result"
    }
   ],
   "source": [
    "good_morning_di[\"Afrikaans\"]"
   ]
  },
  {
   "cell_type": "code",
   "execution_count": 5,
   "metadata": {},
   "outputs": [
    {
     "name": "stdout",
     "output_type": "stream",
     "text": [
      "God morgon\n"
     ]
    }
   ],
   "source": [
    "for i in good_morning_di:\n",
    "    if i == \"Swedish\":\n",
    "        print(good_morning_di[i])"
   ]
  },
  {
   "cell_type": "code",
   "execution_count": 6,
   "metadata": {},
   "outputs": [
    {
     "data": {
      "text/plain": [
       "0"
      ]
     },
     "execution_count": 6,
     "metadata": {},
     "output_type": "execute_result"
    }
   ],
   "source": [
    "#p 8\n",
    "\n",
    "d1 = {}\n",
    "len(d1)"
   ]
  },
  {
   "cell_type": "code",
   "execution_count": 7,
   "metadata": {},
   "outputs": [
    {
     "data": {
      "text/plain": [
       "2"
      ]
     },
     "execution_count": 7,
     "metadata": {},
     "output_type": "execute_result"
    }
   ],
   "source": [
    "d2={\"name\": \"Andrew\", 'age':33}\n",
    "len(d2)"
   ]
  },
  {
   "cell_type": "code",
   "execution_count": 8,
   "metadata": {},
   "outputs": [
    {
     "data": {
      "text/plain": [
       "'Andrew'"
      ]
     },
     "execution_count": 8,
     "metadata": {},
     "output_type": "execute_result"
    }
   ],
   "source": [
    "#acessing value of the key name:\n",
    "d2['name']"
   ]
  },
  {
   "cell_type": "markdown",
   "metadata": {},
   "source": [
    "## Adding new elements:"
   ]
  },
  {
   "cell_type": "code",
   "execution_count": 11,
   "metadata": {},
   "outputs": [
    {
     "name": "stdout",
     "output_type": "stream",
     "text": [
      "len =  1 and the value is : Cassandra\n",
      "Now the length is:  2 and values  {'name': 'Cassandra', 'education': ['physics', 'engeneering']}\n"
     ]
    }
   ],
   "source": [
    "my_sister = {}\n",
    "my_sister['name']='Cassandra'\n",
    "print(\"len = \",len(my_sister), 'and the value is :', my_sister['name'])\n",
    "\n",
    "my_sister['education']=['physics', 'engeneering']\n",
    "\n",
    "print('Now the length is: ',len(my_sister),'and values ', my_sister)"
   ]
  },
  {
   "cell_type": "markdown",
   "metadata": {},
   "source": [
    "## Ambiguitiy codes:\n",
    "Sometimes DNA bases are ambiguous, meaning that we might not be able to tell if the nt is an A or a C.\n",
    "\n",
    "The standard (IUPAC) one-letter code for DNA includes letters for ambiguity.\n",
    "\n",
    "**M** is A or C \n",
    "\n",
    "**R** is A or G \n",
    "\n",
    "**W** is A or T \n",
    "\n",
    "**V** is A, C or G \n",
    "\n",
    "**H** is A, C or T\n",
    "\n",
    "**D** is A, G or T \n",
    "\n",
    "**S** is C or G\n",
    "\n",
    "**Y** is C or T \n",
    "\n",
    "**K** is G or T\n",
    "\n",
    "**B** is C, G or T \n",
    "\n",
    "**N** is G, A, T or C\n",
    "\n",
    "# Counting Bases using a dictionary;\n",
    "\n",
    "### don't do this:"
   ]
  },
  {
   "cell_type": "code",
   "execution_count": 13,
   "metadata": {},
   "outputs": [
    {
     "name": "stdout",
     "output_type": "stream",
     "text": [
      "{'A': 4, 'B': 0, 'C': 2, 'D': 0, 'G': 0, 'H': 0, 'K': 3, 'M': 1, 'N': 0, 'R': 3, 'S': 0, 'T': 2, 'V': 0, 'W': 1, 'Y': 0}\n"
     ]
    }
   ],
   "source": [
    "seq = 'TKKAMRCRAATARKWC'\n",
    "counts={}\n",
    "\n",
    "counts['A'] = seq.count('A')\n",
    "counts['B'] = seq.count('B')\n",
    "counts['C'] = seq.count('C')\n",
    "counts['D'] = seq.count('D')\n",
    "counts['G'] = seq.count('G')\n",
    "counts['H'] = seq.count('H')\n",
    "counts['K'] = seq.count('K')\n",
    "counts['M'] = seq.count('M')\n",
    "counts['N'] = seq.count('N')\n",
    "counts['R'] = seq.count('R')\n",
    "counts['S'] = seq.count('S')\n",
    "counts['T'] = seq.count('T')\n",
    "counts['V'] = seq.count('V')\n",
    "counts['W'] = seq.count('W')\n",
    "counts['Y'] = seq.count('Y')\n",
    "\n",
    "print(counts)\n"
   ]
  },
  {
   "cell_type": "markdown",
   "metadata": {},
   "source": [
    "# Using a for loop simplyfies things a lot:"
   ]
  },
  {
   "cell_type": "code",
   "execution_count": 17,
   "metadata": {},
   "outputs": [
    {
     "name": "stdout",
     "output_type": "stream",
     "text": [
      "{'A': 4, 'B': 0, 'C': 2, 'D': 0, 'G': 0, 'H': 0, 'K': 3, 'M': 1, 'N': 0, 'R': 3, 'S': 0, 'T': 2, 'V': 0, 'W': 1, 'Y': 0}\n"
     ]
    }
   ],
   "source": [
    "seq = 'TKKAMRCRAATARKWC'\n",
    "counts={}\n",
    "\n",
    "for char in 'ABCDGHKMNRSTVWY':\n",
    "    counts[char]=seq.count(char) # that way char changes value for each round filling the dict\n",
    "    \n",
    "print(counts)"
   ]
  },
  {
   "cell_type": "markdown",
   "metadata": {},
   "source": [
    "### Accessing all keys of a dictionary:\n",
    "\n",
    "with the method ```keys()```"
   ]
  },
  {
   "cell_type": "code",
   "execution_count": 18,
   "metadata": {},
   "outputs": [
    {
     "name": "stdout",
     "output_type": "stream",
     "text": [
      "4 = A\n",
      "0 = B\n",
      "2 = C\n",
      "0 = D\n",
      "0 = G\n",
      "0 = H\n",
      "3 = K\n",
      "1 = M\n",
      "0 = N\n",
      "3 = R\n",
      "0 = S\n",
      "2 = T\n",
      "0 = V\n",
      "1 = W\n",
      "0 = Y\n"
     ]
    }
   ],
   "source": [
    "for i in counts.keys():\n",
    "    print(counts[i],'=',i)"
   ]
  },
  {
   "cell_type": "markdown",
   "metadata": {},
   "source": [
    "## If you did not know all possible bases;\n",
    "\n",
    "in case your dict might not have all bases...\n"
   ]
  },
  {
   "cell_type": "code",
   "execution_count": null,
   "metadata": {},
   "outputs": [],
   "source": [
    "seq = 'TKKAMRCRAATARKWC'\n",
    "\n",
    "base_dict = {}\n",
    "for base in seq:\n",
    "    if base not in base_dict:\n",
    "        n=0\n",
    "    else:\n",
    "        n=counts[base]"
   ]
  }
 ],
 "metadata": {
  "kernelspec": {
   "display_name": "Python 3",
   "language": "python",
   "name": "python3"
  },
  "language_info": {
   "codemirror_mode": {
    "name": "ipython",
    "version": 3
   },
   "file_extension": ".py",
   "mimetype": "text/x-python",
   "name": "python",
   "nbconvert_exporter": "python",
   "pygments_lexer": "ipython3",
   "version": "3.7.2"
  }
 },
 "nbformat": 4,
 "nbformat_minor": 4
}
