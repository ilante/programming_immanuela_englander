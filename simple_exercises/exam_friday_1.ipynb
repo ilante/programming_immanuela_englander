{
 "cells": [
  {
   "cell_type": "markdown",
   "metadata": {},
   "source": [
    "1. Write a function that takes a string and returns True if the number of\n",
    "'A' in even positions is equal to the number of 'A' in odd positions.\n"
   ]
  },
  {
   "cell_type": "code",
   "execution_count": 12,
   "metadata": {},
   "outputs": [
    {
     "name": "stdout",
     "output_type": "stream",
     "text": [
      "True\n"
     ]
    }
   ],
   "source": [
    "stringa = 'LLLL'\n",
    "def ev_odd(s):\n",
    "    even = 0\n",
    "    odd = 0\n",
    "    for i in range(len(s)):\n",
    "        if i%2 == 0 and s[i] == 'A':\n",
    "            even +=1\n",
    "        elif i%2 != 0 and s[i] == 'A':\n",
    "            odd +=1\n",
    "    if even == odd:\n",
    "        return True\n",
    "    else:\n",
    "        return False\n",
    "    \n",
    "            \n",
    "print(ev_odd(stringa))"
   ]
  },
  {
   "cell_type": "markdown",
   "metadata": {},
   "source": [
    "2. \n",
    "\n",
    "* Write a function that takes a file handler and prints on the screen\n",
    "the number of A in the first two lines. \n",
    "* Write a program that invokes\n",
    "the function on a file named \"pippo.txt\".\n",
    "\n"
   ]
  },
  {
   "cell_type": "code",
   "execution_count": 32,
   "metadata": {},
   "outputs": [
    {
     "name": "stdout",
     "output_type": "stream",
     "text": [
      "3\n"
     ]
    }
   ],
   "source": [
    "def numA(filehandler):\n",
    "    num = 0 # initializing counter\n",
    "    line = filehandler.readline() #saves first line into var\n",
    "    line += filehandler.readline() #saves second line into var\n",
    "    num += line.count('A')\n",
    "    return num\n",
    "\n",
    "\n",
    "r_f = open(\"./pippo.txt\", \"r\")\n",
    "print(numA(r_f))\n",
    "r_f.close()"
   ]
  },
  {
   "cell_type": "markdown",
   "metadata": {},
   "source": [
    "3. Write a program that takes strings from the user till the user\n",
    "inserts a \"STOP\" and prints the number of the read elements.\n",
    "\n"
   ]
  },
  {
   "cell_type": "code",
   "execution_count": 33,
   "metadata": {},
   "outputs": [
    {
     "name": "stdin",
     "output_type": "stream",
     "text": [
      "Please insert a sting.  hell\n",
      "Please insert a sting.  hello\n",
      "Please insert a sting.  helvete\n",
      "Please insert a sting.  STOP\n"
     ]
    },
    {
     "name": "stdout",
     "output_type": "stream",
     "text": [
      "The number of read elements is:  4\n"
     ]
    }
   ],
   "source": [
    "user = input(\"Please insert a sting. \")\n",
    "count = 1\n",
    "while user != \"STOP\":\n",
    "    user = input(\"Please insert a sting. \")\n",
    "    count +=  1\n",
    "print(\"The number of read elements is: \", count)"
   ]
  },
  {
   "cell_type": "markdown",
   "metadata": {},
   "source": [
    "4. Define a recursive function to compute the maximum value in a list\n",
    "of positive integers."
   ]
  },
  {
   "cell_type": "code",
   "execution_count": 44,
   "metadata": {},
   "outputs": [
    {
     "data": {
      "text/plain": [
       "80"
      ]
     },
     "execution_count": 44,
     "metadata": {},
     "output_type": "execute_result"
    }
   ],
   "source": [
    "def rec_max(numlis):\n",
    "    if len(numlis) == 0:\n",
    "        return 0      \n",
    "    if len(numlis) == 1:\n",
    "        return numlis[0]\n",
    "    if numlis[0] < numlis[1]:\n",
    "        return rec_max(numlis[1:])\n",
    "    if numlis[0] >= numlis[1]:\n",
    "        return rec_max([numlis[0]]+numlis[2:])\n",
    "    \n",
    "    \n",
    "numbers = [1,0,80,7]\n",
    "rec_max(numbers)"
   ]
  },
  {
   "cell_type": "code",
   "execution_count": 39,
   "metadata": {},
   "outputs": [],
   "source": []
  },
  {
   "cell_type": "code",
   "execution_count": null,
   "metadata": {},
   "outputs": [],
   "source": []
  }
 ],
 "metadata": {
  "kernelspec": {
   "display_name": "Python 3",
   "language": "python",
   "name": "python3"
  },
  "language_info": {
   "codemirror_mode": {
    "name": "ipython",
    "version": 3
   },
   "file_extension": ".py",
   "mimetype": "text/x-python",
   "name": "python",
   "nbconvert_exporter": "python",
   "pygments_lexer": "ipython3",
   "version": "3.7.2"
  }
 },
 "nbformat": 4,
 "nbformat_minor": 4
}
