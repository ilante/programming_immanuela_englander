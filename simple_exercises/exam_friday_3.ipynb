{
 "cells": [
  {
   "cell_type": "markdown",
   "metadata": {},
   "source": [
    "3.\n",
    "1) scrivi una funzione che prenda una stringa come input e ritorni \"True\" se contiene esattamente una \"A\" e \"False\" in caso contrario.\n",
    "\n",
    "Write a function\n",
    "* that takes a string as input \n",
    "* returns \"True\" if the string contains exactly one \"A\"\n",
    "* returns \"False\" in the opposite case"
   ]
  },
  {
   "cell_type": "code",
   "execution_count": 9,
   "metadata": {},
   "outputs": [
    {
     "name": "stdout",
     "output_type": "stream",
     "text": [
      "True\n"
     ]
    }
   ],
   "source": [
    "def one_A(s):\n",
    "    countA = 0\n",
    "    for i in range(len(s)):\n",
    "        if s[i] == \"A\":\n",
    "            countA += 1\n",
    "    if countA == 1:\n",
    "        return True\n",
    "    else:\n",
    "        return False\n",
    "        \n",
    "print(one_A(\"MMAM\"))"
   ]
  },
  {
   "cell_type": "markdown",
   "metadata": {},
   "source": [
    "2) scrivi un programma che prenda un integer come input dall' user finche l'user non inserisce 0, e restituisce la somma dei numeri precedentemente inseriti.\n",
    "\n",
    "Write a *program* that takes as input an integer from the user\n",
    "* until the user inserts 0\n",
    "* it returns the sum of the numbers previously inserted.\n"
   ]
  },
  {
   "cell_type": "code",
   "execution_count": 7,
   "metadata": {},
   "outputs": [
    {
     "name": "stdin",
     "output_type": "stream",
     "text": [
      "Please insert an integer:  1\n",
      "Please insert an integer:  10\n",
      "Please insert an integer:  11\n",
      "Please insert an integer:  0\n"
     ]
    },
    {
     "name": "stdout",
     "output_type": "stream",
     "text": [
      "22\n"
     ]
    }
   ],
   "source": [
    "def inum():\n",
    "    \"Prompts user to insert integers and returns them\"\n",
    "    return int(input('Please insert an integer: '))\n",
    "\n",
    " \n",
    "nums = int(inum())\n",
    "sums = nums\n",
    "while nums != 0:\n",
    "    nums = int(inum())\n",
    "    sums += nums\n",
    "    \n",
    "\n",
    "print(sums)"
   ]
  },
  {
   "cell_type": "code",
   "execution_count": 3,
   "metadata": {},
   "outputs": [
    {
     "name": "stdin",
     "output_type": "stream",
     "text": [
      "Number please. 1\n",
      "Number please. 0\n"
     ]
    },
    {
     "name": "stdout",
     "output_type": "stream",
     "text": [
      "The sum of the previously inserted numbers is.  1\n"
     ]
    }
   ],
   "source": [
    "inputnum = int(input(\"Number please.\"))\n",
    "sum = inputnum\n",
    "\n",
    "while inputnum != 0:\n",
    "    inputnum = int(input(\"Number please.\"))\n",
    "    sum += inputnum\n",
    "print(\"The sum of the previously inserted numbers is. \", sum)\n"
   ]
  },
  {
   "cell_type": "markdown",
   "metadata": {},
   "source": [
    "3) definisci un dizionario la se seguenti Key: Ivan, Allegra, Pietro e come valori Lanese, Via, Dilena, dopodich\\'e9 stampa a schermo il primo valore in lettere maiuscole\\\n"
   ]
  },
  {
   "cell_type": "markdown",
   "metadata": {},
   "source": [
    "4) definisci una funzione ricorsiva per definire il numero di caratteri \"A, C, G e T\" presenti in una stringa.\n",
    "\n",
    "Define a recursive function to define the number of characters \"A, C, G, and T\" present in a string.\n"
   ]
  },
  {
   "cell_type": "code",
   "execution_count": 19,
   "metadata": {},
   "outputs": [],
   "source": [
    "def acgt(s):\n",
    "    if len(s) == 0:\n",
    "        return 0\n",
    "    if s[0] == 'A' or s[0] == 'C' or s[0] == 'G' or s[0] == 'T':\n",
    "        return acgt(s[1:])+1\n",
    "    else:\n",
    "        return 0"
   ]
  },
  {
   "cell_type": "code",
   "execution_count": 16,
   "metadata": {},
   "outputs": [
    {
     "data": {
      "text/plain": [
       "4"
      ]
     },
     "execution_count": 16,
     "metadata": {},
     "output_type": "execute_result"
    }
   ],
   "source": [
    "acgt(\"AGCGZZZ\")"
   ]
  },
  {
   "cell_type": "code",
   "execution_count": null,
   "metadata": {},
   "outputs": [],
   "source": []
  }
 ],
 "metadata": {
  "kernelspec": {
   "display_name": "Python 3",
   "language": "python",
   "name": "python3"
  },
  "language_info": {
   "codemirror_mode": {
    "name": "ipython",
    "version": 3
   },
   "file_extension": ".py",
   "mimetype": "text/x-python",
   "name": "python",
   "nbconvert_exporter": "python",
   "pygments_lexer": "ipython3",
   "version": "3.7.2"
  }
 },
 "nbformat": 4,
 "nbformat_minor": 4
}
