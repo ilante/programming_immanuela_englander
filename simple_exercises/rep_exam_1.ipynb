{
 "cells": [
  {
   "cell_type": "markdown",
   "metadata": {},
   "source": [
    "Function that\n",
    "* takes as input a filename\n",
    "* opens file \n",
    "* returns number of \"Cs \" in the first 10 lines "
   ]
  },
  {
   "cell_type": "code",
   "execution_count": 2,
   "metadata": {},
   "outputs": [],
   "source": [
    "def oC(filename):\n",
    "    Ccount = 0\n",
    "    with open(filename, 'r') as rfile:\n",
    "            for i in range(10):       #initiating a range to repeate the task\n",
    "                line = rfile.readline() # putting string that is read into variable line\n",
    "                num = line.count(\"C\")   # counting C of each line and storing in var num\n",
    "                Ccount += num\n",
    "    return Ccount"
   ]
  },
  {
   "cell_type": "code",
   "execution_count": 3,
   "metadata": {},
   "outputs": [],
   "source": [
    "# open\n",
    "#returns 2nd line\n",
    "\n",
    "def secondline(filename):\n",
    "    with open(filename, 'r') as rfile:\n",
    "        rfile.readline() # reading the first line\n",
    "        return rfile.readline()\n",
    "    "
   ]
  },
  {
   "cell_type": "code",
   "execution_count": 4,
   "metadata": {},
   "outputs": [
    {
     "data": {
      "text/plain": [
       "'TAGGAA\\n'"
      ]
     },
     "execution_count": 4,
     "metadata": {},
     "output_type": "execute_result"
    }
   ],
   "source": [
    "secondline('seq2.txt')"
   ]
  },
  {
   "cell_type": "markdown",
   "metadata": {},
   "source": [
    "1. Write a function that takes a string and returns true if the number of\\\n",
    "'A' in even positions is equal to the number of 'A' in odd positions.\\\n"
   ]
  },
  {
   "cell_type": "code",
   "execution_count": 7,
   "metadata": {},
   "outputs": [
    {
     "data": {
      "text/plain": [
       "True"
      ]
     },
     "execution_count": 7,
     "metadata": {},
     "output_type": "execute_result"
    }
   ],
   "source": [
    "def evA(stri):\n",
    "    even = 0\n",
    "    odd = 0\n",
    "    for i in stri:\n",
    "        if i%2 == 0:\n",
    "            even = stri.count(\"A\")\n",
    "        else:\n",
    "            odd = stri.count('A')\n",
    "    if even == odd:\n",
    "        return True\n",
    "    else:\n",
    "        return False\n"
   ]
  },
  {
   "cell_type": "markdown",
   "metadata": {},
   "source": []
  },
  {
   "cell_type": "markdown",
   "metadata": {},
   "source": [
    "2. Write a function that takes a file handler and prints on the screen\\\n",
    "the number of A in the first two lines. Write a program that invokes\\\n",
    "the function on a file named \"pippo.txt\".\\\n",
    "\\"
   ]
  },
  {
   "cell_type": "code",
   "execution_count": 5,
   "metadata": {},
   "outputs": [],
   "source": [
    "def fh(thefile):\n",
    "    countA = 0\n",
    "    first = thefile.readline()\n",
    "    second = thefile.readline()\n",
    "    countA += first.count(\"A\")\n",
    "    countA += second.count('A')\n",
    "    print(countA)"
   ]
  },
  {
   "cell_type": "code",
   "execution_count": 6,
   "metadata": {},
   "outputs": [
    {
     "name": "stdout",
     "output_type": "stream",
     "text": [
      "3\n"
     ]
    }
   ],
   "source": [
    "with open(\"pippo.txt\", 'r') as rfile:\n",
    "    fh(rfile)"
   ]
  },
  {
   "cell_type": "markdown",
   "metadata": {},
   "source": [
    "Write a program that takes strings from the user till the user\\\n",
    "inserts a \"STOP\" and prints the number of the read elements.\\\n",
    "\\\n"
   ]
  },
  {
   "cell_type": "code",
   "execution_count": 8,
   "metadata": {},
   "outputs": [
    {
     "name": "stdin",
     "output_type": "stream",
     "text": [
      "Please insert some strings one\n",
      "Please insert some strings t\n",
      "Please insert some strings th\n",
      "Please insert some strings the\n",
      "Please insert some strings the house\n",
      "Please insert some strings STOP\n"
     ]
    },
    {
     "name": "stdout",
     "output_type": "stream",
     "text": [
      "6\n"
     ]
    }
   ],
   "source": [
    "s = input(\"Please insert some strings\")\n",
    "sums = 1\n",
    "while s != \"STOP\":\n",
    "          s = input(\"Please insert some strings\")\n",
    "          sums += 1\n",
    "\n",
    "print(sums)\n",
    "    \n",
    "          "
   ]
  },
  {
   "cell_type": "markdown",
   "metadata": {},
   "source": [
    "Define a recursive function to compute the maximum value in a list\\\n",
    "of positive integers.\\\n",
    "\\"
   ]
  },
  {
   "cell_type": "code",
   "execution_count": 11,
   "metadata": {},
   "outputs": [],
   "source": [
    "def marec(li):\n",
    "    '''Computes max val of a list of positive integers.'''\n",
    "    if len(li) == 1: # corner case\n",
    "        return li[0]\n",
    "    if li[0] >= li[1]:\n",
    "        return [li[0]] marec(li[2:])\n",
    "    else:\n",
    "        return marec([li[1:]])"
   ]
  },
  {
   "cell_type": "code",
   "execution_count": 12,
   "metadata": {},
   "outputs": [
    {
     "data": {
      "text/plain": [
       "[10, 33, 0, 0, 3, 80, 0, 4]"
      ]
     },
     "execution_count": 12,
     "metadata": {},
     "output_type": "execute_result"
    }
   ],
   "source": [
    "marec([1,10,33,0,0,3,80,0,4])"
   ]
  },
  {
   "cell_type": "code",
   "execution_count": 19,
   "metadata": {},
   "outputs": [],
   "source": [
    "def recursive_max(li):\n",
    "    '''Computes max val of a list of positive integers.'''\n",
    "    if li == []:\n",
    "        return \"The list is empty\"\n",
    "    if len(li) == 1:\n",
    "        return li[0]\n",
    "    if li[0] >= li[1]: # we have to cut out element l[1] and put l[0] in its place\n",
    "        return recursive_max([li[0]]+li[2:])\n",
    "    else:              # we have to cut away the element that was smaller (l[0])\n",
    "        return recursive_max(li[1:]) # so we cut the list by the head\n",
    "        \n",
    "        "
   ]
  },
  {
   "cell_type": "code",
   "execution_count": 22,
   "metadata": {},
   "outputs": [
    {
     "name": "stdout",
     "output_type": "stream",
     "text": [
      "33\n"
     ]
    }
   ],
   "source": [
    "print(recursive_max([8,1,3,10, 0, -30, 33]))"
   ]
  },
  {
   "cell_type": "code",
   "execution_count": 23,
   "metadata": {},
   "outputs": [
    {
     "name": "stdout",
     "output_type": "stream",
     "text": [
      "The list is empty\n"
     ]
    }
   ],
   "source": [
    "print(recursive_max([]))"
   ]
  },
  {
   "cell_type": "code",
   "execution_count": null,
   "metadata": {},
   "outputs": [],
   "source": []
  }
 ],
 "metadata": {
  "kernelspec": {
   "display_name": "Python 3",
   "language": "python",
   "name": "python3"
  },
  "language_info": {
   "codemirror_mode": {
    "name": "ipython",
    "version": 3
   },
   "file_extension": ".py",
   "mimetype": "text/x-python",
   "name": "python",
   "nbconvert_exporter": "python",
   "pygments_lexer": "ipython3",
   "version": "3.7.2"
  }
 },
 "nbformat": 4,
 "nbformat_minor": 4
}
