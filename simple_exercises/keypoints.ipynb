{
 "cells": [
  {
   "cell_type": "markdown",
   "metadata": {},
   "source": [
    "open file\n",
    "r,w a\n",
    "\n",
    "open \n",
    "readline()\n",
    "readlines\n",
    "\n",
    "for loop on file handle\n",
    "\n",
    "write to a file\n",
    "\n",
    "input from user\n",
    "\n",
    "ranges\n",
    "range with step\n",
    "backward range\n",
    "\n",
    "dict\n",
    "getting the keys\n",
    "range on the keys\n",
    "\n",
    "recursive function."
   ]
  },
  {
   "cell_type": "markdown",
   "metadata": {},
   "source": [
    "#### Euclidian distance:"
   ]
  },
  {
   "cell_type": "code",
   "execution_count": 7,
   "metadata": {},
   "outputs": [
    {
     "data": {
      "text/plain": [
       "4"
      ]
     },
     "execution_count": 7,
     "metadata": {},
     "output_type": "execute_result"
    }
   ],
   "source": [
    "def euclidian(one, two, three, four):\n",
    "    euc_dist = (two - one) + (four - three)\n",
    "    return euc_dist\n",
    "\n",
    "euclidian(1,3,2,4)"
   ]
  },
  {
   "cell_type": "markdown",
   "metadata": {},
   "source": [
    "#### Even indexes of a string"
   ]
  },
  {
   "cell_type": "code",
   "execution_count": 16,
   "metadata": {},
   "outputs": [],
   "source": [
    "def all_even(stri):\n",
    "    '''Prints all even index positions of a string.'''\n",
    "    alleven = ''\n",
    "    if stri == '':\n",
    "        return \"The string needs to contain at least one character.\"\n",
    "    for i in range(len(stri)):\n",
    "        if i%2 == 0:\n",
    "            alleven+=stri[i]\n",
    "    return alleven"
   ]
  },
  {
   "cell_type": "code",
   "execution_count": 8,
   "metadata": {},
   "outputs": [
    {
     "name": "stdin",
     "output_type": "stream",
     "text": [
      "Words!  01234568\n"
     ]
    },
    {
     "data": {
      "text/plain": [
       "'0246'"
      ]
     },
     "execution_count": 8,
     "metadata": {},
     "output_type": "execute_result"
    }
   ],
   "source": [
    "da = input(\"Words! \")\n",
    "\n",
    "all_even(da)"
   ]
  },
  {
   "cell_type": "code",
   "execution_count": 13,
   "metadata": {},
   "outputs": [],
   "source": [
    "def evenindex(stri):\n",
    "    '''Prints all even index positions of a string.'''\n",
    "    print(stri[::2])"
   ]
  },
  {
   "cell_type": "code",
   "execution_count": 14,
   "metadata": {},
   "outputs": [
    {
     "name": "stdin",
     "output_type": "stream",
     "text": [
      "Give me a string. 0123456789\n"
     ]
    },
    {
     "name": "stdout",
     "output_type": "stream",
     "text": [
      "02468\n"
     ]
    }
   ],
   "source": [
    "user = input('Give me a string.')\n",
    "evenindex(user)"
   ]
  },
  {
   "cell_type": "markdown",
   "metadata": {},
   "source": [
    "### Odd indexes of a string:"
   ]
  },
  {
   "cell_type": "code",
   "execution_count": 17,
   "metadata": {},
   "outputs": [],
   "source": [
    "def oddindex(stri):\n",
    "    '''Prints all odd index pos of a string.'''\n",
    "    return stri[1::2]"
   ]
  },
  {
   "cell_type": "code",
   "execution_count": 23,
   "metadata": {},
   "outputs": [
    {
     "data": {
      "text/plain": [
       "[1, 2, 3, 4, 5, 6]"
      ]
     },
     "execution_count": 23,
     "metadata": {},
     "output_type": "execute_result"
    }
   ],
   "source": [
    "da = [0,1,2,3,4,5,6]\n",
    "same = da[1:len(da):] #start from one go to the end \n",
    "same"
   ]
  },
  {
   "cell_type": "code",
   "execution_count": 29,
   "metadata": {},
   "outputs": [
    {
     "name": "stdout",
     "output_type": "stream",
     "text": [
      "stern\n"
     ]
    }
   ],
   "source": [
    "der = 'stern'\n",
    "print(der[:7]) # you can use numbers that are higher than the last index and it will allways return \n",
    "# the last position."
   ]
  },
  {
   "cell_type": "markdown",
   "metadata": {},
   "source": [
    "# Open \n",
    "* read\n",
    "* rstrip = right strip."
   ]
  },
  {
   "cell_type": "code",
   "execution_count": 121,
   "metadata": {},
   "outputs": [],
   "source": [
    "def linereader(filename):\n",
    "    'Takes as input a filename. Returns the lines of the file as a string.'\n",
    "    wurst = ''\n",
    "    with open(filename, 'r') as rfile:\n",
    "        for line in rfile:\n",
    "            wurst += line\n",
    "    return wurst\n"
   ]
  },
  {
   "cell_type": "code",
   "execution_count": 122,
   "metadata": {},
   "outputs": [
    {
     "name": "stdout",
     "output_type": "stream",
     "text": [
      "rstrip\n",
      " ATTCGT\n",
      "TAGGAA\n",
      "AAAAAAAAA\n",
      "TTTTTTTTT\n",
      "TAAGCT\n",
      "ATTCTA\n"
     ]
    }
   ],
   "source": [
    "thefile = linereader('seq2.txt')\n",
    "print(\"rstrip\\n\", thefile.rstrip())\n",
    "\n"
   ]
  },
  {
   "cell_type": "code",
   "execution_count": 125,
   "metadata": {},
   "outputs": [
    {
     "name": "stdout",
     "output_type": "stream",
     "text": [
      "ATTCGT\n",
      "\n"
     ]
    }
   ],
   "source": [
    "a = open('seq2.txt', 'r')\n",
    "line = a.readline()\n",
    "print(line)\n",
    "a.close()"
   ]
  },
  {
   "cell_type": "code",
   "execution_count": 11,
   "metadata": {},
   "outputs": [],
   "source": [
    "def oddlines(filename):\n",
    "    '''Takes a filename as a parameter and returns only the odd lines. We start counting from 0.'''\n",
    "    oddlines = ''\n",
    "    with open(filename, 'r') as rfile: # with open closes file later automatically\n",
    "        i = 0                          # creating index i can use to count lines\n",
    "        for line in rfile:             # creating indexes i can use to \n",
    "            if i%2!=0:                 # when ever the remainder is differant than 0:\n",
    "                oddlines+=line         # concattenate the string\n",
    "            i+=1                       # increase the counter\n",
    "    return oddlines\n",
    "                "
   ]
  },
  {
   "cell_type": "code",
   "execution_count": 12,
   "metadata": {},
   "outputs": [
    {
     "name": "stdout",
     "output_type": "stream",
     "text": [
      "TAGGAA\n",
      "TTTTTTTTT\n",
      "ATTCTA\n",
      "\n"
     ]
    }
   ],
   "source": [
    "print(oddlines('seq2.txt')) #use '' when calling the function"
   ]
  },
  {
   "cell_type": "code",
   "execution_count": 8,
   "metadata": {},
   "outputs": [],
   "source": [
    "def evenlines(filename):\n",
    "    '''Takes a filename as a parameter and returns only the even lines. We start counting from 0.'''\n",
    "    odds = ''\n",
    "    counter = 0\n",
    "    with open('seq2.txt','r') as rfile:\n",
    "        for line in rfile:\n",
    "            if counter%2 == 0: #even numbers\n",
    "                odds += line\n",
    "            counter += 1\n",
    "    return odds\n",
    "            "
   ]
  },
  {
   "cell_type": "code",
   "execution_count": 13,
   "metadata": {},
   "outputs": [
    {
     "name": "stdout",
     "output_type": "stream",
     "text": [
      "ATTCGT\n",
      "AAAAAAAAA\n",
      "TAAGCT\n",
      "\n"
     ]
    }
   ],
   "source": [
    "print(evenlines('seq2.txt'))"
   ]
  },
  {
   "cell_type": "code",
   "execution_count": null,
   "metadata": {},
   "outputs": [],
   "source": []
  },
  {
   "cell_type": "markdown",
   "metadata": {},
   "source": [
    "Splitlines returns a list containing the strings but removes the \\n character."
   ]
  },
  {
   "cell_type": "code",
   "execution_count": 107,
   "metadata": {},
   "outputs": [
    {
     "data": {
      "text/plain": [
       "['ATTCGT', 'TAGGAA', 'AAAAAAAAA', 'TTTTTTTTT', 'TAAGCT', 'ATTCTA']"
      ]
     },
     "execution_count": 107,
     "metadata": {},
     "output_type": "execute_result"
    }
   ],
   "source": [
    "s =  thefile.splitlines()\n",
    "s\n"
   ]
  },
  {
   "cell_type": "code",
   "execution_count": 110,
   "metadata": {},
   "outputs": [
    {
     "name": "stdout",
     "output_type": "stream",
     "text": [
      "['ATTCGT', 'TAGGAA', 'AAAAAAAAA', 'TTTTTTTTT', 'TAAGCT', 'ATTCTA']\n"
     ]
    }
   ],
   "source": [
    "print(str(s))\n"
   ]
  },
  {
   "cell_type": "code",
   "execution_count": null,
   "metadata": {},
   "outputs": [],
   "source": []
  },
  {
   "cell_type": "code",
   "execution_count": 80,
   "metadata": {},
   "outputs": [],
   "source": [
    "def otherlinereader(filename):\n",
    "    '''???'''\n",
    "    wurst = ''\n",
    "    with open(filename, 'r') as rfile:\n",
    "        for i in rfile:\n",
    "            line = rfile.readline()\n",
    "            wurst += line\n",
    "    return wurst\n"
   ]
  },
  {
   "cell_type": "code",
   "execution_count": 81,
   "metadata": {},
   "outputs": [
    {
     "name": "stdout",
     "output_type": "stream",
     "text": [
      "\n"
     ]
    }
   ],
   "source": [
    "thenewfile = otherlinereader('seq2.txt')\n",
    "print(thenewfile)"
   ]
  },
  {
   "cell_type": "code",
   "execution_count": 16,
   "metadata": {},
   "outputs": [
    {
     "name": "stdout",
     "output_type": "stream",
     "text": [
      "AT\n"
     ]
    }
   ],
   "source": [
    "with open('seq2.txt', 'r') as rfile:\n",
    "    print(rfile.readline(2))\n",
    "\n",
    "    "
   ]
  },
  {
   "cell_type": "code",
   "execution_count": null,
   "metadata": {},
   "outputs": [],
   "source": []
  },
  {
   "cell_type": "code",
   "execution_count": 29,
   "metadata": {},
   "outputs": [],
   "source": [
    "with open('seq2.txt', 'a') as wrfile:\n",
    "    wrfile.write(\"last\\n\")\n",
    "    "
   ]
  },
  {
   "cell_type": "code",
   "execution_count": 30,
   "metadata": {},
   "outputs": [
    {
     "name": "stdout",
     "output_type": "stream",
     "text": [
      "ATTCGT\n",
      "TAGGAA\n",
      "AAAAAAAAA\n",
      "TTTTTTTTT\n",
      "TAAGCT\n",
      "ATTCTA\n",
      "lastlastlastlastlast\n"
     ]
    }
   ],
   "source": [
    "with open('seq2.txt', 'r') as rfile: \n",
    "    for line in rfile:\n",
    "        print(line.rstrip())"
   ]
  },
  {
   "cell_type": "markdown",
   "metadata": {},
   "source": [
    "## Define a recursive function to compute the partial sums of a list of integers.\n",
    "\n",
    "* If you consider a list [1,2,3, 4]\n",
    "* The output will be [1,1+2,1+2+3,1+2+3+4]\n",
    "\n",
    "\n",
    "1. first try normal:"
   ]
  },
  {
   "cell_type": "code",
   "execution_count": 33,
   "metadata": {},
   "outputs": [
    {
     "data": {
      "text/plain": [
       "[1, 2, 4]"
      ]
     },
     "execution_count": 33,
     "metadata": {},
     "output_type": "execute_result"
    }
   ],
   "source": [
    "i = [1,2]\n",
    "a = [4]\n",
    "\n",
    "i+=a\n",
    "i"
   ]
  },
  {
   "cell_type": "code",
   "execution_count": 46,
   "metadata": {},
   "outputs": [],
   "source": [
    "def pasum(li):\n",
    "    if li == []:\n",
    "        return \"Empty list\"\n",
    "    else:\n",
    "        newlist = [li[0]]\n",
    "        parsum = li[0]\n",
    "        for el in li[1:]:\n",
    "            parsum += el\n",
    "            newlist.append(parsum)\n",
    "    return newlist"
   ]
  },
  {
   "cell_type": "code",
   "execution_count": 47,
   "metadata": {},
   "outputs": [
    {
     "data": {
      "text/plain": [
       "[1, 3, 6, 10]"
      ]
     },
     "execution_count": 47,
     "metadata": {},
     "output_type": "execute_result"
    }
   ],
   "source": [
    "pasum([1,2,3,4])"
   ]
  },
  {
   "cell_type": "code",
   "execution_count": 48,
   "metadata": {},
   "outputs": [],
   "source": [
    "def ps(lis):\n",
    "    newli = []\n",
    "    partialsum = 0\n",
    "    for el in lis:\n",
    "        partialsum +=el\n",
    "        newli += [partialsum]\n",
    "    return newli\n"
   ]
  },
  {
   "cell_type": "code",
   "execution_count": 49,
   "metadata": {},
   "outputs": [
    {
     "data": {
      "text/plain": [
       "[1, 3, 6, 10]"
      ]
     },
     "execution_count": 49,
     "metadata": {},
     "output_type": "execute_result"
    }
   ],
   "source": [
    "ps([1,2,3, 4])"
   ]
  },
  {
   "cell_type": "code",
   "execution_count": 50,
   "metadata": {},
   "outputs": [
    {
     "data": {
      "text/plain": [
       "'Empty list'"
      ]
     },
     "execution_count": 50,
     "metadata": {},
     "output_type": "execute_result"
    }
   ],
   "source": [
    "pasum([])"
   ]
  },
  {
   "cell_type": "code",
   "execution_count": 51,
   "metadata": {},
   "outputs": [
    {
     "data": {
      "text/plain": [
       "[]"
      ]
     },
     "execution_count": 51,
     "metadata": {},
     "output_type": "execute_result"
    }
   ],
   "source": [
    "ps([])"
   ]
  },
  {
   "cell_type": "markdown",
   "metadata": {},
   "source": [
    "## Recursive:"
   ]
  },
  {
   "cell_type": "code",
   "execution_count": 68,
   "metadata": {},
   "outputs": [],
   "source": [
    "def rec_par_sum(ls):\n",
    "    if len(ls)==0:\n",
    "        return []\n",
    "    else:\n",
    "        tmp = rec_par_sum[ls[-1]]\n",
    "        return [rec_par_sum(ls[:-1])[-1]]+ls[-1]"
   ]
  },
  {
   "cell_type": "code",
   "execution_count": 86,
   "metadata": {},
   "outputs": [],
   "source": [
    "sa = [2]\n"
   ]
  },
  {
   "cell_type": "code",
   "execution_count": 73,
   "metadata": {},
   "outputs": [],
   "source": [
    "# rec_par_sum(sa)"
   ]
  },
  {
   "cell_type": "code",
   "execution_count": 81,
   "metadata": {},
   "outputs": [],
   "source": [
    "def repar(l):\n",
    "    if l == []:    #base case when list shortened to []\n",
    "        return [] \n",
    "    else:\n",
    "        ps =l[-1]           # ps is last el of tmp list - its the partial sum at this point - will be added to the next element\n",
    "        plist = repar(l[:-1]) # partial list is the list of the partial sums, excluding the last element\n",
    "\n",
    "        if plist != []:       # if you arrive at the first element - do nothing\n",
    "            ps += plist[-1]   # in all other cases add to the ps the last value of the plist\n",
    "        return plist+[ps]\n",
    "    "
   ]
  },
  {
   "cell_type": "code",
   "execution_count": 82,
   "metadata": {},
   "outputs": [
    {
     "data": {
      "text/plain": [
       "[1, 3, 6, 10]"
      ]
     },
     "execution_count": 82,
     "metadata": {},
     "output_type": "execute_result"
    }
   ],
   "source": [
    "repar([1,2,3,4])"
   ]
  },
  {
   "cell_type": "code",
   "execution_count": 87,
   "metadata": {},
   "outputs": [
    {
     "data": {
      "text/plain": [
       "[2]"
      ]
     },
     "execution_count": 87,
     "metadata": {},
     "output_type": "execute_result"
    }
   ],
   "source": [
    "repar([2])"
   ]
  },
  {
   "cell_type": "code",
   "execution_count": 88,
   "metadata": {},
   "outputs": [],
   "source": [
    "def repar(l):\n",
    "    if l == []:    #base case when list shortened to []\n",
    "        return [] \n",
    "    else:\n",
    "        ps =l[-1]           # ps is last el of tmp list - its the partial sum at this point - will be added to the next element\n",
    "        plist = repar(l[:-1]) # partial list is the list of the partial sums, excluding the last element\n",
    "\n",
    "        if plist != []:       # if you arrive at the first element - do nothing\n",
    "            ps += plist[-1]   # in all other cases add to the ps the last value of the plist\n",
    "        return plist+[ps]\n",
    "    "
   ]
  },
  {
   "cell_type": "code",
   "execution_count": 90,
   "metadata": {},
   "outputs": [
    {
     "name": "stdout",
     "output_type": "stream",
     "text": [
      "AA\n"
     ]
    }
   ],
   "source": [
    "a = 'aa'\n",
    "print(a.upper())\n"
   ]
  },
  {
   "cell_type": "code",
   "execution_count": 91,
   "metadata": {},
   "outputs": [
    {
     "name": "stdout",
     "output_type": "stream",
     "text": [
      "Aa\n"
     ]
    }
   ],
   "source": [
    "print(a.capitalize())"
   ]
  },
  {
   "cell_type": "code",
   "execution_count": 93,
   "metadata": {},
   "outputs": [
    {
     "data": {
      "text/plain": [
       "True"
      ]
     },
     "execution_count": 93,
     "metadata": {},
     "output_type": "execute_result"
    }
   ],
   "source": [
    "b = 'Annab.'\n",
    "b.endswith('.') #Returns true if string ends with the val."
   ]
  },
  {
   "cell_type": "code",
   "execution_count": 99,
   "metadata": {},
   "outputs": [
    {
     "name": "stdout",
     "output_type": "stream",
     "text": [
      "1\n",
      "1\n"
     ]
    }
   ],
   "source": [
    "print(b.find('n')) # Returns the specified value and retruns the postion of where it was found\n",
    "print(b.index(\"n\"))"
   ]
  },
  {
   "cell_type": "code",
   "execution_count": 95,
   "metadata": {},
   "outputs": [
    {
     "data": {
      "text/plain": [
       "2"
      ]
     },
     "execution_count": 95,
     "metadata": {},
     "output_type": "execute_result"
    }
   ],
   "source": [
    "b.rfind('n')"
   ]
  },
  {
   "cell_type": "code",
   "execution_count": 108,
   "metadata": {},
   "outputs": [
    {
     "data": {
      "text/plain": [
       "1"
      ]
     },
     "execution_count": 108,
     "metadata": {},
     "output_type": "execute_result"
    }
   ],
   "source": [
    "b.index(\"n\")"
   ]
  },
  {
   "cell_type": "markdown",
   "metadata": {},
   "source": [
    "            string.replace('value to be replaced' , 'replacer')\n",
    "Replaces a specified value of a string with another"
   ]
  },
  {
   "cell_type": "code",
   "execution_count": 111,
   "metadata": {},
   "outputs": [
    {
     "data": {
      "text/plain": [
       "'Anna#'"
      ]
     },
     "execution_count": 111,
     "metadata": {},
     "output_type": "execute_result"
    }
   ],
   "source": [
    "c = b.replace('b.', '#')\n",
    "c"
   ]
  },
  {
   "cell_type": "code",
   "execution_count": 124,
   "metadata": {},
   "outputs": [
    {
     "name": "stdout",
     "output_type": "stream",
     "text": [
      "20\n",
      "20\n"
     ]
    }
   ],
   "source": [
    "g = 'Das grosse geheimnis# Schatzsuchen# das.'\n",
    "print(g.find('#'))\n",
    "\n",
    "print(g.index('#'))"
   ]
  },
  {
   "cell_type": "code",
   "execution_count": 123,
   "metadata": {},
   "outputs": [
    {
     "name": "stdout",
     "output_type": "stream",
     "text": [
      "34\n",
      "34\n"
     ]
    }
   ],
   "source": [
    "print(g.rfind('#')) # Returns index of last incidence\n",
    "\n",
    "print(g.rindex(\"#\"))"
   ]
  },
  {
   "cell_type": "code",
   "execution_count": 127,
   "metadata": {},
   "outputs": [
    {
     "data": {
      "text/plain": [
       "'Das grosse geheimnis3 Schatzsuchen3 das.'"
      ]
     },
     "execution_count": 127,
     "metadata": {},
     "output_type": "execute_result"
    }
   ],
   "source": [
    "h= g.replace(\"#\", '3')\n",
    "h"
   ]
  },
  {
   "cell_type": "markdown",
   "metadata": {},
   "source": [
    "### No difference between \n",
    "    rsplit() and split()"
   ]
  },
  {
   "cell_type": "code",
   "execution_count": 125,
   "metadata": {},
   "outputs": [
    {
     "name": "stdout",
     "output_type": "stream",
     "text": [
      "['das', 'ist', 'seltsam', 'aber$ned@bled']\n"
     ]
    }
   ],
   "source": [
    "neu = 'das#ist#seltsam#aber$ned@bled'\n",
    "alt = neu.rsplit('#')\n",
    "print(alt)"
   ]
  },
  {
   "cell_type": "code",
   "execution_count": 133,
   "metadata": {},
   "outputs": [
    {
     "name": "stdout",
     "output_type": "stream",
     "text": [
      "['das', 'ist', 'seltsam', 'aber$ned@bled']\n"
     ]
    }
   ],
   "source": [
    "anders = neu.split('#')\n",
    "print(anders)"
   ]
  },
  {
   "cell_type": "markdown",
   "metadata": {},
   "source": [
    "### Removing the newline character\n",
    "        the_word.rstrip()"
   ]
  },
  {
   "cell_type": "code",
   "execution_count": 131,
   "metadata": {},
   "outputs": [
    {
     "data": {
      "text/plain": [
       "'the words\\n'"
      ]
     },
     "execution_count": 131,
     "metadata": {},
     "output_type": "execute_result"
    }
   ],
   "source": [
    "myword = 'the words\\n'\n",
    "myword"
   ]
  },
  {
   "cell_type": "code",
   "execution_count": 132,
   "metadata": {},
   "outputs": [
    {
     "data": {
      "text/plain": [
       "'the words'"
      ]
     },
     "execution_count": 132,
     "metadata": {},
     "output_type": "execute_result"
    }
   ],
   "source": [
    "stripped = myword.rstrip()\n",
    "stripped"
   ]
  },
  {
   "cell_type": "markdown",
   "metadata": {},
   "source": [
    "### Removing other characters from the right margin\n",
    "\n",
    "The method ``` .rstrip() uses '/n' ``` as standard ---> ``` rstrip('/n')```\n",
    "\n",
    "It can be changed to any other character."
   ]
  },
  {
   "cell_type": "code",
   "execution_count": 137,
   "metadata": {},
   "outputs": [
    {
     "name": "stdout",
     "output_type": "stream",
     "text": [
      "das#ist#seltsam#aber$ned@ble\n"
     ]
    }
   ],
   "source": [
    "diffstrip = neu.rstrip('das.')\n",
    "print(diffstrip)"
   ]
  },
  {
   "cell_type": "markdown",
   "metadata": {},
   "source": [
    "### Splitting a string on a character\n",
    "Turns the string into - a list."
   ]
  },
  {
   "cell_type": "code",
   "execution_count": 141,
   "metadata": {},
   "outputs": [
    {
     "data": {
      "text/plain": [
       "['das', 'muss', 'blu', 'abstand']"
      ]
     },
     "execution_count": 141,
     "metadata": {},
     "output_type": "execute_result"
    }
   ],
   "source": [
    "\"das#muss#blu#abstand\".split('#')"
   ]
  },
  {
   "cell_type": "markdown",
   "metadata": {},
   "source": [
    "Splitting has whitespace as a default - if left empty you can change it in the ()"
   ]
  },
  {
   "cell_type": "code",
   "execution_count": 140,
   "metadata": {},
   "outputs": [
    {
     "name": "stdout",
     "output_type": "stream",
     "text": [
      "['variation', '5', 'barn', 'sorella', 'index']\n"
     ]
    }
   ],
   "source": [
    "stri = 'variation 5 barn sorella index'\n",
    "neu = stri.split()\n",
    "print(neu)"
   ]
  },
  {
   "cell_type": "markdown",
   "metadata": {},
   "source": [
    "2. extract the numbers from the string “23|64|354|-123”"
   ]
  },
  {
   "cell_type": "code",
   "execution_count": 145,
   "metadata": {},
   "outputs": [],
   "source": [
    "s = '23|64|354|-123'\n",
    "\n",
    "# method split can be used on strings and converts them into list\n",
    "lis = s.split('|')\n"
   ]
  },
  {
   "cell_type": "code",
   "execution_count": 146,
   "metadata": {},
   "outputs": [
    {
     "name": "stdout",
     "output_type": "stream",
     "text": [
      "[23, 64, 354, -123]\n"
     ]
    }
   ],
   "source": [
    "# converting string numbers to the type integer and appending them to new list\n",
    "numli =[]\n",
    "for i in lis:\n",
    "    numli.append(int(i))\n",
    "    \n",
    "print(numli)\n",
    "    "
   ]
  },
  {
   "cell_type": "code",
   "execution_count": 148,
   "metadata": {},
   "outputs": [
    {
     "data": {
      "text/plain": [
       "int"
      ]
     },
     "execution_count": 148,
     "metadata": {},
     "output_type": "execute_result"
    }
   ],
   "source": [
    "type(numli[0])"
   ]
  },
  {
   "cell_type": "markdown",
   "metadata": {},
   "source": [
    "3. define a function called “addlist” that returns the sum of the elements of any list¶"
   ]
  },
  {
   "cell_type": "code",
   "execution_count": 161,
   "metadata": {},
   "outputs": [],
   "source": [
    "def addlist(li):\n",
    "    som = 0\n",
    "    if li == []:\n",
    "        return \"The list provided does not contain any numbers.\"\n",
    "    else:\n",
    "        for i in li:\n",
    "            som += i\n",
    "        return som"
   ]
  },
  {
   "cell_type": "code",
   "execution_count": 162,
   "metadata": {},
   "outputs": [
    {
     "data": {
      "text/plain": [
       "6"
      ]
     },
     "execution_count": 162,
     "metadata": {},
     "output_type": "execute_result"
    }
   ],
   "source": [
    "addlist([1,3,4,-2])"
   ]
  },
  {
   "cell_type": "code",
   "execution_count": 163,
   "metadata": {},
   "outputs": [
    {
     "data": {
      "text/plain": [
       "'The list provided does not contain any numbers.'"
      ]
     },
     "execution_count": 163,
     "metadata": {},
     "output_type": "execute_result"
    }
   ],
   "source": [
    "addlist([])"
   ]
  },
  {
   "cell_type": "markdown",
   "metadata": {},
   "source": [
    "3.b Recursive sumlist"
   ]
  },
  {
   "cell_type": "code",
   "execution_count": 164,
   "metadata": {},
   "outputs": [],
   "source": [
    "def recaddlist(li):\n",
    "    if li == []:\n",
    "        return 0\n",
    "    if len(li) < 2:\n",
    "        return li[0]\n",
    "    else:\n",
    "        return li[0]+recaddlist(li[1:])"
   ]
  },
  {
   "cell_type": "code",
   "execution_count": 165,
   "metadata": {},
   "outputs": [
    {
     "data": {
      "text/plain": [
       "6"
      ]
     },
     "execution_count": 165,
     "metadata": {},
     "output_type": "execute_result"
    }
   ],
   "source": [
    "recaddlist([1,3,4,-2])"
   ]
  },
  {
   "cell_type": "markdown",
   "metadata": {},
   "source": [
    "### Partial sum of a list:\n",
    "normal"
   ]
  },
  {
   "cell_type": "code",
   "execution_count": 187,
   "metadata": {},
   "outputs": [],
   "source": [
    "def pasnorm(li):\n",
    "    list_of_partial_sums = []\n",
    "    pasum = 0\n",
    "    for el in li:\n",
    "        if el == li[0]:           # the first element\n",
    "            pasum += el        # the partial is added to the element\n",
    "            list_of_partial_sums.append(pasum) # is simply added AS the first position of partial sums list\n",
    "        else:\n",
    "            pasum += el        # partial sum is increased by the value of the element\n",
    "            list_of_partial_sums.append(pasum)\n",
    "    return  list_of_partial_sums\n"
   ]
  },
  {
   "cell_type": "code",
   "execution_count": 188,
   "metadata": {},
   "outputs": [
    {
     "data": {
      "text/plain": [
       "[1, 3, 6, 10, 15]"
      ]
     },
     "execution_count": 188,
     "metadata": {},
     "output_type": "execute_result"
    }
   ],
   "source": [
    "pasnorm([1,2,3,4,5])"
   ]
  },
  {
   "cell_type": "code",
   "execution_count": 195,
   "metadata": {},
   "outputs": [],
   "source": [
    "#even better\n",
    "def ps(li):\n",
    "    if li == []:\n",
    "        return \"The list is empty!\"\n",
    "    accumulator = li[0]\n",
    "    sumli = [li[0]]\n",
    "    for num in li[1:]:\n",
    "        accumulator += num\n",
    "        sumli.append(accumulator)\n",
    "    return sumli\n",
    "        "
   ]
  },
  {
   "cell_type": "code",
   "execution_count": 196,
   "metadata": {},
   "outputs": [
    {
     "data": {
      "text/plain": [
       "[1, 3, 6, 10, 15]"
      ]
     },
     "execution_count": 196,
     "metadata": {},
     "output_type": "execute_result"
    }
   ],
   "source": [
    "ps([1,2,3,4,5])"
   ]
  },
  {
   "cell_type": "code",
   "execution_count": null,
   "metadata": {},
   "outputs": [],
   "source": [
    "# same but recursive\n",
    "\n",
    "def psr(li):\n",
    "    'Takes as input a list '\n",
    "    if len(li) == 1:\n",
    "        return 1\n",
    "    "
   ]
  }
 ],
 "metadata": {
  "kernelspec": {
   "display_name": "Python 3",
   "language": "python",
   "name": "python3"
  },
  "language_info": {
   "codemirror_mode": {
    "name": "ipython",
    "version": 3
   },
   "file_extension": ".py",
   "mimetype": "text/x-python",
   "name": "python",
   "nbconvert_exporter": "python",
   "pygments_lexer": "ipython3",
   "version": "3.7.2"
  }
 },
 "nbformat": 4,
 "nbformat_minor": 4
}
