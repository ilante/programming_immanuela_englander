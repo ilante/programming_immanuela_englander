{
 "cells": [
  {
   "cell_type": "markdown",
   "metadata": {},
   "source": [
    "# Exam 14.07.2020\n",
    "\n",
    "## 1. \n",
    "Write a program that takes a string from the user and prints it backwards."
   ]
  },
  {
   "cell_type": "code",
   "execution_count": 6,
   "metadata": {},
   "outputs": [
    {
     "name": "stdin",
     "output_type": "stream",
     "text": [
      "Please give me a string.  Yalla\n"
     ]
    },
    {
     "name": "stdout",
     "output_type": "stream",
     "text": [
      "allaY\n"
     ]
    }
   ],
   "source": [
    "s = input(\"Please give me a string. \")\n",
    "backwards = s[::-1]\n",
    "print(backwards)\n"
   ]
  },
  {
   "cell_type": "markdown",
   "metadata": {},
   "source": [
    "## 2. \n",
    "Write a function that takes a list of integers and computes the minimum.\n"
   ]
  },
  {
   "cell_type": "code",
   "execution_count": 8,
   "metadata": {},
   "outputs": [],
   "source": [
    "def min_of_li(li):\n",
    "    '''Takes list of int as input. Computes the minimum'''\n",
    "    if len(li) == 1: # only one element\n",
    "        minimum = li[0]\n",
    "        return minimum # returning that number\n",
    "    else: # larger than one\n",
    "        minimum = li[0] # starting at first one\n",
    "        for ele in li[1:]: \n",
    "            if ele < minimum:\n",
    "                minimum = ele\n",
    "    return minimum\n"
   ]
  },
  {
   "cell_type": "code",
   "execution_count": null,
   "metadata": {},
   "outputs": [],
   "source": []
  },
  {
   "cell_type": "markdown",
   "metadata": {},
   "source": [
    "## 3. \n",
    "Define a dictionary with keys Ivan, Allegra and Pietro and values\n",
    "Lanese, Via and Di Lena. \n",
    "\n",
    "Print on the screen the value associated to\n",
    "Ivan, in capital letters."
   ]
  },
  {
   "cell_type": "code",
   "execution_count": 4,
   "metadata": {},
   "outputs": [
    {
     "name": "stdout",
     "output_type": "stream",
     "text": [
      "LANESE\n"
     ]
    }
   ],
   "source": [
    "names = {'Ivan':'Lanese', 'Allegra':'Via', 'Pietro':'Di Lena'}\n",
    "print(names['Ivan'].upper())\n"
   ]
  },
  {
   "cell_type": "markdown",
   "metadata": {},
   "source": [
    "## 4.\n",
    "Write a program that takes strings from the user till the user\n",
    "inserts a \"STOP\" and prints the \n",
    "number of the read elements."
   ]
  },
  {
   "cell_type": "code",
   "execution_count": 10,
   "metadata": {},
   "outputs": [
    {
     "name": "stdin",
     "output_type": "stream",
     "text": [
      "Please provide some strings.  one\n",
      "Please provide some strings.  two\n",
      "Please provide some strings.  three\n",
      "Please provide some strings.  Stop\n",
      "Please provide some strings.  STOP\n"
     ]
    },
    {
     "name": "stdout",
     "output_type": "stream",
     "text": [
      "5\n"
     ]
    }
   ],
   "source": [
    "user_in = input('Please provide some strings. ')\n",
    "count = 1\n",
    "\n",
    "while user_in != \"STOP\":\n",
    "    user_in = input('Please provide some strings. ')\n",
    "    count += 1\n",
    "\n",
    "print(count)"
   ]
  },
  {
   "cell_type": "code",
   "execution_count": null,
   "metadata": {},
   "outputs": [],
   "source": []
  },
  {
   "cell_type": "code",
   "execution_count": null,
   "metadata": {},
   "outputs": [],
   "source": []
  },
  {
   "cell_type": "code",
   "execution_count": null,
   "metadata": {},
   "outputs": [],
   "source": []
  }
 ],
 "metadata": {
  "kernelspec": {
   "display_name": "Python 3",
   "language": "python",
   "name": "python3"
  },
  "language_info": {
   "codemirror_mode": {
    "name": "ipython",
    "version": 3
   },
   "file_extension": ".py",
   "mimetype": "text/x-python",
   "name": "python",
   "nbconvert_exporter": "python",
   "pygments_lexer": "ipython3",
   "version": "3.7.2"
  }
 },
 "nbformat": 4,
 "nbformat_minor": 4
}
