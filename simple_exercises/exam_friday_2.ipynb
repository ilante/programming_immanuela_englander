{
 "cells": [
  {
   "cell_type": "markdown",
   "metadata": {},
   "source": [
    "1) Write a function that takes as input a string and returns True if it contains at least three \"G\", else return False\n"
   ]
  },
  {
   "cell_type": "code",
   "execution_count": 4,
   "metadata": {},
   "outputs": [
    {
     "data": {
      "text/plain": [
       "True"
      ]
     },
     "execution_count": 4,
     "metadata": {},
     "output_type": "execute_result"
    }
   ],
   "source": [
    "def threeG(s):\n",
    "    gcount = 0\n",
    "    for char in s:\n",
    "        if char == \"G\":\n",
    "            gcount += 1\n",
    "    if gcount >= 3:\n",
    "        return True\n",
    "    else:\n",
    "        return False\n",
    "    \n",
    "    \n",
    "st = \"GGGG\"\n",
    "threeG(st)"
   ]
  },
  {
   "cell_type": "markdown",
   "metadata": {},
   "source": [
    "2) Write a function that takes as input a list (the list must contain at least two elements) and returns the maximum of the last two elements of the list\\\n"
   ]
  },
  {
   "cell_type": "code",
   "execution_count": 9,
   "metadata": {},
   "outputs": [
    {
     "name": "stdout",
     "output_type": "stream",
     "text": [
      "8\n"
     ]
    }
   ],
   "source": [
    "# list (at least 2 el)\n",
    "# return mx of last 2\n",
    "\n",
    "def last2(l):\n",
    "    '''Takes as input a list of at least 2 elements and returns the maximum of the last 2 elements of the list.'''\n",
    "    el1 = l[-1]\n",
    "    el2 = l[-2]\n",
    "    if el1 > el2:\n",
    "        return el1\n",
    "    if el2 > el1:\n",
    "        return el2\n",
    "    else:\n",
    "        return \"The numbers are equal.\"\n",
    "    \n",
    "print(last2([3,0,8,0]))"
   ]
  },
  {
   "cell_type": "markdown",
   "metadata": {},
   "source": [
    "3) write a function that takes as input a filename and returns the number of characters of the first line of the file (assume that the file exists and has at least two lines). Then, call the function with a file that has been taken from input."
   ]
  },
  {
   "cell_type": "code",
   "execution_count": 14,
   "metadata": {},
   "outputs": [
    {
     "data": {
      "text/plain": [
       "9"
      ]
     },
     "execution_count": 14,
     "metadata": {},
     "output_type": "execute_result"
    }
   ],
   "source": [
    "def num_char(thename):\n",
    "    '''Takes as input a file. It returns the number of characters of the FIRST line of that file.'''\n",
    "    with open(thename, 'r') as r_f:\n",
    "        line1 = r_f.readline()\n",
    "        numchar = len(line1)\n",
    "        return numchar\n",
    "    \n",
    "num_char(\"./pippo.txt\")    "
   ]
  },
  {
   "cell_type": "markdown",
   "metadata": {},
   "source": [
    "4) write a program that asks a string from input until the user writes \"Hello!\" then print the number of inserted strings"
   ]
  },
  {
   "cell_type": "code",
   "execution_count": 15,
   "metadata": {},
   "outputs": [
    {
     "name": "stdin",
     "output_type": "stream",
     "text": [
      "Please insert some strings ja\n",
      "Please insert some strings nein\n",
      "Please insert some strings warum\n",
      "Please insert some strings Ciao \n",
      "Please insert some strings Hello \n",
      "Please insert some strings Halo\n",
      "Please insert some strings Hi\n",
      "Please insert some strings Hello!\n"
     ]
    },
    {
     "name": "stdout",
     "output_type": "stream",
     "text": [
      "The number of inserted strings equals:  8\n"
     ]
    }
   ],
   "source": [
    "def not_hello():\n",
    "    '''Asks strings from the user, until the user writes \"Hello!\" \n",
    "    The program then proceeds to print the number of inserted strings.'''\n",
    "    s = input('Please insert some strings')\n",
    "    return s\n",
    "\n",
    "s = ''\n",
    "count = 0\n",
    "while s != \"Hello!\":\n",
    "    s = not_hello()\n",
    "    count += 1\n",
    "print(\"The number of inserted strings equals: \", count)\n",
    "    "
   ]
  },
  {
   "cell_type": "code",
   "execution_count": 11,
   "metadata": {},
   "outputs": [
    {
     "name": "stdout",
     "output_type": "stream",
     "text": [
      "div5\n",
      "div3\n",
      "div15\n"
     ]
    }
   ],
   "source": [
    "num = 15\n",
    "\n",
    "if num%5 == 0:\n",
    "    print(\"div5\")\n",
    "if num%3 == 0:\n",
    "    print(\"div3\")\n",
    "if num%15 == 0:\n",
    "    print('div15')"
   ]
  },
  {
   "cell_type": "code",
   "execution_count": 12,
   "metadata": {},
   "outputs": [
    {
     "name": "stdout",
     "output_type": "stream",
     "text": [
      "div5\n"
     ]
    }
   ],
   "source": [
    "num = 15\n",
    "\n",
    "if num%5 == 0:\n",
    "    print(\"div5\")\n",
    "elif num%3 == 0:\n",
    "    print(\"div3\")\n",
    "elif num%15 == 0:\n",
    "    print('div15')"
   ]
  },
  {
   "cell_type": "code",
   "execution_count": null,
   "metadata": {},
   "outputs": [],
   "source": []
  }
 ],
 "metadata": {
  "kernelspec": {
   "display_name": "Python 3",
   "language": "python",
   "name": "python3"
  },
  "language_info": {
   "codemirror_mode": {
    "name": "ipython",
    "version": 3
   },
   "file_extension": ".py",
   "mimetype": "text/x-python",
   "name": "python",
   "nbconvert_exporter": "python",
   "pygments_lexer": "ipython3",
   "version": "3.7.2"
  }
 },
 "nbformat": 4,
 "nbformat_minor": 4
}
