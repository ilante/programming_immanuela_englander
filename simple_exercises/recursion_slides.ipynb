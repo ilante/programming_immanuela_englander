{
 "cells": [
  {
   "cell_type": "markdown",
   "metadata": {},
   "source": [
    "# Recursion"
   ]
  },
  {
   "cell_type": "markdown",
   "metadata": {},
   "source": [
    "* functions return to where they are called from\n",
    "* each function keeps its own values of its variables (???)\n",
    "\n",
    "\n",
    "Always try to find the base case.\n",
    "\n",
    "#### Factorial of a number"
   ]
  },
  {
   "cell_type": "code",
   "execution_count": 4,
   "metadata": {},
   "outputs": [
    {
     "data": {
      "text/plain": [
       "5040"
      ]
     },
     "execution_count": 4,
     "metadata": {},
     "output_type": "execute_result"
    }
   ],
   "source": [
    "def facto(num):\n",
    "    if num <= 1:\n",
    "        return 1\n",
    "    else:\n",
    "        return num * facto(num-1)\n",
    "\n",
    "    \n",
    "facto(7)"
   ]
  },
  {
   "cell_type": "markdown",
   "metadata": {},
   "source": [
    "#### Powers of"
   ]
  },
  {
   "cell_type": "code",
   "execution_count": 6,
   "metadata": {},
   "outputs": [
    {
     "data": {
      "text/plain": [
       "1000"
      ]
     },
     "execution_count": 6,
     "metadata": {},
     "output_type": "execute_result"
    }
   ],
   "source": [
    "def power_of(base, exponent):\n",
    "    if exponent == 0:    # base case\n",
    "        return 1\n",
    "    else:\n",
    "        return base * power_of(base, exponent-1)\n",
    "    \n",
    "power_of(10, 3)    "
   ]
  },
  {
   "cell_type": "markdown",
   "metadata": {},
   "source": [
    "#### Length of a list:"
   ]
  },
  {
   "cell_type": "code",
   "execution_count": 35,
   "metadata": {},
   "outputs": [
    {
     "data": {
      "text/plain": [
       "4"
      ]
     },
     "execution_count": 35,
     "metadata": {},
     "output_type": "execute_result"
    }
   ],
   "source": [
    "def len_of_list(lis):\n",
    "    if lis == []:\n",
    "        return 0 # base case\n",
    "    else:\n",
    "        return 1 + len(lis[1:])\n",
    "\n",
    "\n",
    "li = ['cr', 3, 'blau', 'da']\n",
    "len_of_list(li)"
   ]
  },
  {
   "cell_type": "markdown",
   "metadata": {},
   "source": [
    "#### Summing numbers in a list:"
   ]
  },
  {
   "cell_type": "code",
   "execution_count": 36,
   "metadata": {},
   "outputs": [
    {
     "data": {
      "text/plain": [
       "6"
      ]
     },
     "execution_count": 36,
     "metadata": {},
     "output_type": "execute_result"
    }
   ],
   "source": [
    "def sum_list(li):\n",
    "    '''Returns the sum of numbers in a list.'''\n",
    "    if li ==[]:\n",
    "        return 0\n",
    "    else:\n",
    "        return li[0] + sum_list(li[1:])\n",
    "    \n",
    "la = [1,2,3]\n",
    "sum_list(la)"
   ]
  },
  {
   "cell_type": "markdown",
   "metadata": {},
   "source": [
    "#### Reversing a list"
   ]
  },
  {
   "cell_type": "code",
   "execution_count": 39,
   "metadata": {},
   "outputs": [
    {
     "data": {
      "text/plain": [
       "['da', 'blau', 3, 'cr']"
      ]
     },
     "execution_count": 39,
     "metadata": {},
     "output_type": "execute_result"
    }
   ],
   "source": [
    "def rev_li(li):\n",
    "    if li == []:\n",
    "        return [] # base case\n",
    "    else:\n",
    "        return rev_li(li[1:])+[li[0]]\n",
    "rev_li(li)"
   ]
  },
  {
   "cell_type": "code",
   "execution_count": 41,
   "metadata": {},
   "outputs": [
    {
     "data": {
      "text/plain": [
       "['da', 'blau', 3, 'cr']"
      ]
     },
     "execution_count": 41,
     "metadata": {},
     "output_type": "execute_result"
    }
   ],
   "source": [
    "def rev_li2(li):\n",
    "    if li == []:\n",
    "        return [] # base case\n",
    "    else:\n",
    "        return [li[-1]] + rev_li(li[:-1])\n",
    "rev_li2(li)"
   ]
  },
  {
   "cell_type": "code",
   "execution_count": 38,
   "metadata": {},
   "outputs": [
    {
     "data": {
      "text/plain": [
       "1"
      ]
     },
     "execution_count": 38,
     "metadata": {},
     "output_type": "execute_result"
    }
   ],
   "source": [
    "#### Minimum\n",
    "def my_min(lis):\n",
    "    '''Returns the smallest value in the list.'''\n",
    "    if len(lis) == 1:\n",
    "        return lis[0] # base case\n",
    "    elif lis[0] < my_min(lis[1:]):\n",
    "        return lis[0]\n",
    "    else:\n",
    "        return my_min(lis[1:])\n",
    "    \n",
    "the = [1,2,3,4]\n",
    "\n",
    "my_min(the)"
   ]
  },
  {
   "cell_type": "markdown",
   "metadata": {},
   "source": [
    "#### Member of \n",
    "\n",
    "It is like \"AN\" in \"ANNA\". But we use only\n",
    "* list idexing\n",
    "* slicing \n",
    "* recursion"
   ]
  },
  {
   "cell_type": "code",
   "execution_count": 21,
   "metadata": {},
   "outputs": [
    {
     "data": {
      "text/plain": [
       "True"
      ]
     },
     "execution_count": 21,
     "metadata": {},
     "output_type": "execute_result"
    }
   ],
   "source": [
    "def member(thing, mylist):\n",
    "    '''Retruns True if the ting is in mylist and False otherwise.'''\n",
    "    if mylist == []:\n",
    "        return False # base case\n",
    "    elif thing == mylist[0]:\n",
    "        return True\n",
    "    else:\n",
    "        return member(thing, mylist[1:])\n",
    "    \n",
    "member('anna',[1,3,4, 'anna'])"
   ]
  },
  {
   "cell_type": "code",
   "execution_count": 22,
   "metadata": {},
   "outputs": [
    {
     "data": {
      "text/plain": [
       "False"
      ]
     },
     "execution_count": 22,
     "metadata": {},
     "output_type": "execute_result"
    }
   ],
   "source": [
    "member(42, ['spam', 'is', 'yummy'])"
   ]
  },
  {
   "cell_type": "markdown",
   "metadata": {},
   "source": [
    "#### Palindrome\n",
    "\n"
   ]
  },
  {
   "cell_type": "code",
   "execution_count": 28,
   "metadata": {},
   "outputs": [
    {
     "data": {
      "text/plain": [
       "True"
      ]
     },
     "execution_count": 28,
     "metadata": {},
     "output_type": "execute_result"
    }
   ],
   "source": [
    "def palindrome(word):\n",
    "    '''Returns True if word is a palindrome and Galse otherwise.'''\n",
    "    if len(word) <= 1:\n",
    "        return True\n",
    "    elif word[0] != word[-1]:\n",
    "        return False\n",
    "    else:\n",
    "        return palindrome(word[1:-1])\n",
    "    \n",
    "palindrome(\"ANNA\")"
   ]
  },
  {
   "cell_type": "code",
   "execution_count": null,
   "metadata": {},
   "outputs": [],
   "source": []
  }
 ],
 "metadata": {
  "kernelspec": {
   "display_name": "Python 3",
   "language": "python",
   "name": "python3"
  },
  "language_info": {
   "codemirror_mode": {
    "name": "ipython",
    "version": 3
   },
   "file_extension": ".py",
   "mimetype": "text/x-python",
   "name": "python",
   "nbconvert_exporter": "python",
   "pygments_lexer": "ipython3",
   "version": "3.7.2"
  }
 },
 "nbformat": 4,
 "nbformat_minor": 4
}
