{
 "cells": [
  {
   "cell_type": "markdown",
   "metadata": {},
   "source": [
    "1) scrivi una funzione che prenda \n",
    "* una stringa come input \n",
    "* e ritorni \"True\" se contiene esattamente una \"A\" \n",
    "* e \"False\" in caso contrario"
   ]
  },
  {
   "cell_type": "code",
   "execution_count": 4,
   "metadata": {},
   "outputs": [
    {
     "data": {
      "text/plain": [
       "False"
      ]
     },
     "execution_count": 4,
     "metadata": {},
     "output_type": "execute_result"
    }
   ],
   "source": [
    "def one_A(stringa):\n",
    "    if stringa.count(\"A\") == 1:\n",
    "        return True\n",
    "    else:\n",
    "        return False\n",
    "    \n",
    "one_A(\"NNAA|\")"
   ]
  },
  {
   "cell_type": "code",
   "execution_count": 9,
   "metadata": {},
   "outputs": [
    {
     "name": "stdout",
     "output_type": "stream",
     "text": [
      "False\n",
      "True\n"
     ]
    }
   ],
   "source": [
    "def one_complex_A(wort):\n",
    "    A_count = 0 # initializing counter at 0\n",
    "    for char in wort:\n",
    "        if char == \"A\":\n",
    "            A_count += 1\n",
    "    if A_count == 1:\n",
    "        return True\n",
    "    else:\n",
    "        return False\n",
    "\n",
    "print(one_complex_A(\"NNNNNN\"))\n",
    "print(one_complex_A(\"NNNNA\"))"
   ]
  },
  {
   "cell_type": "markdown",
   "metadata": {},
   "source": [
    "2) scrivi un programma che prenda un integer come input dall' user finché l'user non inserisce 0, e restituisce la somma dei numeri precedentemente inseriti\n",
    "\n",
    "Write a programm\n",
    "* that takes as input an integer\n",
    "    - from the user\n",
    "* until the user inserts 0\n",
    "* it then returns the sum of previously inserted numbers"
   ]
  },
  {
   "cell_type": "code",
   "execution_count": 13,
   "metadata": {},
   "outputs": [
    {
     "name": "stdin",
     "output_type": "stream",
     "text": [
      "Please insert and integer.  1\n",
      "Please insert and integer.  2\n",
      "Please insert and integer.  3\n",
      "Please insert and integer.  0\n"
     ]
    },
    {
     "name": "stdout",
     "output_type": "stream",
     "text": [
      "6\n"
     ]
    }
   ],
   "source": [
    "user_input = int(input(\"Please insert and integer. \"))\n",
    "somma = user_input\n",
    "while user_input != 0:\n",
    "    user_input = int(input(\"Please insert and integer. \"))\n",
    "    somma += user_input\n",
    "print(somma)    "
   ]
  },
  {
   "cell_type": "code",
   "execution_count": null,
   "metadata": {},
   "outputs": [],
   "source": []
  },
  {
   "cell_type": "markdown",
   "metadata": {},
   "source": [
    "3) definisci un dizionario la se seguenti Key: Ivan, Allegra, Pietro e come valori Lanese, Via, Dilena, dopodiché stampa a schermo il primo valore in lettere maiuscole\n",
    "\n",
    "Define a dictionary containing the following keys:\n",
    "\n",
    "    Ivan\n",
    "    Allegra\n",
    "    Pietro\n",
    "\n",
    "And as keys:\n",
    "\n",
    "    Lanese\n",
    "    Via\n",
    "    Dilena\n",
    "\n",
    "Then print the first value in CAPS\n",
    "\n",
    "I am assuming that he means *first* as used sematnitcally - so the first number which is index 0."
   ]
  },
  {
   "cell_type": "code",
   "execution_count": 15,
   "metadata": {},
   "outputs": [
    {
     "data": {
      "text/plain": [
       "{'Ivan': 'Lanese', 'Allegra': 'Via', 'Pietro': 'Dilena'}"
      ]
     },
     "execution_count": 15,
     "metadata": {},
     "output_type": "execute_result"
    }
   ],
   "source": [
    "# for fun: generating the dictionary from 2 lists:\n",
    "\n",
    "first =[ 'Ivan', 'Allegra', 'Pietro']\n",
    "last = [ 'Lanese', 'Via', 'Dilena',]\n",
    "\n",
    "names_d = {}\n",
    "\n",
    "for i in range(len(first)):\n",
    "    names_d[first[i]]=last[i]\n",
    "    \n",
    "names_d\n"
   ]
  },
  {
   "cell_type": "code",
   "execution_count": 23,
   "metadata": {},
   "outputs": [
    {
     "name": "stdout",
     "output_type": "stream",
     "text": [
      "IVAN\n"
     ]
    }
   ],
   "source": [
    "# answering the actual question\n",
    "\n",
    "# in case i didn't know what the first entry is\n",
    "keys = names_d.keys() # accessing the keys - method returns a view object.\n",
    "keylist = list(keys)  # turning view object into list\n",
    "first_val = keylist[0]\n",
    "print(first_val.upper())"
   ]
  },
  {
   "cell_type": "markdown",
   "metadata": {},
   "source": [
    "4) definisci una funzione ricorsiva per definire il numero di caratteri \"A, C, G e T\" presenti in una stringa"
   ]
  },
  {
   "cell_type": "markdown",
   "metadata": {},
   "source": [
    "Define a recursive function\n",
    "* to define the number of characters\n",
    "    - \"A, C, G e T\" in a string."
   ]
  },
  {
   "cell_type": "code",
   "execution_count": null,
   "metadata": {},
   "outputs": [],
   "source": []
  }
 ],
 "metadata": {
  "kernelspec": {
   "display_name": "Python 3",
   "language": "python",
   "name": "python3"
  },
  "language_info": {
   "codemirror_mode": {
    "name": "ipython",
    "version": 3
   },
   "file_extension": ".py",
   "mimetype": "text/x-python",
   "name": "python",
   "nbconvert_exporter": "python",
   "pygments_lexer": "ipython3",
   "version": "3.7.2"
  }
 },
 "nbformat": 4,
 "nbformat_minor": 4
}
