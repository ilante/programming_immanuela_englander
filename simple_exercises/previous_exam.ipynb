{
 "cells": [
  {
   "cell_type": "markdown",
   "metadata": {},
   "source": [
    "#### 1) Write a function that takes as input a string and returns True if it contains **at least** three \"G\", else return False\n"
   ]
  },
  {
   "cell_type": "code",
   "execution_count": 15,
   "metadata": {},
   "outputs": [
    {
     "name": "stdout",
     "output_type": "stream",
     "text": [
      "False\n",
      "True\n"
     ]
    }
   ],
   "source": [
    "def at_least_3g(stringa):\n",
    "    gcount = stringa.count(\"G\")\n",
    "    if gcount >= 3:\n",
    "        return True\n",
    "    else:\n",
    "        return False\n",
    "    \n",
    "x = \"1400\"\n",
    "\n",
    "print(at_least_3g(x))\n",
    "\n",
    "print(at_least_3g(\"GAGG\"))"
   ]
  },
  {
   "cell_type": "code",
   "execution_count": 14,
   "metadata": {},
   "outputs": [
    {
     "name": "stdout",
     "output_type": "stream",
     "text": [
      "True\n",
      "False\n"
     ]
    }
   ],
   "source": [
    "def complicated_3g(stringa):\n",
    "    gcounter = 0\n",
    "    for char in stringa:\n",
    "        if char == \"G\":\n",
    "            gcounter += 1\n",
    "    if gcounter >= 3:\n",
    "        return True\n",
    "    else:\n",
    "        return False\n",
    "    \n",
    "theword = \"GAGGA\"\n",
    "print(complicated_3g(theword))\n",
    "\n",
    "theotherword = \"zassz\"\n",
    "print(complicated_3g(theotherword))"
   ]
  },
  {
   "cell_type": "markdown",
   "metadata": {},
   "source": [
    "#### 2) Write a function that takes as input \n",
    "* a list (the list must contain at least two elements) and \n",
    "* returns the maximum of the last two elements of the list"
   ]
  },
  {
   "cell_type": "code",
   "execution_count": 23,
   "metadata": {},
   "outputs": [
    {
     "data": {
      "text/plain": [
       "100"
      ]
     },
     "execution_count": 23,
     "metadata": {},
     "output_type": "execute_result"
    }
   ],
   "source": [
    "def maxli(lista):\n",
    "    lastel = lista[-1]\n",
    "    secondlast = lista[-2]\n",
    "    if lastel > secondlast:\n",
    "        return lastel\n",
    "    elif lastel == secondlast:\n",
    "        return \"The two elements are of equal value!\"\n",
    "    else:\n",
    "        return secondlast\n",
    "    \n",
    "lis = [0,19,20,100,4]\n",
    "\n",
    "maxli(lis)"
   ]
  },
  {
   "cell_type": "markdown",
   "metadata": {},
   "source": [
    "#### 3) write a function that takes as \n",
    "* input a file and \n",
    "* returns the number of characters \n",
    "    - of the first line of the file \n",
    "    - (assume that the file exists and has at least two lines). \n",
    "* Then, call the function with a file that has been taken from input\n"
   ]
  },
  {
   "cell_type": "code",
   "execution_count": 25,
   "metadata": {},
   "outputs": [
    {
     "name": "stdin",
     "output_type": "stream",
     "text": [
      "Please enter a filename.  seqtest.txt\n"
     ]
    },
    {
     "data": {
      "text/plain": [
       "7"
      ]
     },
     "execution_count": 25,
     "metadata": {},
     "output_type": "execute_result"
    }
   ],
   "source": [
    "def countchar(afile):\n",
    "    \"Readsfunction returns also \\n character\"\n",
    "    f = open(afile, \"r\")\n",
    "    line1 = f.readline() # returns string \n",
    "    num_char_line1 = len(line1)\n",
    "    return num_char_line1\n",
    "\n",
    "userfile = input(\"Please enter a filename. \")\n",
    "\n",
    "countchar(userfile) # "
   ]
  },
  {
   "cell_type": "markdown",
   "metadata": {},
   "source": [
    "#### 4) write a program that asks the user for a string\n",
    "* until the user writes \"Hello!\" \n",
    "*then print the number of inserted strings"
   ]
  },
  {
   "cell_type": "code",
   "execution_count": 31,
   "metadata": {},
   "outputs": [
    {
     "name": "stdin",
     "output_type": "stream",
     "text": [
      " Hello?\n",
      " Hello!\n"
     ]
    },
    {
     "name": "stdout",
     "output_type": "stream",
     "text": [
      "2\n"
     ]
    }
   ],
   "source": [
    "number_of_inserted_strings = 0 # init counter\n",
    "user_input = '' # need to initialize var as empty string.\n",
    "while user_input != \"Hello!\":\n",
    "    user_input = input()\n",
    "    number_of_inserted_strings += 1\n",
    "print(number_of_inserted_strings)"
   ]
  },
  {
   "cell_type": "markdown",
   "metadata": {},
   "source": [
    "Just to play - pack it into a function:"
   ]
  },
  {
   "cell_type": "code",
   "execution_count": 33,
   "metadata": {},
   "outputs": [
    {
     "name": "stdin",
     "output_type": "stream",
     "text": [
      " Hello?\n",
      " Hello!\n"
     ]
    },
    {
     "data": {
      "text/plain": [
       "2"
      ]
     },
     "execution_count": 33,
     "metadata": {},
     "output_type": "execute_result"
    }
   ],
   "source": [
    "def hello_f():\n",
    "    number_of_inserted_strings = 0 # init counter\n",
    "    user_input = '' # need to initialize var as empty string.\n",
    "    while user_input != \"Hello!\":\n",
    "        user_input = input()\n",
    "        number_of_inserted_strings += 1\n",
    "    return number_of_inserted_strings\n",
    "\n",
    "print(hello_f())"
   ]
  }
 ],
 "metadata": {
  "kernelspec": {
   "display_name": "Python 3",
   "language": "python",
   "name": "python3"
  },
  "language_info": {
   "codemirror_mode": {
    "name": "ipython",
    "version": 3
   },
   "file_extension": ".py",
   "mimetype": "text/x-python",
   "name": "python",
   "nbconvert_exporter": "python",
   "pygments_lexer": "ipython3",
   "version": "3.7.2"
  }
 },
 "nbformat": 4,
 "nbformat_minor": 4
}
