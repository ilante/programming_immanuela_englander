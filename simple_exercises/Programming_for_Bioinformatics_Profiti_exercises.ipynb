{
 "cells": [
  {
   "cell_type": "markdown",
   "metadata": {},
   "source": [
    "# Introductory exercises\n",
    "# Programming for Bioinformatics\n",
    "#### (Originally from Giuseppe Profiti)\n",
    "\n",
    "For each set of exercises, the slides needed are used as section title.\n",
    "\n",
    "# 1. Python-basic\n",
    "\n",
    "1. assign the value 7 to a variable, print it"
   ]
  },
  {
   "cell_type": "code",
   "execution_count": 1,
   "metadata": {},
   "outputs": [
    {
     "name": "stdout",
     "output_type": "stream",
     "text": [
      "7\n"
     ]
    }
   ],
   "source": [
    "var1 = 7\n",
    "print(var1)"
   ]
  },
  {
   "cell_type": "markdown",
   "metadata": {},
   "source": [
    "2. assign the value 3.14 to another variable"
   ]
  },
  {
   "cell_type": "code",
   "execution_count": 2,
   "metadata": {},
   "outputs": [
    {
     "name": "stdout",
     "output_type": "stream",
     "text": [
      "3.14\n"
     ]
    }
   ],
   "source": [
    "var2 = 3.14\n",
    "print(var2)"
   ]
  },
  {
   "cell_type": "markdown",
   "metadata": {},
   "source": [
    "3. check if the first variable value is even; what can you use?\n",
    "\n",
    "\n"
   ]
  },
  {
   "cell_type": "code",
   "execution_count": 3,
   "metadata": {},
   "outputs": [
    {
     "data": {
      "text/plain": [
       "False"
      ]
     },
     "execution_count": 3,
     "metadata": {},
     "output_type": "execute_result"
    }
   ],
   "source": [
    "var1%2 == 0"
   ]
  },
  {
   "cell_type": "markdown",
   "metadata": {},
   "source": [
    "Double-click __here__ for the solution.\n",
    "<!-- Your answer is below:\n",
    "modulo is assigned to the symbol % in python and shows you the rest \n",
    "var1%2 == 0\n",
    "-->"
   ]
  },
  {
   "cell_type": "markdown",
   "metadata": {},
   "source": [
    "4. evaluate the average of the two variables"
   ]
  },
  {
   "cell_type": "code",
   "execution_count": 4,
   "metadata": {},
   "outputs": [
    {
     "name": "stdout",
     "output_type": "stream",
     "text": [
      "5.07\n"
     ]
    }
   ],
   "source": [
    "avr = (var1 + var2) / 2\n",
    "print(avr)"
   ]
  },
  {
   "cell_type": "markdown",
   "metadata": {},
   "source": [
    "Double-click __here__ for more explanation.\n",
    "\n",
    "<!-- Remember that a single / gives you a float as output \n",
    "while the  // is for integer division and rounds down to the next integer -->"
   ]
  },
  {
   "cell_type": "code",
   "execution_count": 5,
   "metadata": {},
   "outputs": [
    {
     "name": "stdout",
     "output_type": "stream",
     "text": [
      "2\n"
     ]
    }
   ],
   "source": [
    "print(5//2)"
   ]
  },
  {
   "cell_type": "markdown",
   "metadata": {},
   "source": [
    "5. change the value of the first variable with its double, subtract 1 to it and put the result into a third variable"
   ]
  },
  {
   "cell_type": "code",
   "execution_count": 6,
   "metadata": {},
   "outputs": [
    {
     "name": "stdout",
     "output_type": "stream",
     "text": [
      "13\n"
     ]
    }
   ],
   "source": [
    "var3 = (var1*2)-1\n",
    "print(var3)"
   ]
  },
  {
   "cell_type": "markdown",
   "metadata": {},
   "source": [
    "6. assign values to the four variables x1, y1, x2, y2"
   ]
  },
  {
   "cell_type": "code",
   "execution_count": 7,
   "metadata": {},
   "outputs": [],
   "source": [
    "x1 = 1\n",
    "y1 = 2\n",
    "x2 = 3\n",
    "y2 = 4"
   ]
  },
  {
   "cell_type": "markdown",
   "metadata": {},
   "source": [
    "7. evaluate the euclidean distance for the points (x1,y1) and (x2,y2)"
   ]
  },
  {
   "cell_type": "code",
   "execution_count": 8,
   "metadata": {},
   "outputs": [
    {
     "name": "stdout",
     "output_type": "stream",
     "text": [
      "4\n"
     ]
    }
   ],
   "source": [
    "euc_dist = (x2 - x1)+(y2 - y1)\n",
    "print(euc_dist)"
   ]
  },
  {
   "cell_type": "markdown",
   "metadata": {},
   "source": [
    "# 2. Python-strings"
   ]
  },
  {
   "cell_type": "markdown",
   "metadata": {},
   "source": [
    "1. assign the string “fire and ice” to a variable\n"
   ]
  },
  {
   "cell_type": "code",
   "execution_count": 9,
   "metadata": {},
   "outputs": [],
   "source": [
    "str = 'fire and ice'"
   ]
  },
  {
   "cell_type": "markdown",
   "metadata": {},
   "source": [
    "Double-click __here__ for more explanation.\n",
    "\n",
    "<!-- Remember indexing starts at 0. That means the string above is inexed as follows\n",
    "-->"
   ]
  },
  {
   "cell_type": "markdown",
   "metadata": {},
   "source": [
    "2. print the third character of the string\n",
    "\n",
    "| 0 | 1 | 2 | 3 | 4 | 5 | 6 | 7 | 8 | 9 | 10 | 11 |\n",
    "|:---:|:---:|:---:|:---:|:---:|:---:|:---:|:---:|:---:|:---:|:---:|:---:|\n",
    "| f | i | r | e | _  | a | n | d |  _ | i | c  | e  |\n",
    "| 1 | 2 | 3 | 4 | 5 | 6 | 7 | 8 | 9 | 10 | 11| 12 |\n"
   ]
  },
  {
   "cell_type": "code",
   "execution_count": 10,
   "metadata": {},
   "outputs": [
    {
     "name": "stdout",
     "output_type": "stream",
     "text": [
      "r\n"
     ]
    }
   ],
   "source": [
    "print(str[2])"
   ]
  },
  {
   "cell_type": "markdown",
   "metadata": {},
   "source": [
    "3. print the fifth character\n"
   ]
  },
  {
   "cell_type": "code",
   "execution_count": 11,
   "metadata": {},
   "outputs": [
    {
     "name": "stdout",
     "output_type": "stream",
     "text": [
      " \n"
     ]
    }
   ],
   "source": [
    "print(str[4])"
   ]
  },
  {
   "cell_type": "markdown",
   "metadata": {},
   "source": [
    "Why did it not print anything? Double-click __here__ for more explanation.\n",
    "\n",
    "<!-- The white space is considered a character, so you cant see it being printed instead you would see and empty line in the terminal.\n",
    "-->"
   ]
  },
  {
   "cell_type": "markdown",
   "metadata": {},
   "source": [
    "4. print the tenth character, print the last character, print the second-last\n"
   ]
  },
  {
   "cell_type": "code",
   "execution_count": 12,
   "metadata": {},
   "outputs": [
    {
     "name": "stdout",
     "output_type": "stream",
     "text": [
      "Thenth character:  i\n",
      "last character:  e\n",
      "second-last character:  c\n"
     ]
    }
   ],
   "source": [
    "print(\"Thenth character: \", str[9])\n",
    "print('last character: ', str[-1])\n",
    "print('second-last character: ', str[-2])\n"
   ]
  },
  {
   "cell_type": "markdown",
   "metadata": {},
   "source": [
    "5. print the characters in even position\n"
   ]
  },
  {
   "cell_type": "code",
   "execution_count": 13,
   "metadata": {},
   "outputs": [
    {
     "name": "stdout",
     "output_type": "stream",
     "text": [
      "fr n c\n"
     ]
    }
   ],
   "source": [
    "even = str[::2]\n",
    "print(even)"
   ]
  },
  {
   "cell_type": "markdown",
   "metadata": {},
   "source": [
    "6. print the characters in odd position\n"
   ]
  },
  {
   "cell_type": "code",
   "execution_count": 14,
   "metadata": {},
   "outputs": [
    {
     "name": "stdout",
     "output_type": "stream",
     "text": [
      "ieadie\n"
     ]
    }
   ],
   "source": [
    "odd = str[1::2]\n",
    "print(odd)"
   ]
  },
  {
   "cell_type": "markdown",
   "metadata": {},
   "source": [
    "7. print the first half of the string"
   ]
  },
  {
   "cell_type": "code",
   "execution_count": 15,
   "metadata": {},
   "outputs": [
    {
     "name": "stdout",
     "output_type": "stream",
     "text": [
      "fire a\n"
     ]
    }
   ],
   "source": [
    "first_half = str[:(len(str)//2)]\n",
    "print(first_half)"
   ]
  },
  {
   "cell_type": "markdown",
   "metadata": {},
   "source": [
    "8. print the whole string in reverse\n"
   ]
  },
  {
   "cell_type": "code",
   "execution_count": 16,
   "metadata": {},
   "outputs": [
    {
     "name": "stdout",
     "output_type": "stream",
     "text": [
      "eci dna erif\n"
     ]
    }
   ],
   "source": [
    "print(str[::-1])"
   ]
  },
  {
   "cell_type": "markdown",
   "metadata": {},
   "source": [
    "9. count the number of “i” and “e” in the string"
   ]
  },
  {
   "cell_type": "code",
   "execution_count": 17,
   "metadata": {},
   "outputs": [
    {
     "name": "stdout",
     "output_type": "stream",
     "text": [
      "number of \"i\"  2\n",
      "number of \"e\"  2\n"
     ]
    }
   ],
   "source": [
    "print('number of \"i\" ', str.count('i'))\n",
    "print('number of \"e\" ', str.count('e'))"
   ]
  },
  {
   "cell_type": "markdown",
   "metadata": {},
   "source": [
    "10. replace the word “and” with “&”\n"
   ]
  },
  {
   "cell_type": "code",
   "execution_count": 18,
   "metadata": {},
   "outputs": [
    {
     "name": "stdout",
     "output_type": "stream",
     "text": [
      "fire & ice\n"
     ]
    }
   ],
   "source": [
    "str = str.replace('and', '&')\n",
    "print(str)"
   ]
  },
  {
   "cell_type": "markdown",
   "metadata": {},
   "source": [
    "11. check if the string contains the string “fire”"
   ]
  },
  {
   "cell_type": "code",
   "execution_count": 19,
   "metadata": {},
   "outputs": [
    {
     "data": {
      "text/plain": [
       "True"
      ]
     },
     "execution_count": 19,
     "metadata": {},
     "output_type": "execute_result"
    }
   ],
   "source": [
    "'fire' in str"
   ]
  },
  {
   "cell_type": "markdown",
   "metadata": {},
   "source": [
    "12. check if the string contains the string “re and”"
   ]
  },
  {
   "cell_type": "code",
   "execution_count": 20,
   "metadata": {},
   "outputs": [
    {
     "data": {
      "text/plain": [
       "False"
      ]
     },
     "execution_count": 20,
     "metadata": {},
     "output_type": "execute_result"
    }
   ],
   "source": [
    "'re and' in str"
   ]
  },
  {
   "cell_type": "markdown",
   "metadata": {},
   "source": [
    "13. check if the string contains the string “re &”"
   ]
  },
  {
   "cell_type": "code",
   "execution_count": 21,
   "metadata": {},
   "outputs": [
    {
     "data": {
      "text/plain": [
       "True"
      ]
     },
     "execution_count": 21,
     "metadata": {},
     "output_type": "execute_result"
    }
   ],
   "source": [
    "'re &' in str"
   ]
  },
  {
   "cell_type": "markdown",
   "metadata": {},
   "source": [
    "14. print the position of the first “e”"
   ]
  },
  {
   "cell_type": "code",
   "execution_count": 22,
   "metadata": {},
   "outputs": [
    {
     "name": "stdout",
     "output_type": "stream",
     "text": [
      "3\n"
     ]
    }
   ],
   "source": [
    "first_e = str.find('e')\n",
    "print(first_e)"
   ]
  },
  {
   "cell_type": "markdown",
   "metadata": {},
   "source": [
    "15. print the position of the last “e”"
   ]
  },
  {
   "cell_type": "code",
   "execution_count": 23,
   "metadata": {},
   "outputs": [
    {
     "name": "stdout",
     "output_type": "stream",
     "text": [
      "9\n",
      "9\n",
      "9\n"
     ]
    }
   ],
   "source": [
    "last_e = str.rfind('e')\n",
    "print(last_e)\n",
    "\n",
    "#or\n",
    "reverse=str[-1::-1]\n",
    "le=len(str)-reverse.find(\"e\")-1\n",
    "print(le)\n",
    "\n",
    "#or\n",
    "n=0\n",
    "m = 0\n",
    "for i in str:\n",
    "    if i == \"e\":\n",
    "        m = n\n",
    "    n= n+1\n",
    "print(m)"
   ]
  },
  {
   "cell_type": "markdown",
   "metadata": {},
   "source": [
    " # 3. Python-functions\n",
    "\n",
    "1. define a function called “increase” that adds one to a given number"
   ]
  },
  {
   "cell_type": "code",
   "execution_count": 24,
   "metadata": {},
   "outputs": [
    {
     "name": "stdout",
     "output_type": "stream",
     "text": [
      "5\n"
     ]
    }
   ],
   "source": [
    "def increase(num):\n",
    "    num += 1\n",
    "    return num\n",
    "\n",
    "print(increase(4))"
   ]
  },
  {
   "cell_type": "markdown",
   "metadata": {},
   "source": [
    "2. define a function called “add” that returns the sum of two numbers"
   ]
  },
  {
   "cell_type": "code",
   "execution_count": 25,
   "metadata": {},
   "outputs": [
    {
     "name": "stdout",
     "output_type": "stream",
     "text": [
      "7\n"
     ]
    }
   ],
   "source": [
    "def add(num1, num2):\n",
    "    summe = num1 + num2\n",
    "    return summe\n",
    "\n",
    "print(add(2, 5))"
   ]
  },
  {
   "cell_type": "markdown",
   "metadata": {},
   "source": [
    "3. define a function called “add3” that returns the sum of three numbers"
   ]
  },
  {
   "cell_type": "code",
   "execution_count": 26,
   "metadata": {},
   "outputs": [
    {
     "name": "stdout",
     "output_type": "stream",
     "text": [
      "7\n"
     ]
    }
   ],
   "source": [
    "def add3(n1, n2, n3):\n",
    "    sum3 =n1+n2+n3\n",
    "    return sum3\n",
    "    \n",
    "print(add3(2,3,2))"
   ]
  },
  {
   "cell_type": "markdown",
   "metadata": {},
   "source": [
    "4. define a function called “add5” that returns the sum of five numbers"
   ]
  },
  {
   "cell_type": "code",
   "execution_count": 27,
   "metadata": {},
   "outputs": [
    {
     "name": "stdout",
     "output_type": "stream",
     "text": [
      "9\n"
     ]
    }
   ],
   "source": [
    "def add5(n1, n2, n3, n4, n5):\n",
    "    sum5 =n1+n2+n3+n4+n5\n",
    "    return sum5\n",
    "    \n",
    "print(add5(2,3,2,1,1))"
   ]
  },
  {
   "cell_type": "markdown",
   "metadata": {},
   "source": [
    "5. define a function that takes as input a **number** and a **string** and returns as many copies of the string as specified by the number. I.e. manyTimes(3,’dad’) should return ‘daddaddad’"
   ]
  },
  {
   "cell_type": "code",
   "execution_count": 28,
   "metadata": {},
   "outputs": [
    {
     "name": "stdout",
     "output_type": "stream",
     "text": [
      "annannann\n"
     ]
    }
   ],
   "source": [
    "def manyti(num, stri):\n",
    "    manyvar = num*stri\n",
    "    return manyvar\n",
    "\n",
    "print(manyti(3, 'ann'))"
   ]
  },
  {
   "cell_type": "markdown",
   "metadata": {},
   "source": [
    "6. modify the previous function so that it returns something like ‘dad,dad,dad’"
   ]
  },
  {
   "cell_type": "code",
   "execution_count": 29,
   "metadata": {},
   "outputs": [
    {
     "name": "stdout",
     "output_type": "stream",
     "text": [
      "ann,ann,ann\n"
     ]
    }
   ],
   "source": [
    "def manyti(num, stri):\n",
    "    manyvar = num*(stri+',') # the comma must be concattenated\n",
    "    return manyvar[:-1] # to prevent the last ',' from being printed we must not print the last character.\n",
    "\n",
    "print(manyti(3, 'ann'))"
   ]
  },
  {
   "cell_type": "markdown",
   "metadata": {},
   "source": [
    "7. modify the function at point 6 so you can specify a separator instead of just using the comma like in point 6"
   ]
  },
  {
   "cell_type": "code",
   "execution_count": 30,
   "metadata": {},
   "outputs": [
    {
     "name": "stdout",
     "output_type": "stream",
     "text": [
      "ann,ann,ann\n"
     ]
    }
   ],
   "source": [
    "def manyti_sep(num, stri, sepperator):\n",
    "    manyvar = num*(stri + sepperator) # the stri and sepperator are concattenated\n",
    "    return manyvar[:-1] # to prevent the last ',' from being printed we must not print the last character.\n",
    "\n",
    "print(manyti_sep(3, 'ann', ','))"
   ]
  },
  {
   "cell_type": "markdown",
   "metadata": {},
   "source": [
    "#   4. Python-lists and for loops"
   ]
  },
  {
   "cell_type": "markdown",
   "metadata": {},
   "source": [
    "1. merge the lists `[4,8,-9,”the”]` and `[“silent force”, 4.67, 9]`"
   ]
  },
  {
   "cell_type": "code",
   "execution_count": 31,
   "metadata": {},
   "outputs": [
    {
     "name": "stdout",
     "output_type": "stream",
     "text": [
      "[4, 8, -9, 'the', 'silent force', 4.67, 9]\n"
     ]
    }
   ],
   "source": [
    "li1 = [4,8,-9,'the']\n",
    "li2 = ['silent force', 4.67, 9]\n",
    "mergedlist = li1+li2\n",
    "print(mergedlist)"
   ]
  },
  {
   "cell_type": "markdown",
   "metadata": {},
   "source": [
    "2. extract the numbers from the string “23|64|354|-123”"
   ]
  },
  {
   "cell_type": "code",
   "execution_count": 32,
   "metadata": {},
   "outputs": [
    {
     "name": "stdout",
     "output_type": "stream",
     "text": [
      "['23', '64', '354', '-123']\n"
     ]
    }
   ],
   "source": [
    "numstri = '23|64|354|-123'\n",
    "numli = numstri.split('|')\n",
    "print(numli)"
   ]
  },
  {
   "cell_type": "markdown",
   "metadata": {},
   "source": [
    "Remember `<stringname>.split()` is a method that splits a string on whitespace by default. You can split on other characters in the in `\"str\".split('here')` by specifying it between ('').\n",
    "Note that the list is still as list of elements of the class string.\n",
    "To generate a list of integers we have to transform it."
   ]
  },
  {
   "cell_type": "code",
   "execution_count": 33,
   "metadata": {},
   "outputs": [
    {
     "name": "stdout",
     "output_type": "stream",
     "text": [
      "[23, 64, 354, -123]\n"
     ]
    }
   ],
   "source": [
    "intli = []   # the new list must be created outside of the for loop !!!\n",
    "for element in numli:\n",
    "    intli.append(int(element))\n",
    "    \n",
    "print(intli)"
   ]
  },
  {
   "cell_type": "markdown",
   "metadata": {},
   "source": [
    "3. define a function called “addlist” that returns the sum of the elements of any list"
   ]
  },
  {
   "cell_type": "code",
   "execution_count": 34,
   "metadata": {},
   "outputs": [
    {
     "name": "stdout",
     "output_type": "stream",
     "text": [
      "6\n"
     ]
    }
   ],
   "source": [
    "def addlist(li):\n",
    "    lisum = 0        # we have to define a variable for the sum\n",
    "    for element in li:\n",
    "        lisum += element # each iteration the lisum is incremented by the value of the that the variable element represents\n",
    "    return lisum\n",
    "\n",
    "print(addlist([1,2,3]))"
   ]
  },
  {
   "cell_type": "markdown",
   "metadata": {},
   "source": [
    "4. use the function addlist from point 3 to sum the numbers from point 2"
   ]
  },
  {
   "cell_type": "code",
   "execution_count": 35,
   "metadata": {},
   "outputs": [
    {
     "name": "stdout",
     "output_type": "stream",
     "text": [
      "318\n"
     ]
    }
   ],
   "source": [
    "def addlist(li):\n",
    "    lisum = 0        # we have to define a variable for the sum\n",
    "    for element in li:\n",
    "        lisum += element # each iteration the lisum is incremented by the value of the that the variable element represents\n",
    "    return lisum\n",
    "\n",
    "print(addlist(intli))"
   ]
  },
  {
   "cell_type": "markdown",
   "metadata": {},
   "source": [
    "5. write a function that takes a list of integers and computes the list of its partial sums"
   ]
  },
  {
   "cell_type": "code",
   "execution_count": 36,
   "metadata": {},
   "outputs": [
    {
     "data": {
      "text/plain": [
       "[1, 3, 6, 10, 15]"
      ]
     },
     "execution_count": 36,
     "metadata": {},
     "output_type": "execute_result"
    }
   ],
   "source": [
    "lia = [1, 2, 3, 4, 5]\n",
    "\n",
    "def partial_sum(li):\n",
    "    par_sum_li = []\n",
    "    thesum = 0\n",
    "    for el in li:\n",
    "        thesum += el\n",
    "        par_sum_li.append(thesum)\n",
    "    return par_sum_li\n",
    "\n",
    "partial_sum(lia)\n",
    "        "
   ]
  },
  {
   "cell_type": "markdown",
   "metadata": {},
   "source": [
    "6. write a function that takes an integer n and prints a square of n*n #"
   ]
  },
  {
   "cell_type": "code",
   "execution_count": 37,
   "metadata": {},
   "outputs": [
    {
     "name": "stdout",
     "output_type": "stream",
     "text": [
      "16\n"
     ]
    }
   ],
   "source": [
    "def sqrfct(inte):\n",
    "    sq = inte*inte\n",
    "    \n",
    "    return sq\n",
    "\n",
    "print(sqrfct(4))"
   ]
  },
  {
   "cell_type": "markdown",
   "metadata": {},
   "source": [
    "7. print the multiplication table"
   ]
  },
  {
   "cell_type": "markdown",
   "metadata": {},
   "source": [
    "fkt given a list and a number, returns a new list muliplied by that number"
   ]
  },
  {
   "cell_type": "code",
   "execution_count": 78,
   "metadata": {},
   "outputs": [
    {
     "name": "stdout",
     "output_type": "stream",
     "text": [
      "[4, 8, 12, 160]\n"
     ]
    }
   ],
   "source": [
    "def list_times_num(li, num):\n",
    "    newlist=[]\n",
    "    for i in gialist:\n",
    "        newlist.append(i*num)\n",
    "    return newlist\n",
    "\n",
    "gialist = [1,2,3, 40]\n",
    "num = 4\n",
    "print(list_times_num(gialist, num))"
   ]
  },
  {
   "cell_type": "code",
   "execution_count": 61,
   "metadata": {},
   "outputs": [
    {
     "name": "stdout",
     "output_type": "stream",
     "text": [
      "[1, 2, 3, 4, 5, 6, 7, 8, 9, 10]\n",
      "[2, 4, 6, 8, 10, 12, 14, 16, 18, 20]\n",
      "[3, 6, 9, 12, 15, 18, 21, 24, 27, 30]\n",
      "[4, 8, 12, 16, 20, 24, 28, 32, 36, 40]\n",
      "[5, 10, 15, 20, 25, 30, 35, 40, 45, 50]\n",
      "[6, 12, 18, 24, 30, 36, 42, 48, 54, 60]\n",
      "[7, 14, 21, 28, 35, 42, 49, 56, 63, 70]\n",
      "[8, 16, 24, 32, 40, 48, 56, 64, 72, 80]\n",
      "[9, 18, 27, 36, 45, 54, 63, 72, 81, 90]\n",
      "[10, 20, 30, 40, 50, 60, 70, 80, 90, 100]\n"
     ]
    }
   ],
   "source": [
    "def multab(num):\n",
    "    conum = []\n",
    "    for i in range(1, num+1):\n",
    "        conum.append(i)\n",
    "    print(conum)\n",
    "    for j in range(2, num+1): # so we start multiplying by 2\n",
    "        regenerator=[]\n",
    "        for element in conum:\n",
    "            regenerator.append(j*element)\n",
    "        print(regenerator)\n",
    "        \n",
    "multab(10)\n"
   ]
  },
  {
   "cell_type": "code",
   "execution_count": null,
   "metadata": {},
   "outputs": [],
   "source": [
    "def multiplication_table(num):    \n",
    "    firstrow = []\n",
    "    for nu in range"
   ]
  },
  {
   "cell_type": "markdown",
   "metadata": {},
   "source": [
    "# 5. Python-if and files\n",
    "1. create a list of numbers from 3 to 12"
   ]
  },
  {
   "cell_type": "code",
   "execution_count": 64,
   "metadata": {},
   "outputs": [
    {
     "name": "stdout",
     "output_type": "stream",
     "text": [
      "[3, 4, 5, 6, 7, 8, 9, 10, 11, 12]\n"
     ]
    }
   ],
   "source": [
    "li = []\n",
    "for el in range(3,13):\n",
    "    li.append(el)\n",
    "print(li)"
   ]
  },
  {
   "cell_type": "markdown",
   "metadata": {},
   "source": [
    "2. print the numbers of the list that are odd"
   ]
  },
  {
   "cell_type": "code",
   "execution_count": 67,
   "metadata": {},
   "outputs": [
    {
     "name": "stdout",
     "output_type": "stream",
     "text": [
      "[3, 5, 7, 9, 11]\n"
     ]
    }
   ],
   "source": [
    "odd=[]\n",
    "for i in li:\n",
    "    if i%2 != 0:\n",
    "        odd.append(i)\n",
    "print(odd)"
   ]
  },
  {
   "cell_type": "markdown",
   "metadata": {},
   "source": [
    "3. print the numbers of the list that are multiples of 5"
   ]
  },
  {
   "cell_type": "code",
   "execution_count": 70,
   "metadata": {},
   "outputs": [
    {
     "name": "stdout",
     "output_type": "stream",
     "text": [
      "[5, 10]\n"
     ]
    }
   ],
   "source": [
    "def mul5(lis):\n",
    "    mul5li = []\n",
    "    for i in lis:\n",
    "        if i%5 == 0:\n",
    "            mul5li.append(i)\n",
    "    return mul5li\n",
    "\n",
    "print(mul5(li))"
   ]
  },
  {
   "cell_type": "markdown",
   "metadata": {},
   "source": [
    "4. put the values 5,2,7,8,1,-3 in a list, in this order"
   ]
  },
  {
   "cell_type": "code",
   "execution_count": 72,
   "metadata": {},
   "outputs": [],
   "source": [
    "orli = [5,2,7,8,1,-3]"
   ]
  },
  {
   "cell_type": "markdown",
   "metadata": {},
   "source": [
    "5. print the first and the third value in the list"
   ]
  },
  {
   "cell_type": "code",
   "execution_count": 73,
   "metadata": {},
   "outputs": [
    {
     "name": "stdout",
     "output_type": "stream",
     "text": [
      "7\n",
      "8\n"
     ]
    }
   ],
   "source": [
    "for i in range(len(orli)):\n",
    "    if i == 2:\n",
    "        print(orli[i])\n",
    "    elif i == 3:\n",
    "        print(orli[i])\n",
    "        "
   ]
  },
  {
   "cell_type": "markdown",
   "metadata": {},
   "source": [
    "6. print the double of all the values in the list"
   ]
  },
  {
   "cell_type": "code",
   "execution_count": 81,
   "metadata": {},
   "outputs": [
    {
     "name": "stdout",
     "output_type": "stream",
     "text": [
      "[10, 4, 14, 16, 2, -6]\n"
     ]
    }
   ],
   "source": [
    "def doli(li):\n",
    "    lidob=[]\n",
    "    for el in li:\n",
    "        lidob.append(el*2)\n",
    "    return lidob\n",
    "\n",
    "print(doli(orli))"
   ]
  },
  {
   "cell_type": "markdown",
   "metadata": {},
   "source": [
    "7. print each value in the list after doubling it, subtracting 2 and dividing by 3"
   ]
  },
  {
   "cell_type": "code",
   "execution_count": 83,
   "metadata": {},
   "outputs": [
    {
     "name": "stdout",
     "output_type": "stream",
     "text": [
      "[1.0, 0.0, 1.6666666666666667, 2.0, -0.3333333333333333, -1.6666666666666667]\n"
     ]
    }
   ],
   "source": [
    "def do_mi2_div3(li):\n",
    "    crali=[]\n",
    "    for el in li:\n",
    "        crali.append((el-2)/3)\n",
    "    return crali\n",
    "\n",
    "print(do_mi2_div3(orli))"
   ]
  },
  {
   "cell_type": "markdown",
   "metadata": {},
   "source": [
    "8. print the sum of all the numbers in the list"
   ]
  },
  {
   "cell_type": "code",
   "execution_count": 86,
   "metadata": {},
   "outputs": [
    {
     "name": "stdout",
     "output_type": "stream",
     "text": [
      "20\n",
      "2.666666666666667\n"
     ]
    }
   ],
   "source": [
    "def sumli(li):\n",
    "    sum=0\n",
    "    for el in li:\n",
    "        sum += el\n",
    "    return sum\n",
    "\n",
    "print(sumli(orli))\n",
    "print(sumli(do_mi2_div3(orli)))"
   ]
  },
  {
   "cell_type": "markdown",
   "metadata": {},
   "source": [
    "9. print the minimum value in the list"
   ]
  },
  {
   "cell_type": "code",
   "execution_count": 137,
   "metadata": {},
   "outputs": [
    {
     "name": "stdout",
     "output_type": "stream",
     "text": [
      "-3\n",
      "Input not numeric\n"
     ]
    }
   ],
   "source": [
    "def my_min(li):\n",
    "    min = li[0] #define a minimum\n",
    "    for el in li: # looping through the list\n",
    "        if el <= li[0]: \n",
    "            min = el  # redifineing min with the value of el\n",
    "        else:\n",
    "            continue\n",
    "    return min\n",
    "        \n",
    "# min = li[0]   \n",
    "kleineli = [1, 2, -3, 5]\n",
    "print(my_min(kleineli))\n",
    "\n",
    "def isnumli(li):\n",
    "    if type(li) == list:\n",
    "        for el in li:\n",
    "            if not(type(el) == type(1) or type(el) == type(1.0)):\n",
    "                return 'Input not numeric' \n",
    "        return my_min(li)\n",
    "    \n",
    "print(isnumli([-6,'a',1]))\n"
   ]
  },
  {
   "cell_type": "markdown",
   "metadata": {},
   "source": [
    "10. print the maximum value in the list"
   ]
  },
  {
   "cell_type": "code",
   "execution_count": 139,
   "metadata": {},
   "outputs": [
    {
     "name": "stdout",
     "output_type": "stream",
     "text": [
      "800\n"
     ]
    }
   ],
   "source": [
    "def my_max(li):\n",
    "    themax=li[0]\n",
    "    for el in li:\n",
    "        if el >= themax:\n",
    "            themax = el\n",
    "    return themax\n",
    "\n",
    "def checknumli(li):\n",
    "    if type(li) == list:\n",
    "        for el in li:\n",
    "            if not(type(el) == type(1) or type(el) == type(1.0)):\n",
    "                return 'Input not numeric'\n",
    "        return my_max(li)\n",
    "\n",
    "print(checknumli([3,8,100,-30,800]))"
   ]
  },
  {
   "cell_type": "markdown",
   "metadata": {},
   "source": [
    "11. print the average value"
   ]
  },
  {
   "cell_type": "code",
   "execution_count": 140,
   "metadata": {},
   "outputs": [
    {
     "name": "stdout",
     "output_type": "stream",
     "text": [
      "20.933333333333334\n"
     ]
    }
   ],
   "source": [
    "def my_average(li):\n",
    "    #avr=0\n",
    "    elsum=0\n",
    "    for el in li:\n",
    "        elsum += el\n",
    "    avr = elsum/len(li)\n",
    "    return avr\n",
    "\n",
    "print(my_average([20, 2.8, 40]))\n",
    "        "
   ]
  },
  {
   "cell_type": "markdown",
   "metadata": {},
   "source": [
    "12. put the string “avocado” in a variable and the string “radar” in another one"
   ]
  },
  {
   "cell_type": "code",
   "execution_count": 141,
   "metadata": {},
   "outputs": [],
   "source": [
    "av = 'avocoado'\n",
    "ra = 'radar'"
   ]
  },
  {
   "cell_type": "markdown",
   "metadata": {},
   "source": [
    "13. print both strings in reverse"
   ]
  },
  {
   "cell_type": "code",
   "execution_count": 148,
   "metadata": {},
   "outputs": [
    {
     "name": "stdout",
     "output_type": "stream",
     "text": [
      "odaocova\n",
      "radar\n",
      "odaocova\n",
      "radar\n"
     ]
    }
   ],
   "source": [
    "print(av[::-1])\n",
    "print(ra[::-1])\n",
    "\n",
    "#or\n",
    "reversedstring1=''.join(reversed(av))\n",
    "reversedstring2=''.join(reversed(ra))\n",
    "\n",
    "print(reversedstring1)\n",
    "print(reversedstring2)"
   ]
  },
  {
   "cell_type": "markdown",
   "metadata": {},
   "source": [
    "14. evaluate whether any of the two strings is a palindrome (i.e. a string is palindrome if it \n",
    "can be read in the same way both from left to right and from right to left)"
   ]
  },
  {
   "cell_type": "code",
   "execution_count": 157,
   "metadata": {},
   "outputs": [
    {
     "name": "stdout",
     "output_type": "stream",
     "text": [
      "True\n",
      "('The string ', 'radar', 'is a palindrome.')\n"
     ]
    }
   ],
   "source": [
    "def is_palin(st1, st2):\n",
    "    if st1[::-1] == st1 or st2[::-1] == st2:\n",
    "        return True\n",
    "\n",
    "print(is_palin(av, ra))\n",
    "\n",
    "# 14.a now to determine which is the palindrome:\n",
    "\n",
    "def which_pali(st1, st2):\n",
    "    if st1[::-1] == st1:\n",
    "        return 'The string ', st1, 'is a palindrome.'\n",
    "    elif st2[::-1] == st2:\n",
    "        return 'The string ', st2, 'is a palindrome.'\n",
    "    elif st1[::-1] == st1 and st2[::-1] == st2:\n",
    "        return 'Both strings ', st1, 'and', st2, 'is a palindrome.'\n",
    "    else:\n",
    "        return 'Neither are palindromes.'\n",
    "    \n",
    "print(which_pali(av, ra))    "
   ]
  },
  {
   "cell_type": "markdown",
   "metadata": {},
   "source": [
    "15. print the first half of the first string and the second half of the second one"
   ]
  },
  {
   "cell_type": "code",
   "execution_count": 171,
   "metadata": {},
   "outputs": [],
   "source": [
    "def firsthalf(st):\n",
    "    l = len(st)\n",
    "    l_haf = l//2 # integer division rounds down.\n",
    "    return st[:l_haf] #to account for the last index not being included"
   ]
  },
  {
   "cell_type": "markdown",
   "metadata": {},
   "source": [
    "16. ask the user for two strings"
   ]
  },
  {
   "cell_type": "code",
   "execution_count": 173,
   "metadata": {},
   "outputs": [
    {
     "name": "stdout",
     "output_type": "stream",
     "text": [
      "Give me string 1 :ATC\n",
      "Give me string 2 :TCG\n"
     ]
    }
   ],
   "source": [
    "s1 = input(\"Give me string 1 :\")\n",
    "s2 = input('Give me string 2 :')"
   ]
  },
  {
   "cell_type": "markdown",
   "metadata": {},
   "source": [
    "17. check if one string is the complement of the other (i.e. “AC” and “TG” -> yes)"
   ]
  },
  {
   "cell_type": "code",
   "execution_count": null,
   "metadata": {},
   "outputs": [],
   "source": [
    "def compl(st1):\n",
    "    for el in st1:\n",
    "        if el =="
   ]
  },
  {
   "cell_type": "code",
   "execution_count": null,
   "metadata": {},
   "outputs": [],
   "source": []
  },
  {
   "cell_type": "raw",
   "metadata": {},
   "source": [
    "18. print 3 rows: the first and the third for the sequences, the second one should contain “|” if\n",
    "the bases are complementary, “X” if not. \n",
    "\n",
    "\n",
    "`Example:\n",
    "\n",
    "ATTCGT\n",
    "||X|X|\n",
    "TAGGAA\n",
    "`"
   ]
  },
  {
   "cell_type": "code",
   "execution_count": null,
   "metadata": {},
   "outputs": [],
   "source": []
  },
  {
   "cell_type": "markdown",
   "metadata": {},
   "source": [
    "22. Modify the program from point 18 in order to print also the number of non complementary positions (in the given example: 2)"
   ]
  },
  {
   "cell_type": "code",
   "execution_count": null,
   "metadata": {},
   "outputs": [],
   "source": []
  },
  {
   "cell_type": "markdown",
   "metadata": {},
   "source": [
    "23. Modify the previous programs in order to read the sequences from file, using them in pairs (i.e. first row with second row, third with fourth and so on) Note: each pair of strings must have the same length (i.e. first and second row must have the same length, for example 6, third and fourth row may have both length 9 etc)"
   ]
  },
  {
   "cell_type": "raw",
   "metadata": {},
   "source": [
    "24. Modify the previous programs in order to read the sequences from file, \n",
    "checking for each one with all the others of the same length for the one with the \n",
    "smallest number of non complementary positions. Print each string with its best match and score as in point 22.\n",
    "\n",
    "Example:\n",
    "Input file\n",
    "ATTCGT\n",
    "TAGGAA\n",
    "TCAGCA\n",
    "AAAAAAAAA\n",
    "TTTTTTTTT\n",
    "Result:\n",
    "ATTCGT and TCAGCA with 1 non complementary position\n",
    "TAGGAA and ATTCGT with 2 non complementary positions\n",
    "TCAGCA and ATTCGT with 1 non complementary position\n",
    "AAAAAAAAA and TTTTTTTTT\n",
    "TTTTTTTTT and AAAAAAAAA"
   ]
  },
  {
   "cell_type": "code",
   "execution_count": null,
   "metadata": {},
   "outputs": [],
   "source": []
  },
  {
   "cell_type": "markdown",
   "metadata": {},
   "source": [
    "25. Modify the previous programs so to write the results in a new file"
   ]
  },
  {
   "cell_type": "markdown",
   "metadata": {},
   "source": [
    "#     6. Python-dictionaries\n",
    "1. Create an empty dictionary"
   ]
  },
  {
   "cell_type": "code",
   "execution_count": null,
   "metadata": {},
   "outputs": [],
   "source": []
  },
  {
   "cell_type": "markdown",
   "metadata": {},
   "source": [
    "2. Use the dictionary to store the age of persons, and add three persons to the dictionary (with their age), including yourself\n"
   ]
  },
  {
   "cell_type": "code",
   "execution_count": null,
   "metadata": {},
   "outputs": [],
   "source": []
  },
  {
   "cell_type": "markdown",
   "metadata": {},
   "source": [
    "3. Find your age in the dictionary\n"
   ]
  },
  {
   "cell_type": "code",
   "execution_count": null,
   "metadata": {},
   "outputs": [],
   "source": []
  },
  {
   "cell_type": "markdown",
   "metadata": {},
   "source": [
    "4. Find the name of the youngest person"
   ]
  },
  {
   "cell_type": "code",
   "execution_count": null,
   "metadata": {},
   "outputs": [],
   "source": []
  },
  {
   "cell_type": "markdown",
   "metadata": {},
   "source": [
    "5. Find the age of the youngest person"
   ]
  },
  {
   "cell_type": "code",
   "execution_count": null,
   "metadata": {},
   "outputs": [],
   "source": []
  },
  {
   "cell_type": "markdown",
   "metadata": {},
   "source": [
    "6. Remove yourself from the dictionary"
   ]
  },
  {
   "cell_type": "code",
   "execution_count": null,
   "metadata": {},
   "outputs": [],
   "source": []
  },
  {
   "cell_type": "markdown",
   "metadata": {},
   "source": [
    "7. Compute the average age"
   ]
  },
  {
   "cell_type": "code",
   "execution_count": null,
   "metadata": {},
   "outputs": [],
   "source": []
  },
  {
   "cell_type": "markdown",
   "metadata": {},
   "source": [
    " # 7. Python-functions 2"
   ]
  },
  {
   "cell_type": "code",
   "execution_count": null,
   "metadata": {},
   "outputs": [],
   "source": []
  },
  {
   "cell_type": "markdown",
   "metadata": {},
   "source": [
    "1. Define a function to compute the square of a number"
   ]
  },
  {
   "cell_type": "code",
   "execution_count": null,
   "metadata": {},
   "outputs": [],
   "source": []
  },
  {
   "cell_type": "markdown",
   "metadata": {},
   "source": [
    "2. Use the function to compute the square of all numbers of a given list"
   ]
  },
  {
   "cell_type": "code",
   "execution_count": null,
   "metadata": {},
   "outputs": [],
   "source": []
  },
  {
   "cell_type": "markdown",
   "metadata": {},
   "source": [
    "3. Define a function to check whether a number is even"
   ]
  },
  {
   "cell_type": "code",
   "execution_count": null,
   "metadata": {},
   "outputs": [],
   "source": []
  },
  {
   "cell_type": "markdown",
   "metadata": {},
   "source": [
    "4. Using functions from points 1. and 3., define a function that takes an integer and returns its square if it is even, the number itself otherwise"
   ]
  },
  {
   "cell_type": "code",
   "execution_count": null,
   "metadata": {},
   "outputs": [],
   "source": []
  },
  {
   "cell_type": "markdown",
   "metadata": {},
   "source": [
    "5. Take program 24. from the if-and-file section. Structure it in a suitable way using functions"
   ]
  },
  {
   "cell_type": "code",
   "execution_count": null,
   "metadata": {},
   "outputs": [],
   "source": []
  },
  {
   "cell_type": "code",
   "execution_count": null,
   "metadata": {},
   "outputs": [],
   "source": []
  },
  {
   "cell_type": "code",
   "execution_count": null,
   "metadata": {},
   "outputs": [],
   "source": []
  },
  {
   "cell_type": "code",
   "execution_count": null,
   "metadata": {},
   "outputs": [],
   "source": []
  },
  {
   "cell_type": "code",
   "execution_count": null,
   "metadata": {},
   "outputs": [],
   "source": []
  },
  {
   "cell_type": "code",
   "execution_count": null,
   "metadata": {},
   "outputs": [],
   "source": []
  },
  {
   "cell_type": "markdown",
   "metadata": {},
   "source": [
    "   8. Python-recursion\n",
    "\n",
    "1. Define the fibonacci function\n",
    "2. Compute fibonacci(20), fibonacci(30) and fibonacci(35)\n",
    "3. Define a recursive function to compute the function f defined by:\n",
    "   f(0) = 1\n",
    "   f(1) = 7\n",
    "   f(n) = n * f(n-2) if n>1\n",
    "4. Define a recursive function to double all the elements of a list of integers\n",
    "5. Define a recursive function to double all the elements of a list of integers until a 0 is found\n",
    "6. Define a recursive function to compute the partial sums of a list of integers\n",
    "7. Define a function to compute the permutations of a list\n",
    "\n",
    "1. extra test    \n",
    "2. Use a while loop to compute the partial sums of a list of integers\n",
    "3. Use a while loop to print all the characters of a string until you find two consecutive equal characters (which should not be printed). Is there any advantage of using a while loop instead of a for loop?\n",
    "4. Ask numbers to the users until it inserts an even number. Print the number of tries."
   ]
  },
  {
   "cell_type": "markdown",
   "metadata": {},
   "source": []
  },
  {
   "cell_type": "code",
   "execution_count": null,
   "metadata": {},
   "outputs": [],
   "source": []
  },
  {
   "cell_type": "markdown",
   "metadata": {},
   "source": [
    "9. Python-while\n",
    "\n",
    "1. Use a while loop to compute the sum of a list of integers"
   ]
  },
  {
   "cell_type": "code",
   "execution_count": 39,
   "metadata": {},
   "outputs": [],
   "source": [
    "li = [1, 2, 3]\n"
   ]
  }
 ],
 "metadata": {
  "kernelspec": {
   "display_name": "Python 3",
   "language": "python",
   "name": "python3"
  },
  "language_info": {
   "codemirror_mode": {
    "name": "ipython",
    "version": 3
   },
   "file_extension": ".py",
   "mimetype": "text/x-python",
   "name": "python",
   "nbconvert_exporter": "python",
   "pygments_lexer": "ipython3",
   "version": "3.7.2"
  }
 },
 "nbformat": 4,
 "nbformat_minor": 2
}
