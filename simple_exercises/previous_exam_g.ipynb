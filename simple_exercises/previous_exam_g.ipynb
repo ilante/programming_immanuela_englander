{
 "cells": [
  {
   "cell_type": "markdown",
   "metadata": {},
   "source": [
    "1) scrivi una funzione che prenda una stringa come input e ritorni \"True\" se contiene esattamente una \"A\" e \"False\" in caso contrario\n",
    "2) scrivi un programma che prenda un integer come input dall' user finché l'user non inserisce 0, e restituisce la somma dei numeri precedentemente inseriti\n",
    "3) definisci un dizionario la se seguenti Key: Ivan, Allegra, Pietro e come valori Lanese, Via, Dilena, dopodiché stampa a schermo il primo valore in lettere maiuscole\n",
    "4) definisci una funzione ricorsiva per definire il numero di caratteri \"A, C, G e T\" presenti in una stringa\n",
    "\n",
    "Poi mi ha fatto delle domande tipo che cos'è una booleana\n",
    "Qual è la differenza fra True/False e \"True\"/\"False\"\n",
    "\n",
    "1) Write a function that takes as input a string and returns True if it contains at least three \"G\", else return False\n",
    "2) Write a program that takes as input a list (the list must contain at least two elements) and returns the maximum of the last two elements of the list\n",
    "3) write a function that takes as input a file and returns the number of characters of the first line of the file (assume that the file exists and has at least two lines). Then, call the function with a file that has been taken from input\n",
    "4) write a program that asks a string from input until the user writes \"Hello!\" then print the number of inserted strings\n",
    "\n",
    "Write a function that takes a string and returns true if the number of\n",
    "'A' in even positions is equal to the number of 'A' in odd positions.\n",
    "\n",
    "Write a function that takes a file handler and prints on the screen\n",
    "the number of A in the first two lines. Write a program that invokes\n",
    "the function on a file named \"pippo.txt\".\n",
    "\n",
    "Write a program that takes strings from the user till the user\n",
    "inserts a \"STOP\" and prints the number of the read elements.\n",
    "\n",
    "Define a recursive function to compute the maximum value in a list\n",
    "of positive integers."
   ]
  },
  {
   "cell_type": "code",
   "execution_count": null,
   "metadata": {},
   "outputs": [],
   "source": []
  }
 ],
 "metadata": {
  "kernelspec": {
   "display_name": "Python 3",
   "language": "python",
   "name": "python3"
  },
  "language_info": {
   "codemirror_mode": {
    "name": "ipython",
    "version": 3
   },
   "file_extension": ".py",
   "mimetype": "text/x-python",
   "name": "python",
   "nbconvert_exporter": "python",
   "pygments_lexer": "ipython3",
   "version": "3.7.2"
  }
 },
 "nbformat": 4,
 "nbformat_minor": 4
}
