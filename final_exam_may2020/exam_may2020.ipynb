{
 "cells": [
  {
   "cell_type": "markdown",
   "metadata": {},
   "source": [
    "# Midterm script\n",
    "a) Write a function that reads **two amino acid sequences** into **Python strings** *from a file* in FASTA format and put them in the two variables seq1 and seq2, respectively. The function should **return a tuple (seq1, seq2)**."
   ]
  },
  {
   "cell_type": "markdown",
   "metadata": {},
   "source": [
    "### Preparation:\n",
    "#### 1. acquireing the files:"
   ]
  },
  {
   "cell_type": "code",
   "execution_count": 6,
   "metadata": {},
   "outputs": [
    {
     "name": "stdout",
     "output_type": "stream",
     "text": [
      "Warning: Failed to set locale category LC_NUMERIC to en_NO.\n",
      "Warning: Failed to set locale category LC_TIME to en_NO.\n",
      "Warning: Failed to set locale category LC_COLLATE to en_NO.\n",
      "Warning: Failed to set locale category LC_MONETARY to en_NO.\n",
      "Warning: Failed to set locale category LC_MESSAGES to en_NO.\n",
      "--2020-05-06 16:46:17--  https://www.uniprot.org/uniprot/Q9IQN3.fasta\n",
      "Resolving www.uniprot.org (www.uniprot.org)... 193.62.192.81, 128.175.245.202\n",
      "Connecting to www.uniprot.org (www.uniprot.org)|193.62.192.81|:443... connected.\n",
      "HTTP request sent, awaiting response... 200 \n",
      "Length: 199 [text/plain]\n",
      "Saving to: ‘Q9IQN3.fasta.1’\n",
      "\n",
      "Q9IQN3.fasta.1      100%[===================>]     199  --.-KB/s    in 0s      \n",
      "\n",
      "2020-05-06 16:46:17 (4.74 MB/s) - ‘Q9IQN3.fasta.1’ saved [199/199]\n",
      "\n"
     ]
    }
   ],
   "source": [
    "! wget https://www.uniprot.org/uniprot/Q9IQN3.fasta"
   ]
  },
  {
   "cell_type": "code",
   "execution_count": 4,
   "metadata": {},
   "outputs": [
    {
     "name": "stdout",
     "output_type": "stream",
     "text": [
      "Warning: Failed to set locale category LC_NUMERIC to en_NO.\n",
      "Warning: Failed to set locale category LC_TIME to en_NO.\n",
      "Warning: Failed to set locale category LC_COLLATE to en_NO.\n",
      "Warning: Failed to set locale category LC_MONETARY to en_NO.\n",
      "Warning: Failed to set locale category LC_MESSAGES to en_NO.\n",
      "--2020-05-06 16:45:43--  https://www.uniprot.org/uniprot/O95218.fasta\n",
      "Resolving www.uniprot.org (www.uniprot.org)... 193.62.192.81, 128.175.245.202\n",
      "Connecting to www.uniprot.org (www.uniprot.org)|193.62.192.81|:443... connected.\n",
      "HTTP request sent, awaiting response... 200 \n",
      "Length: 455 [text/plain]\n",
      "Saving to: ‘O95218.fasta’\n",
      "\n",
      "O95218.fasta        100%[===================>]     455  --.-KB/s    in 0s      \n",
      "\n",
      "2020-05-06 16:46:17 (19.7 MB/s) - ‘O95218.fasta’ saved [455/455]\n",
      "\n"
     ]
    }
   ],
   "source": [
    "! wget https://www.uniprot.org/uniprot/O95218.fasta"
   ]
  },
  {
   "cell_type": "code",
   "execution_count": 13,
   "metadata": {},
   "outputs": [
    {
     "name": "stdout",
     "output_type": "stream",
     "text": [
      "O95218.fasta       Q9IQN3.fasta       exam_may2020.ipynb\n"
     ]
    }
   ],
   "source": [
    "!ls"
   ]
  },
  {
   "cell_type": "markdown",
   "metadata": {},
   "source": [
    "#### 2. Appending one file to the other"
   ]
  },
  {
   "cell_type": "code",
   "execution_count": 15,
   "metadata": {},
   "outputs": [],
   "source": [
    "def appendfasta(fasta1, fasta2):\n",
    "    '''appends fasta2 to fasta1'''\n",
    "    with open(\"./\"+fasta1, 'a') as afile: # file1 is opened only for appending.\n",
    "        string2='' #creating empty string for later use.\n",
    "        with open(\"./\"+fasta2, 'r') as rfile: # file2 is opened to be read.\n",
    "            string2 = rfile.read() # the method .read() returns a string [readlines() would return a list]\n",
    "            afile.write(string2)\n",
    "\n",
    "def py_cat(thefile):\n",
    "    '''this funciton prints the content of a file DO not use on huge files. \n",
    "    Here it is used to confirm weather the appending was successful. Not the\n",
    "    most elegant but it will do for now.'''\n",
    "    with open(\"./\"+thefile, 'r') as rfile:\n",
    "        see=rfile.read()\n",
    "        return see\n",
    "            \n",
    "sfile1=\"Q9IQN3.fasta\"\n",
    "sfile2=\"O95218.fasta\"\n",
    "\n",
    "# appendfasta(sfile1, sfile2) Had to comment it so i cant accidentally append file2 again\n",
    "# print(py_cat(sfile1))\n",
    "        "
   ]
  },
  {
   "cell_type": "markdown",
   "metadata": {},
   "source": [
    "#### 3. Confirming it worked in bash"
   ]
  },
  {
   "cell_type": "code",
   "execution_count": 30,
   "metadata": {},
   "outputs": [
    {
     "name": "stdout",
     "output_type": "stream",
     "text": [
      ">tr|Q9IQN3|Q9IQN3_9HIV1 Protein Rev (Fragment) OS=Human immunodeficiency virus 1 OX=11676 GN=rev PE=4 SV=1\n",
      "PPPSSEGTRQARRNRRRRWRERQRQIRRISGWILSNHLGGLTEPVPLQLPPLERLTLDCN\n",
      "EDCGTSGTQGVGSPQIPVESPTVLESGTKE\n",
      ">sp|O95218|ZRAB2_HUMAN Zinc finger Ran-binding domain-containing protein 2 OS=Homo sapiens OX=9606 GN=ZRANB2 PE=1 SV=2\n",
      "MSTKNFRVSDGDWICPDKKCGNVNFARRTSCNRCGREKTTEAKMMKAGGTEIGKTLAEKS\n",
      "RGLFSANDWQCKTCSNVNWARRSECNMCNTPKYAKLEERTGYGGGFNERENVEYIEREES\n",
      "DGEYDEFGRKKKKYRGKAVGPASILKEVEDKESEGEEEDEDEDLSKYKLDEDEDEDDADL\n",
      "SKYNLDASEEEDSNKKKSNRRSRSKSRSSHSRSSSRSSSPSSSRSRSRSRSRSSSSSQSR\n",
      "SRSSSRERSRSRGSKSRSSSRSHRGSSSPRKRSYSSSSSSPERNRKRSRSRSSSSGDRKK\n",
      "RRTRSRSPERRHRSSSGSSHSGSRSSSKKK\n"
     ]
    }
   ],
   "source": [
    "!cat Q9IQN3.fasta # just confirming in bash irrelevant, but still good practice"
   ]
  },
  {
   "cell_type": "markdown",
   "metadata": {},
   "source": [
    "#### 4. Thinking of options to solve it\n",
    "\n",
    "a) Write a function that reads **two amino acid sequences** into **Python strings** *from a file* in FASTA format and put them in the two variables seq1 and seq2, respectively. The function should **return a tuple (seq1, seq2)**.\n",
    "\n",
    "- use either .readlines() to generate string of entire file and then .split('>')\n",
    "- or try with a loop that skipps the line containing '>' and saves the rest \n",
    "\n",
    "ok first check what split would really do with the string:"
   ]
  },
  {
   "cell_type": "code",
   "execution_count": 17,
   "metadata": {},
   "outputs": [
    {
     "data": {
      "text/plain": [
       "['',\n",
       " 'tr|Q9IQN3|Q9IQN3_9HIV1 Protein Rev (Fragment) OS=Human immunodeficiency virus 1 OX=11676 GN=rev PE=4 SV=1\\nPPPSSEGTRQARRNRRRRWRERQRQIRRISGWILSNHLGGLTEPVPLQLPPLERLTLDCN\\nEDCGTSGTQGVGSPQIPVESPTVLESGTKE\\n',\n",
       " 'sp|O95218|ZRAB2_HUMAN Zinc finger Ran-binding domain-containing protein 2 OS=Homo sapiens OX=9606 GN=ZRANB2 PE=1 SV=2\\nMSTKNFRVSDGDWICPDKKCGNVNFARRTSCNRCGREKTTEAKMMKAGGTEIGKTLAEKS\\nRGLFSANDWQCKTCSNVNWARRSECNMCNTPKYAKLEERTGYGGGFNERENVEYIEREES\\nDGEYDEFGRKKKKYRGKAVGPASILKEVEDKESEGEEEDEDEDLSKYKLDEDEDEDDADL\\nSKYNLDASEEEDSNKKKSNRRSRSKSRSSHSRSSSRSSSPSSSRSRSRSRSRSSSSSQSR\\nSRSSSRERSRSRGSKSRSSSRSHRGSSSPRKRSYSSSSSSPERNRKRSRSRSSSSGDRKK\\nRRTRSRSPERRHRSSSGSSHSGSRSSSKKK']"
      ]
     },
     "execution_count": 17,
     "metadata": {},
     "output_type": "execute_result"
    }
   ],
   "source": [
    "stest = '>tr|Q9IQN3|Q9IQN3_9HIV1 Protein Rev (Fragment) OS=Human immunodeficiency virus 1 OX=11676 GN=rev PE=4 SV=1\\nPPPSSEGTRQARRNRRRRWRERQRQIRRISGWILSNHLGGLTEPVPLQLPPLERLTLDCN\\nEDCGTSGTQGVGSPQIPVESPTVLESGTKE\\n>sp|O95218|ZRAB2_HUMAN Zinc finger Ran-binding domain-containing protein 2 OS=Homo sapiens OX=9606 GN=ZRANB2 PE=1 SV=2\\nMSTKNFRVSDGDWICPDKKCGNVNFARRTSCNRCGREKTTEAKMMKAGGTEIGKTLAEKS\\nRGLFSANDWQCKTCSNVNWARRSECNMCNTPKYAKLEERTGYGGGFNERENVEYIEREES\\nDGEYDEFGRKKKKYRGKAVGPASILKEVEDKESEGEEEDEDEDLSKYKLDEDEDEDDADL\\nSKYNLDASEEEDSNKKKSNRRSRSKSRSSHSRSSSRSSSPSSSRSRSRSRSRSSSSSQSR\\nSRSSSRERSRSRGSKSRSSSRSHRGSSSPRKRSYSSSSSSPERNRKRSRSRSSSSGDRKK\\nRRTRSRSPERRHRSSSGSSHSGSRSSSKKK'\n",
    "seqli = stest.split(\">\", 2) # Now I know it will give me a list with a maximum 3 items - \n",
    "seqli                       # item 0 = the empty string item 1 is the seq1 and item 2 is seq"
   ]
  },
  {
   "cell_type": "markdown",
   "metadata": {},
   "source": [
    "- ok so I got a list containing 3 items and I know that seqli[1] contains seq1 and seqli[2] contains seq2\n",
    "- remember .read() returns the whole file in a *string* by default"
   ]
  },
  {
   "cell_type": "code",
   "execution_count": 94,
   "metadata": {},
   "outputs": [
    {
     "name": "stdout",
     "output_type": "stream",
     "text": [
      "['', 'tr|Q9IQN3|Q9IQN3_9HIV1 Protein Rev (Fragment) OS=Human immunodeficiency virus 1 OX=11676 GN=rev PE=4 SV=1\\nPPPSSEGTRQARRNRRRRWRERQRQIRRISGWILSNHLGGLTEPVPLQLPPLERLTLDCN\\nEDCGTSGTQGVGSPQIPVESPTVLESGTKE\\n', 'sp|O95218|ZRAB2_HUMAN Zinc finger Ran-binding domain-containing protein 2 OS=Homo sapiens OX=9606 GN=ZRANB2 PE=1 SV=2\\nMSTKNFRVSDGDWICPDKKCGNVNFARRTSCNRCGREKTTEAKMMKAGGTEIGKTLAEKS\\nRGLFSANDWQCKTCSNVNWARRSECNMCNTPKYAKLEERTGYGGGFNERENVEYIEREES\\nDGEYDEFGRKKKKYRGKAVGPASILKEVEDKESEGEEEDEDEDLSKYKLDEDEDEDDADL\\nSKYNLDASEEEDSNKKKSNRRSRSKSRSSHSRSSSRSSSPSSSRSRSRSRSRSSSSSQSR\\nSRSSSRERSRSRGSKSRSSSRSHRGSSSPRKRSYSSSSSSPERNRKRSRSRSSSSGDRKK\\nRRTRSRSPERRHRSSSGSSHSGSRSSSKKK\\n']\n",
      "here the seqs\n",
      "tr|Q9IQN3|Q9IQN3_9HIV1 Protein Rev (Fragment) OS=Human immunodeficiency virus 1 OX=11676 GN=rev PE=4 SV=1\n",
      "PPPSSEGTRQARRNRRRRWRERQRQIRRISGWILSNHLGGLTEPVPLQLPPLERLTLDCN\n",
      "EDCGTSGTQGVGSPQIPVESPTVLESGTKE\n",
      "\n",
      "sp|O95218|ZRAB2_HUMAN Zinc finger Ran-binding domain-containing protein 2 OS=Homo sapiens OX=9606 GN=ZRANB2 PE=1 SV=2\n",
      "MSTKNFRVSDGDWICPDKKCGNVNFARRTSCNRCGREKTTEAKMMKAGGTEIGKTLAEKS\n",
      "RGLFSANDWQCKTCSNVNWARRSECNMCNTPKYAKLEERTGYGGGFNERENVEYIEREES\n",
      "DGEYDEFGRKKKKYRGKAVGPASILKEVEDKESEGEEEDEDEDLSKYKLDEDEDEDDADL\n",
      "SKYNLDASEEEDSNKKKSNRRSRSKSRSSHSRSSSRSSSPSSSRSRSRSRSRSSSSSQSR\n",
      "SRSSSRERSRSRGSKSRSSSRSHRGSSSPRKRSYSSSSSSPERNRKRSRSRSSSSGDRKK\n",
      "RRTRSRSPERRHRSSSGSSHSGSRSSSKKK\n",
      "\n",
      "this is the list of seq1 incl header in liseq1[0]\n",
      " ['tr|Q9IQN3|Q9IQN3_9HIV1 Protein Rev (Fragment) OS=Human immunodeficiency virus 1 OX=11676 GN=rev PE=4 SV=1', 'PPPSSEGTRQARRNRRRRWRERQRQIRRISGWILSNHLGGLTEPVPLQLPPLERLTLDCN', 'EDCGTSGTQGVGSPQIPVESPTVLESGTKE', '']\n",
      "BEFORE join: ['PPPSSEGTRQARRNRRRRWRERQRQIRRISGWILSNHLGGLTEPVPLQLPPLERLTLDCN', 'EDCGTSGTQGVGSPQIPVESPTVLESGTKE', '']\n",
      "Seq1 AFTER join: PPPSSEGTRQARRNRRRRWRERQRQIRRISGWILSNHLGGLTEPVPLQLPPLERLTLDCNEDCGTSGTQGVGSPQIPVESPTVLESGTKE\n",
      "Seq2 AFTER join: MSTKNFRVSDGDWICPDKKCGNVNFARRTSCNRCGREKTTEAKMMKAGGTEIGKTLAEKSRGLFSANDWQCKTCSNVNWARRSECNMCNTPKYAKLEERTGYGGGFNERENVEYIEREESDGEYDEFGRKKKKYRGKAVGPASILKEVEDKESEGEEEDEDEDLSKYKLDEDEDEDDADLSKYNLDASEEEDSNKKKSNRRSRSKSRSSHSRSSSRSSSPSSSRSRSRSRSRSSSSSQSRSRSSSRERSRSRGSKSRSSSRSHRGSSSPRKRSYSSSSSSPERNRKRSRSRSSSSGDRKKRRTRSRSPERRHRSSSGSSHSGSRSSSKKK\n"
     ]
    }
   ],
   "source": [
    "def split_any_fasta(fastafile):\n",
    "    filist = []\n",
    "    seq1 = ''\n",
    "    seq2 = ''\n",
    "    with open('./'+fastafile, 'r') as rfile:\n",
    "        allines = rfile.read()\n",
    "        newlist = allines.split(\">\", 2)\n",
    "        print(newlist)\n",
    "        seq1string =  newlist[1]\n",
    "        seq2string =  newlist[2]\n",
    "#         print(\"here the seqs\")\n",
    "#         print(seq1string)        \n",
    "#         print(seq2string)\n",
    "        liseq1 = seq1string.split(\"\\n\")\n",
    "        liseq2 = seq2string.split(\"\\n\")\n",
    "        print(\"this is the list of seq1 incl header in liseq1[0]\\n\", liseq1)\n",
    "        noheader1=liseq1[1:]\n",
    "        noheader2=liseq2[1:]\n",
    "        print('BEFORE join:', noheader1)\n",
    "        seq1 = str.join('', noheader1)\n",
    "        print('Seq1 AFTER join:', seq1)\n",
    "        seq2 = str.join('', noheader2)\n",
    "        print('Seq2 AFTER join:', seq2)        \n",
    "        \n",
    "#         linelist = allines.split('\\n') #new list containing one item per newline character '\\n' removed\n",
    "#         print(linelist)\n",
    "\n",
    "#return (seq1, seq2)\n",
    "        \n",
    "\n",
    "listoflists = split_any_fasta(\"Q9IQN3.fasta\")\n",
    "listoflists\n",
    "\n"
   ]
  },
  {
   "cell_type": "code",
   "execution_count": 65,
   "metadata": {},
   "outputs": [
    {
     "name": "stdout",
     "output_type": "stream",
     "text": [
      "tr|Q9IQN3|Q9IQN3_9HIV1 Protein Rev (Fragment) OS=Human immunodeficiency virus 1 OX=11676 GN=rev PE=4 SV=1PPPSSEGTRQARRNRRRRWRERQRQIRRISGWILSNHLGGLTEPVPLQLPPLERLTLDCNEDCGTSGTQGVGSPQIPVESPTVLESGTKE\n"
     ]
    }
   ],
   "source": [
    "difficultlist = ['>tr|Q9IQN3|Q9IQN3_9HIV1 Protein Rev (Fragment) OS=Human immunodeficiency virus 1 OX=11676 GN=rev PE=4 SV=1', 'PPPSSEGTRQARRNRRRRWRERQRQIRRISGWILSNHLGGLTEPVPLQLPPLERLTLDCN', 'EDCGTSGTQGVGSPQIPVESPTVLESGTKE', '>sp|O95218|ZRAB2_HUMAN Zinc finger Ran-binding domain-containing protein 2 OS=Homo sapiens OX=9606 GN=ZRANB2 PE=1 SV=2', 'MSTKNFRVSDGDWICPDKKCGNVNFARRTSCNRCGREKTTEAKMMKAGGTEIGKTLAEKS', 'RGLFSANDWQCKTCSNVNWARRSECNMCNTPKYAKLEERTGYGGGFNERENVEYIEREES', 'DGEYDEFGRKKKKYRGKAVGPASILKEVEDKESEGEEEDEDEDLSKYKLDEDEDEDDADL', 'SKYNLDASEEEDSNKKKSNRRSRSKSRSSHSRSSSRSSSPSSSRSRSRSRSRSSSSSQSR', 'SRSSSRERSRSRGSKSRSSSRSHRGSSSPRKRSYSSSSSSPERNRKRSRSRSSSSGDRKK', 'RRTRSRSPERRHRSSSGSSHSGSRSSSKKK', '']\n",
    "difficultlist\n",
    "\n",
    "\n",
    "saveseq = []\n",
    "easystring = ''\n",
    "seq1 = ''\n",
    "seq2=''\n",
    "for i in range(len(difficultlist)):\n",
    "    easystring += difficultlist[i] # string without newlines now I can use the method split() again\n",
    "    seqlist = easystring.split('>', 2) #splits into list of 3 items [0]='' [1]=seq1 [2]=seq2 (remember to test if it also works on file with more than 2 seq)\n",
    "    print(seqlist[1]) \n",
    "          \n",
    "# print(easystring)\n",
    "# print(seqlist)\n",
    "\n",
    "\n",
    "#     if difficultlist[i].startswith('>') != True:\n",
    "#         saveseq.append(difficultlist[i])\n",
    "# print(saveseq)\n",
    "        "
   ]
  },
  {
   "cell_type": "code",
   "execution_count": 88,
   "metadata": {},
   "outputs": [
    {
     "name": "stdout",
     "output_type": "stream",
     "text": [
      "Hello-world\n"
     ]
    }
   ],
   "source": [
    "my_list = [\"Hello\", \"world\"]\n",
    "print(str.join('-', my_list)) \n",
    "#     return filist\n",
    "\n",
    "# def split_any_fasta(fastafile):\n",
    "#     filist=[]\n",
    "#     with open('./'+fastafile, 'r') as rfile:\n",
    "#         for line in rfile:\n",
    "#             filist.append(line.split(\"\\n\"))\n",
    "#         print(filist)\n",
    "#     return filist\n",
    "\n",
    "# def list_to_string(filist):\n",
    "#     stringed = ''\n",
    "#     for i in range(len(filist)):\n",
    "#         for j in range(len(filist)):\n",
    "#         if str(filist[i][j].startswith('>')) == True:\n",
    "#             continue\n",
    "#         else:\n",
    "#             print(filist[i][j])\n",
    "\n",
    "# list_to_string(listoflists)\n",
    "\n",
    "\n",
    "# def fasta_to_string(fastaf):\n",
    "#     with open('./'+fastaf, 'r') as rfile:\n",
    "#         aaline=''\n",
    "#         seq1=''\n",
    "#         seq2=''\n",
    "#         for line in rfile:\n",
    "#             if line.find(' ') != None:\n",
    "#                 continue\n",
    "#             else:\n",
    "#                 aaline = rfile.readline()\n",
    "#             print(aaline)\n",
    "\n",
    "#     return aaline\n",
    "\n",
    "# fi = \"Q9IQN3.fasta\" \n",
    "# print(fasta_to_string(fi))      \n",
    "# #return (seq1, seq2)\n",
    "\n",
    "# #         le = len(rfile.readlines())\n",
    "# #         for line in range(1, le):\n",
    "# #             if line != '>':"
   ]
  },
  {
   "cell_type": "code",
   "execution_count": null,
   "metadata": {},
   "outputs": [],
   "source": []
  },
  {
   "cell_type": "markdown",
   "metadata": {},
   "source": [
    "b) Write a function that reads a substitution matrix from a text file and puts its values in a dictionary where pairs of amino acids letters are the keys (“AA”, “AC”, “AD”, etc.). The function should return the dictionary. \n"
   ]
  },
  {
   "cell_type": "code",
   "execution_count": null,
   "metadata": {},
   "outputs": [],
   "source": []
  },
  {
   "cell_type": "code",
   "execution_count": null,
   "metadata": {},
   "outputs": [],
   "source": [
    "\n"
   ]
  },
  {
   "cell_type": "markdown",
   "metadata": {},
   "source": [
    "c) Write a function that takes as input the two sequences and the dictionary, and finds the best scoring alignment based on an ungapped exhaustive search. Non-aligned residues at the beginning or at the end of the alignment will score zero (gap penalty = 0)."
   ]
  },
  {
   "cell_type": "markdown",
   "metadata": {},
   "source": [
    "# Final exam script\n",
    "a) Write a function that calculates the global dynamic programming (scoring) matrix F based on the Smith- Waterman algorithm and the associated traceback matrix P. The function will take seq1, seq2, the BLOSUM50 matrix and the gap value as input and return F and P.\n"
   ]
  },
  {
   "cell_type": "code",
   "execution_count": null,
   "metadata": {},
   "outputs": [],
   "source": []
  },
  {
   "cell_type": "markdown",
   "metadata": {},
   "source": [
    "b) Write a function that takes F, P, seq1 and seq2 as input and returns the best local alignment(s) between seq1 and seq2 and the corresponding score(s)."
   ]
  },
  {
   "cell_type": "code",
   "execution_count": null,
   "metadata": {},
   "outputs": [],
   "source": []
  },
  {
   "cell_type": "markdown",
   "metadata": {},
   "source": [
    "c) Print the alignment(s) and the corresponding score(s)"
   ]
  },
  {
   "cell_type": "code",
   "execution_count": null,
   "metadata": {},
   "outputs": [],
   "source": []
  }
 ],
 "metadata": {
  "kernelspec": {
   "display_name": "Python 3",
   "language": "python",
   "name": "python3"
  },
  "language_info": {
   "codemirror_mode": {
    "name": "ipython",
    "version": 3
   },
   "file_extension": ".py",
   "mimetype": "text/x-python",
   "name": "python",
   "nbconvert_exporter": "python",
   "pygments_lexer": "ipython3",
   "version": "3.7.2"
  }
 },
 "nbformat": 4,
 "nbformat_minor": 2
}
