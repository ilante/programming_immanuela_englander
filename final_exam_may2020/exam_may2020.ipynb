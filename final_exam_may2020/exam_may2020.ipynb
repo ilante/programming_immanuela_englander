{
 "cells": [
  {
   "cell_type": "markdown",
   "metadata": {},
   "source": [
    "# Midterm script\n",
    "# a) \n",
    "Write a function that reads **two amino acid sequences** into **Python strings** *from a file* in FASTA format and put them in the two variables seq1 and seq2, respectively. The function should **return a tuple (seq1, seq2)**."
   ]
  },
  {
   "cell_type": "markdown",
   "metadata": {},
   "source": [
    "### Preparation:\n",
    "#### 1. acquireing the files:"
   ]
  },
  {
   "cell_type": "code",
   "execution_count": 6,
   "metadata": {},
   "outputs": [
    {
     "name": "stdout",
     "output_type": "stream",
     "text": [
      "Warning: Failed to set locale category LC_NUMERIC to en_NO.\n",
      "Warning: Failed to set locale category LC_TIME to en_NO.\n",
      "Warning: Failed to set locale category LC_COLLATE to en_NO.\n",
      "Warning: Failed to set locale category LC_MONETARY to en_NO.\n",
      "Warning: Failed to set locale category LC_MESSAGES to en_NO.\n",
      "--2020-05-06 16:46:17--  https://www.uniprot.org/uniprot/Q9IQN3.fasta\n",
      "Resolving www.uniprot.org (www.uniprot.org)... 193.62.192.81, 128.175.245.202\n",
      "Connecting to www.uniprot.org (www.uniprot.org)|193.62.192.81|:443... connected.\n",
      "HTTP request sent, awaiting response... 200 \n",
      "Length: 199 [text/plain]\n",
      "Saving to: ‘Q9IQN3.fasta.1’\n",
      "\n",
      "Q9IQN3.fasta.1      100%[===================>]     199  --.-KB/s    in 0s      \n",
      "\n",
      "2020-05-06 16:46:17 (4.74 MB/s) - ‘Q9IQN3.fasta.1’ saved [199/199]\n",
      "\n"
     ]
    }
   ],
   "source": [
    "! wget https://www.uniprot.org/uniprot/Q9IQN3.fasta"
   ]
  },
  {
   "cell_type": "code",
   "execution_count": 4,
   "metadata": {},
   "outputs": [
    {
     "name": "stdout",
     "output_type": "stream",
     "text": [
      "Warning: Failed to set locale category LC_NUMERIC to en_NO.\n",
      "Warning: Failed to set locale category LC_TIME to en_NO.\n",
      "Warning: Failed to set locale category LC_COLLATE to en_NO.\n",
      "Warning: Failed to set locale category LC_MONETARY to en_NO.\n",
      "Warning: Failed to set locale category LC_MESSAGES to en_NO.\n",
      "--2020-05-06 16:45:43--  https://www.uniprot.org/uniprot/O95218.fasta\n",
      "Resolving www.uniprot.org (www.uniprot.org)... 193.62.192.81, 128.175.245.202\n",
      "Connecting to www.uniprot.org (www.uniprot.org)|193.62.192.81|:443... connected.\n",
      "HTTP request sent, awaiting response... 200 \n",
      "Length: 455 [text/plain]\n",
      "Saving to: ‘O95218.fasta’\n",
      "\n",
      "O95218.fasta        100%[===================>]     455  --.-KB/s    in 0s      \n",
      "\n",
      "2020-05-06 16:46:17 (19.7 MB/s) - ‘O95218.fasta’ saved [455/455]\n",
      "\n"
     ]
    }
   ],
   "source": [
    "! wget https://www.uniprot.org/uniprot/O95218.fasta"
   ]
  },
  {
   "cell_type": "code",
   "execution_count": 13,
   "metadata": {},
   "outputs": [
    {
     "name": "stdout",
     "output_type": "stream",
     "text": [
      "O95218.fasta       Q9IQN3.fasta       exam_may2020.ipynb\n"
     ]
    }
   ],
   "source": [
    "!ls"
   ]
  },
  {
   "cell_type": "markdown",
   "metadata": {},
   "source": [
    "#### 2. Appending one file to the other"
   ]
  },
  {
   "cell_type": "code",
   "execution_count": 15,
   "metadata": {},
   "outputs": [],
   "source": [
    "def appendfasta(fasta1, fasta2):\n",
    "    '''appends fasta2 to fasta1'''\n",
    "    with open(\"./\"+fasta1, 'a') as afile: # file1 is opened only for appending.\n",
    "        string2='' #creating empty string for later use.\n",
    "        with open(\"./\"+fasta2, 'r') as rfile: # file2 is opened to be read.\n",
    "            string2 = rfile.read() # the method .read() returns a string [readlines() would return a list]\n",
    "            afile.write(string2)\n",
    "\n",
    "def py_cat(thefile):\n",
    "    '''this funciton prints the content of a file DO not use on huge files. \n",
    "    Here it is used to confirm weather the appending was successful. Not the\n",
    "    most elegant but it will do for now.'''\n",
    "    with open(\"./\"+thefile, 'r') as rfile:\n",
    "        see=rfile.read()\n",
    "        return see\n",
    "            \n",
    "sfile1=\"Q9IQN3.fasta\"\n",
    "sfile2=\"O95218.fasta\"\n",
    "\n",
    "# appendfasta(sfile1, sfile2) Had to comment it so i cant accidentally append file2 again\n",
    "# print(py_cat(sfile1))\n",
    "        "
   ]
  },
  {
   "cell_type": "markdown",
   "metadata": {},
   "source": [
    "#### 3. Confirming it worked in bash"
   ]
  },
  {
   "cell_type": "code",
   "execution_count": 30,
   "metadata": {},
   "outputs": [
    {
     "name": "stdout",
     "output_type": "stream",
     "text": [
      ">tr|Q9IQN3|Q9IQN3_9HIV1 Protein Rev (Fragment) OS=Human immunodeficiency virus 1 OX=11676 GN=rev PE=4 SV=1\n",
      "PPPSSEGTRQARRNRRRRWRERQRQIRRISGWILSNHLGGLTEPVPLQLPPLERLTLDCN\n",
      "EDCGTSGTQGVGSPQIPVESPTVLESGTKE\n",
      ">sp|O95218|ZRAB2_HUMAN Zinc finger Ran-binding domain-containing protein 2 OS=Homo sapiens OX=9606 GN=ZRANB2 PE=1 SV=2\n",
      "MSTKNFRVSDGDWICPDKKCGNVNFARRTSCNRCGREKTTEAKMMKAGGTEIGKTLAEKS\n",
      "RGLFSANDWQCKTCSNVNWARRSECNMCNTPKYAKLEERTGYGGGFNERENVEYIEREES\n",
      "DGEYDEFGRKKKKYRGKAVGPASILKEVEDKESEGEEEDEDEDLSKYKLDEDEDEDDADL\n",
      "SKYNLDASEEEDSNKKKSNRRSRSKSRSSHSRSSSRSSSPSSSRSRSRSRSRSSSSSQSR\n",
      "SRSSSRERSRSRGSKSRSSSRSHRGSSSPRKRSYSSSSSSPERNRKRSRSRSSSSGDRKK\n",
      "RRTRSRSPERRHRSSSGSSHSGSRSSSKKK\n"
     ]
    }
   ],
   "source": [
    "!cat Q9IQN3.fasta # just confirming in bash irrelevant, but still good practice"
   ]
  },
  {
   "cell_type": "markdown",
   "metadata": {},
   "source": [
    "#### 4. Thinking of options to solve it\n",
    "\n",
    "a) Write a function that reads **two amino acid sequences** into **Python strings** *from a file* in FASTA format and put them in the two variables seq1 and seq2, respectively. The function should **return a tuple (seq1, seq2)**.\n",
    "\n",
    "- use either .readlines() to generate string of entire file and then .split('>')\n",
    "- or try with a loop that skipps the line containing '>' and saves the rest \n",
    "\n",
    "ok first check what split would really do with the string:\n",
    "\n",
    "general steps:\n",
    "- open file\n",
    "- read file\n",
    "- split the file to be able into 2 sequences preferably 2 lists that each contain one sequence\n",
    "- get rid of the header\n",
    "- keep the sequence only\n",
    "- get rid of the '\\n' character\n",
    "- put each seq into variable\n",
    "- close file (not necessary if use ```with open()``` )\n",
    "- return tuple"
   ]
  },
  {
   "cell_type": "code",
   "execution_count": 17,
   "metadata": {},
   "outputs": [
    {
     "data": {
      "text/plain": [
       "['',\n",
       " 'tr|Q9IQN3|Q9IQN3_9HIV1 Protein Rev (Fragment) OS=Human immunodeficiency virus 1 OX=11676 GN=rev PE=4 SV=1\\nPPPSSEGTRQARRNRRRRWRERQRQIRRISGWILSNHLGGLTEPVPLQLPPLERLTLDCN\\nEDCGTSGTQGVGSPQIPVESPTVLESGTKE\\n',\n",
       " 'sp|O95218|ZRAB2_HUMAN Zinc finger Ran-binding domain-containing protein 2 OS=Homo sapiens OX=9606 GN=ZRANB2 PE=1 SV=2\\nMSTKNFRVSDGDWICPDKKCGNVNFARRTSCNRCGREKTTEAKMMKAGGTEIGKTLAEKS\\nRGLFSANDWQCKTCSNVNWARRSECNMCNTPKYAKLEERTGYGGGFNERENVEYIEREES\\nDGEYDEFGRKKKKYRGKAVGPASILKEVEDKESEGEEEDEDEDLSKYKLDEDEDEDDADL\\nSKYNLDASEEEDSNKKKSNRRSRSKSRSSHSRSSSRSSSPSSSRSRSRSRSRSSSSSQSR\\nSRSSSRERSRSRGSKSRSSSRSHRGSSSPRKRSYSSSSSSPERNRKRSRSRSSSSGDRKK\\nRRTRSRSPERRHRSSSGSSHSGSRSSSKKK']"
      ]
     },
     "execution_count": 17,
     "metadata": {},
     "output_type": "execute_result"
    }
   ],
   "source": [
    "stest = '>tr|Q9IQN3|Q9IQN3_9HIV1 Protein Rev (Fragment) OS=Human immunodeficiency virus 1 OX=11676 GN=rev PE=4 SV=1\\nPPPSSEGTRQARRNRRRRWRERQRQIRRISGWILSNHLGGLTEPVPLQLPPLERLTLDCN\\nEDCGTSGTQGVGSPQIPVESPTVLESGTKE\\n>sp|O95218|ZRAB2_HUMAN Zinc finger Ran-binding domain-containing protein 2 OS=Homo sapiens OX=9606 GN=ZRANB2 PE=1 SV=2\\nMSTKNFRVSDGDWICPDKKCGNVNFARRTSCNRCGREKTTEAKMMKAGGTEIGKTLAEKS\\nRGLFSANDWQCKTCSNVNWARRSECNMCNTPKYAKLEERTGYGGGFNERENVEYIEREES\\nDGEYDEFGRKKKKYRGKAVGPASILKEVEDKESEGEEEDEDEDLSKYKLDEDEDEDDADL\\nSKYNLDASEEEDSNKKKSNRRSRSKSRSSHSRSSSRSSSPSSSRSRSRSRSRSSSSSQSR\\nSRSSSRERSRSRGSKSRSSSRSHRGSSSPRKRSYSSSSSSPERNRKRSRSRSSSSGDRKK\\nRRTRSRSPERRHRSSSGSSHSGSRSSSKKK'\n",
    "seqli = stest.split(\">\", 2) # Now I know it will give me a list with a maximum 3 items - \n",
    "seqli                       # item 0 = the empty string item 1 is the seq1 and item 2 is seq"
   ]
  },
  {
   "cell_type": "markdown",
   "metadata": {},
   "source": [
    "#### 5. Writing the function including all 'test-prints' - below is just the *draft*\n",
    "- ok so I got a list containing 3 items and I know that seqli[1] contains seq1 and seqli[2] contains seq2\n",
    "- remember .read() returns the whole file in a *string* by default"
   ]
  },
  {
   "cell_type": "code",
   "execution_count": 103,
   "metadata": {},
   "outputs": [
    {
     "name": "stdout",
     "output_type": "stream",
     "text": [
      "['', 'tr|Q9IQN3|Q9IQN3_9HIV1 Protein Rev (Fragment) OS=Human immunodeficiency virus 1 OX=11676 GN=rev PE=4 SV=1\\nPPPSSEGTRQARRNRRRRWRERQRQIRRISGWILSNHLGGLTEPVPLQLPPLERLTLDCN\\nEDCGTSGTQGVGSPQIPVESPTVLESGTKE\\n', 'sp|O95218|ZRAB2_HUMAN Zinc finger Ran-binding domain-containing protein 2 OS=Homo sapiens OX=9606 GN=ZRANB2 PE=1 SV=2\\nMSTKNFRVSDGDWICPDKKCGNVNFARRTSCNRCGREKTTEAKMMKAGGTEIGKTLAEKS\\nRGLFSANDWQCKTCSNVNWARRSECNMCNTPKYAKLEERTGYGGGFNERENVEYIEREES\\nDGEYDEFGRKKKKYRGKAVGPASILKEVEDKESEGEEEDEDEDLSKYKLDEDEDEDDADL\\nSKYNLDASEEEDSNKKKSNRRSRSKSRSSHSRSSSRSSSPSSSRSRSRSRSRSSSSSQSR\\nSRSSSRERSRSRGSKSRSSSRSHRGSSSPRKRSYSSSSSSPERNRKRSRSRSSSSGDRKK\\nRRTRSRSPERRHRSSSGSSHSGSRSSSKKK\\n']\n",
      "here the seqs\n",
      "tr|Q9IQN3|Q9IQN3_9HIV1 Protein Rev (Fragment) OS=Human immunodeficiency virus 1 OX=11676 GN=rev PE=4 SV=1\n",
      "PPPSSEGTRQARRNRRRRWRERQRQIRRISGWILSNHLGGLTEPVPLQLPPLERLTLDCN\n",
      "EDCGTSGTQGVGSPQIPVESPTVLESGTKE\n",
      "\n",
      "sp|O95218|ZRAB2_HUMAN Zinc finger Ran-binding domain-containing protein 2 OS=Homo sapiens OX=9606 GN=ZRANB2 PE=1 SV=2\n",
      "MSTKNFRVSDGDWICPDKKCGNVNFARRTSCNRCGREKTTEAKMMKAGGTEIGKTLAEKS\n",
      "RGLFSANDWQCKTCSNVNWARRSECNMCNTPKYAKLEERTGYGGGFNERENVEYIEREES\n",
      "DGEYDEFGRKKKKYRGKAVGPASILKEVEDKESEGEEEDEDEDLSKYKLDEDEDEDDADL\n",
      "SKYNLDASEEEDSNKKKSNRRSRSKSRSSHSRSSSRSSSPSSSRSRSRSRSRSSSSSQSR\n",
      "SRSSSRERSRSRGSKSRSSSRSHRGSSSPRKRSYSSSSSSPERNRKRSRSRSSSSGDRKK\n",
      "RRTRSRSPERRHRSSSGSSHSGSRSSSKKK\n",
      "\n",
      "this is the list of seq1 incl header in liseq1[0]\n",
      " ['tr|Q9IQN3|Q9IQN3_9HIV1 Protein Rev (Fragment) OS=Human immunodeficiency virus 1 OX=11676 GN=rev PE=4 SV=1', 'PPPSSEGTRQARRNRRRRWRERQRQIRRISGWILSNHLGGLTEPVPLQLPPLERLTLDCN', 'EDCGTSGTQGVGSPQIPVESPTVLESGTKE', '']\n",
      "BEFORE join: ['PPPSSEGTRQARRNRRRRWRERQRQIRRISGWILSNHLGGLTEPVPLQLPPLERLTLDCN', 'EDCGTSGTQGVGSPQIPVESPTVLESGTKE', '']\n",
      "Seq1 AFTER join: PPPSSEGTRQARRNRRRRWRERQRQIRRISGWILSNHLGGLTEPVPLQLPPLERLTLDCNEDCGTSGTQGVGSPQIPVESPTVLESGTKE\n",
      "Seq2 AFTER join: MSTKNFRVSDGDWICPDKKCGNVNFARRTSCNRCGREKTTEAKMMKAGGTEIGKTLAEKSRGLFSANDWQCKTCSNVNWARRSECNMCNTPKYAKLEERTGYGGGFNERENVEYIEREESDGEYDEFGRKKKKYRGKAVGPASILKEVEDKESEGEEEDEDEDLSKYKLDEDEDEDDADLSKYNLDASEEEDSNKKKSNRRSRSKSRSSHSRSSSRSSSPSSSRSRSRSRSRSSSSSQSRSRSSSRERSRSRGSKSRSSSRSHRGSSSPRKRSYSSSSSSPERNRKRSRSRSSSSGDRKKRRTRSRSPERRHRSSSGSSHSGSRSSSKKK\n",
      "This is the tuple containing seq1 and seq2:\n",
      " ('PPPSSEGTRQARRNRRRRWRERQRQIRRISGWILSNHLGGLTEPVPLQLPPLERLTLDCNEDCGTSGTQGVGSPQIPVESPTVLESGTKE', 'MSTKNFRVSDGDWICPDKKCGNVNFARRTSCNRCGREKTTEAKMMKAGGTEIGKTLAEKSRGLFSANDWQCKTCSNVNWARRSECNMCNTPKYAKLEERTGYGGGFNERENVEYIEREESDGEYDEFGRKKKKYRGKAVGPASILKEVEDKESEGEEEDEDEDLSKYKLDEDEDEDDADLSKYNLDASEEEDSNKKKSNRRSRSKSRSSHSRSSSRSSSPSSSRSRSRSRSRSSSSSQSRSRSSSRERSRSRGSKSRSSSRSHRGSSSPRKRSYSSSSSSPERNRKRSRSRSSSSGDRKKRRTRSRSPERRHRSSSGSSHSGSRSSSKKK')\n"
     ]
    }
   ],
   "source": [
    "def split_fasta(fastafile):\n",
    "    filist = []\n",
    "    seq1 = '' #defining both variables now so they can be returned later\n",
    "    seq2 = ''\n",
    "    with open('./'+fastafile, 'r') as rfile: #open the fastafile\n",
    "        allines = rfile.read()               # .read() returns the whole file as string\n",
    "        newlist = allines.split(\">\", 2)      # splitting the string into list of 3 items \n",
    "        print(newlist)                       # checking that the result is what i belive [0] empty\n",
    "        seq1string =  newlist[1]             # seq1string takes item[1] of the newlist which is seq1 incl header\n",
    "        seq2string =  newlist[2]             # seq2string takes item[2] of the newlist which is seq1 incl header\n",
    "        print(\"here the seqs\")               # just to avoid reading the wrong line\n",
    "        print(seq1string)                    # printing both sequences including header\n",
    "        print(seq2string)\n",
    "        liseq1 = seq1string.split(\"\\n\")      # removing the '\\n' characters so the strgs can be joined later.\n",
    "        liseq2 = seq2string.split(\"\\n\")\n",
    "        print(\"this is the list of seq1 incl header in liseq1[0]\\n\", liseq1) # checking if it worked on the first seq\n",
    "        noheader1=liseq1[1:]                 # noheaderX is the amino acid sequence alone\n",
    "        noheader2=liseq2[1:]\n",
    "        print('BEFORE join:', noheader1)     # checking if its ok before joining\n",
    "        seq1 = str.join('', noheader1)\n",
    "        print('Seq1 AFTER join:', seq1)      # checking if joined properly before proceeding with seq2\n",
    "        seq2 = str.join('', noheader2)\n",
    "        print('Seq2 AFTER join:', seq2)        \n",
    "    return (seq1, seq2)                      #remember to return tuple with both seqs\n",
    "         \n",
    "seqtuple = split_fasta(\"Q9IQN3.fasta\") #calling the funciton on the file that contains 2 seqs\n",
    "print('This is the tuple containing seq1 and seq2:\\n', seqtuple) # Text to find the right print to confirm\n"
   ]
  },
  {
   "cell_type": "markdown",
   "metadata": {},
   "source": [
    "# Final version of function a):\n",
    "a) Write a function that reads **two amino acid sequences** into **Python strings** *from a file* in FASTA format and put them in the two variables seq1 and seq2, respectively. The function should **return a tuple (seq1, seq2)**."
   ]
  },
  {
   "cell_type": "code",
   "execution_count": 2,
   "metadata": {},
   "outputs": [
    {
     "name": "stdout",
     "output_type": "stream",
     "text": [
      "('PPPSSEGTRQARRNRRRRWRERQRQIRRISGWILSNHLGGLTEPVPLQLPPLERLTLDCNEDCGTSGTQGVGSPQIPVESPTVLESGTKE', 'MSTKNFRVSDGDWICPDKKCGNVNFARRTSCNRCGREKTTEAKMMKAGGTEIGKTLAEKSRGLFSANDWQCKTCSNVNWARRSECNMCNTPKYAKLEERTGYGGGFNERENVEYIEREESDGEYDEFGRKKKKYRGKAVGPASILKEVEDKESEGEEEDEDEDLSKYKLDEDEDEDDADLSKYNLDASEEEDSNKKKSNRRSRSKSRSSHSRSSSRSSSPSSSRSRSRSRSRSSSSSQSRSRSSSRERSRSRGSKSRSSSRSHRGSSSPRKRSYSSSSSSPERNRKRSRSRSSSSGDRKKRRTRSRSPERRHRSSSGSSHSGSRSSSKKK')\n",
      "This is sequence 1 :\n",
      " PPPSSEGTRQARRNRRRRWRERQRQIRRISGWILSNHLGGLTEPVPLQLPPLERLTLDCNEDCGTSGTQGVGSPQIPVESPTVLESGTKE \n",
      "This is sequence 2 :\n",
      " MSTKNFRVSDGDWICPDKKCGNVNFARRTSCNRCGREKTTEAKMMKAGGTEIGKTLAEKSRGLFSANDWQCKTCSNVNWARRSECNMCNTPKYAKLEERTGYGGGFNERENVEYIEREESDGEYDEFGRKKKKYRGKAVGPASILKEVEDKESEGEEEDEDEDLSKYKLDEDEDEDDADLSKYNLDASEEEDSNKKKSNRRSRSKSRSSHSRSSSRSSSPSSSRSRSRSRSRSSSSSQSRSRSSSRERSRSRGSKSRSSSRSHRGSSSPRKRSYSSSSSSPERNRKRSRSRSSSSGDRKKRRTRSRSPERRHRSSSGSSHSGSRSSSKKK\n"
     ]
    }
   ],
   "source": [
    "def split_fasta(fastafile): \n",
    "    '''Function takes as input a fasta file containing *EXACTLY* 2 sequences. \n",
    "    It extracts the amino acid sequences and puts them into the variables\n",
    "    seq1 and seq2 which are returned as a tuple (seq1, seq2)'''\n",
    "    seq1 = '' #defining both variables now so they can be returned later\n",
    "    seq2 = ''\n",
    "    with open('./'+fastafile, 'r') as rfile: #open the fastafile\n",
    "        allines = rfile.read()               # .read() returns the whole file as string\n",
    "        newlist = allines.split(\">\", 2)      # splitting the string into list of 3 items \n",
    "        seq1string =  newlist[1]             # seq1string takes item[1] of the newlist which is seq1 incl header\n",
    "        seq2string =  newlist[2]             # seq2string takes item[2] of the newlist which is seq1 incl header\n",
    "        liseq1 = seq1string.split(\"\\n\")      # removing the '\\n' characters so the strgs can be joined later.\n",
    "        liseq2 = seq2string.split(\"\\n\")\n",
    "        noheader_list1=liseq1[1:]                 # noheaderX is the amino acid sequence alone\n",
    "        noheader_list2=liseq2[1:]\n",
    "        seq1 = str.join('', noheader_list1)       # joining the list of aa into string and putting it into the variable seq1, seq2\n",
    "        seq2 = str.join('', noheader_list2)\n",
    "    return (seq1, seq2)                      #returnin tuple with both sequences\n",
    "         \n",
    "seqtuple = split_fasta(\"Q9IQN3.fasta\") #calling the funciton on the file that contains 2 seqs\n",
    "print(seqtuple) #Printing the tuple see if it works\n",
    "seq1, seq2 = seqtuple # unpacking the tuple\n",
    "print(\"This is sequence 1 :\\n\",seq1, \"\\nThis is sequence 2 :\\n\",seq2) # printing each seq \n"
   ]
  },
  {
   "cell_type": "markdown",
   "metadata": {},
   "source": [
    "# b) \n",
    "Write a function that \n",
    "- **reads** a **substitution matrix** from a **text file** \n",
    "- and puts its **values in a dictionary** where **pairs of amino acids** letters are the **keys** (“AA”, “AC”, “AD”, etc.). \n",
    "- The function should return the dictionary. \n"
   ]
  },
  {
   "cell_type": "markdown",
   "metadata": {},
   "source": [
    "Steps for b)\n",
    "- try on tinymatrix.txt so its easier to build and expand later\n",
    "\n",
    "```\n",
    "\n",
    "   A  R  N  D  \n",
    "A  4 -1 -2 -2  \n",
    "R -1  5  0 -2 \n",
    "N -2  0  6  1 \n",
    "D -2 -2  1  6 \n",
    "C  0 -3 -3 -3 \n",
    "\n",
    "```\n",
    "\n",
    "make one fct that makes list of txt file:\n",
    "- open and .readlines() entire file: the method gives me a list where each item is one row.\n",
    "- name of row i (each item of list)\n",
    "- name of col j (inner indices)\n",
    "\n",
    "\n",
    "- I dont need the first row i=0 as it is exactly the same as [0][i] vertical down.\n",
    "- need to make a nested loop to do each against each:\n",
    "\n",
    "# Final version of b)\n",
    "read_blosum50.py"
   ]
  },
  {
   "cell_type": "code",
   "execution_count": 17,
   "metadata": {},
   "outputs": [
    {
     "name": "stdout",
     "output_type": "stream",
     "text": [
      "{'AA': 4, 'AR': -1, 'AN': -2, 'AD': -2, 'RA': -1, 'RR': 5, 'RN': 0, 'RD': -2, 'NA': -2, 'NR': 0, 'NN': 6, 'ND': 1, 'DA': -2, 'DR': -2, 'DN': 1, 'DD': 6}\n"
     ]
    }
   ],
   "source": [
    "def subsmat_from_txt(filename):\n",
    "    '''Take as input a filename (must be written between '') of a matrix does not contain a header. \n",
    "    It returns a substitution matrix. '''\n",
    "    scoringmatrix_dict = {} #blosumdictionary\n",
    "    pairli=[]\n",
    "    \n",
    "    with open(filename, 'r') as rfile:\n",
    "        pairlist = []\n",
    "        resilist = rfile.readline().rstrip().split() # creates list of all 20 residues.\n",
    "        for i in range(len(resilist)):\n",
    "            pair='' # creating loop to enable pairing the residues 'AA':, 'AR':...\n",
    "            for j in range(len(resilist)):\n",
    "                pair = resilist[i] + resilist[j]\n",
    "                pairlist.append(pair) \n",
    "        # print(pairlist) # now I know I have a list that has all the keys. And every 20 items - so at item 21 Im in a new line of the matrix. At 41 in the line below that and at 61 below that.... So now I can add the values according to their postion in the txt.\n",
    "\n",
    "        scorli = []\n",
    "        numscoreli = []\n",
    "        for k in range(1, len(resilist)+1): # index 0 is letters only - so I skip it. But need to add 1 otherwise last value would be lost. So all XV and VX values...\n",
    "            full_list = rfile.readline().rstrip().split()\n",
    "            scorli = full_list[1:] #now I know I have a list whose first character can be ommitted because its just the aa.\n",
    "            for el in range(len(resilist)): # the list contains strings - need to generate integers.\n",
    "                num_score = int(scorli[el])\n",
    "                numscoreli.append(num_score) #numscoreli has the same layout as pairlist matching indecis can be paired as key and value:\n",
    "        for l in range(len(pairlist)):\n",
    "            scoringmatrix_dict[pairlist[l]] = numscoreli[l]\n",
    "        return scoringmatrix_dict\n",
    "    \n",
    "matrix = subsmat_from_txt(\"tinymatrix.txt\")\n",
    "print(matrix)    "
   ]
  },
  {
   "cell_type": "code",
   "execution_count": 16,
   "metadata": {},
   "outputs": [
    {
     "name": "stdout",
     "output_type": "stream",
     "text": [
      "{'AA': 4, 'AR': -1, 'AN': -2, 'AD': -2, 'AC': 0, 'AQ': -1, 'AE': -1, 'AG': 0, 'AH': -2, 'AI': -1, 'AL': -1, 'AK': -1, 'AM': -1, 'AF': -2, 'AP': -1, 'AS': 1, 'AT': 0, 'AW': -3, 'AY': -2, 'AV': 0, 'RA': -1, 'RR': 5, 'RN': 0, 'RD': -2, 'RC': -3, 'RQ': 1, 'RE': 0, 'RG': -2, 'RH': 0, 'RI': -3, 'RL': -2, 'RK': 2, 'RM': -1, 'RF': -3, 'RP': -2, 'RS': -1, 'RT': -1, 'RW': -3, 'RY': -2, 'RV': -3, 'NA': -2, 'NR': 0, 'NN': 6, 'ND': 1, 'NC': -3, 'NQ': 0, 'NE': 0, 'NG': 0, 'NH': 1, 'NI': -3, 'NL': -3, 'NK': 0, 'NM': -2, 'NF': -3, 'NP': -2, 'NS': 1, 'NT': 0, 'NW': -4, 'NY': -2, 'NV': -3, 'DA': -2, 'DR': -2, 'DN': 1, 'DD': 6, 'DC': -3, 'DQ': 0, 'DE': 2, 'DG': -1, 'DH': -1, 'DI': -3, 'DL': -4, 'DK': -1, 'DM': -3, 'DF': -3, 'DP': -1, 'DS': 0, 'DT': -1, 'DW': -4, 'DY': -3, 'DV': -3, 'CA': 0, 'CR': -3, 'CN': -3, 'CD': -3, 'CC': 9, 'CQ': -3, 'CE': -4, 'CG': -3, 'CH': -3, 'CI': -1, 'CL': -1, 'CK': -3, 'CM': -1, 'CF': -2, 'CP': -3, 'CS': -1, 'CT': -1, 'CW': -2, 'CY': -2, 'CV': -1, 'QA': -1, 'QR': 1, 'QN': 0, 'QD': 0, 'QC': -3, 'QQ': 5, 'QE': 2, 'QG': -2, 'QH': 0, 'QI': -3, 'QL': -2, 'QK': 1, 'QM': 0, 'QF': -3, 'QP': -1, 'QS': 0, 'QT': -1, 'QW': -2, 'QY': -1, 'QV': -2, 'EA': -1, 'ER': 0, 'EN': 0, 'ED': 2, 'EC': -4, 'EQ': 2, 'EE': 5, 'EG': -2, 'EH': 0, 'EI': -3, 'EL': -3, 'EK': 1, 'EM': -2, 'EF': -3, 'EP': -1, 'ES': 0, 'ET': -1, 'EW': -3, 'EY': -2, 'EV': -2, 'GA': 0, 'GR': -2, 'GN': 0, 'GD': -1, 'GC': -3, 'GQ': -2, 'GE': -2, 'GG': 6, 'GH': -2, 'GI': -4, 'GL': -4, 'GK': -2, 'GM': -3, 'GF': -3, 'GP': -2, 'GS': 0, 'GT': -2, 'GW': -2, 'GY': -3, 'GV': -3, 'HA': -2, 'HR': 0, 'HN': 1, 'HD': -1, 'HC': -3, 'HQ': 0, 'HE': 0, 'HG': -2, 'HH': 8, 'HI': -3, 'HL': -3, 'HK': -1, 'HM': -2, 'HF': -1, 'HP': -2, 'HS': -1, 'HT': -2, 'HW': -2, 'HY': 2, 'HV': -3, 'IA': -1, 'IR': -3, 'IN': -3, 'ID': -3, 'IC': -1, 'IQ': -3, 'IE': -3, 'IG': -4, 'IH': -3, 'II': 4, 'IL': 2, 'IK': -3, 'IM': 1, 'IF': 0, 'IP': -3, 'IS': -2, 'IT': -1, 'IW': -3, 'IY': -1, 'IV': 3, 'LA': -1, 'LR': -2, 'LN': -3, 'LD': -4, 'LC': -1, 'LQ': -2, 'LE': -3, 'LG': -4, 'LH': -3, 'LI': 2, 'LL': 4, 'LK': -2, 'LM': 2, 'LF': 0, 'LP': -3, 'LS': -2, 'LT': -1, 'LW': -2, 'LY': -1, 'LV': 1, 'KA': -1, 'KR': 2, 'KN': 0, 'KD': -1, 'KC': -3, 'KQ': 1, 'KE': 1, 'KG': -2, 'KH': -1, 'KI': -3, 'KL': -2, 'KK': 5, 'KM': -1, 'KF': -3, 'KP': -1, 'KS': 0, 'KT': -1, 'KW': -3, 'KY': -2, 'KV': -2, 'MA': -1, 'MR': -1, 'MN': -2, 'MD': -3, 'MC': -1, 'MQ': 0, 'ME': -2, 'MG': -3, 'MH': -2, 'MI': 1, 'ML': 2, 'MK': -1, 'MM': 5, 'MF': 0, 'MP': -2, 'MS': -1, 'MT': -1, 'MW': -1, 'MY': -1, 'MV': 1, 'FA': -2, 'FR': -3, 'FN': -3, 'FD': -3, 'FC': -2, 'FQ': -3, 'FE': -3, 'FG': -3, 'FH': -1, 'FI': 0, 'FL': 0, 'FK': -3, 'FM': 0, 'FF': 6, 'FP': -4, 'FS': -2, 'FT': -2, 'FW': 1, 'FY': 3, 'FV': -1, 'PA': -1, 'PR': -2, 'PN': -2, 'PD': -1, 'PC': -3, 'PQ': -1, 'PE': -1, 'PG': -2, 'PH': -2, 'PI': -3, 'PL': -3, 'PK': -1, 'PM': -2, 'PF': -4, 'PP': 7, 'PS': -1, 'PT': -1, 'PW': -4, 'PY': -3, 'PV': -2, 'SA': 1, 'SR': -1, 'SN': 1, 'SD': 0, 'SC': -1, 'SQ': 0, 'SE': 0, 'SG': 0, 'SH': -1, 'SI': -2, 'SL': -2, 'SK': 0, 'SM': -1, 'SF': -2, 'SP': -1, 'SS': 4, 'ST': 1, 'SW': -3, 'SY': -2, 'SV': -2, 'TA': 0, 'TR': -1, 'TN': 0, 'TD': -1, 'TC': -1, 'TQ': -1, 'TE': -1, 'TG': -2, 'TH': -2, 'TI': -1, 'TL': -1, 'TK': -1, 'TM': -1, 'TF': -2, 'TP': -1, 'TS': 1, 'TT': 5, 'TW': -2, 'TY': -2, 'TV': 0, 'WA': -3, 'WR': -3, 'WN': -4, 'WD': -4, 'WC': -2, 'WQ': -2, 'WE': -3, 'WG': -2, 'WH': -2, 'WI': -3, 'WL': -2, 'WK': -3, 'WM': -1, 'WF': 1, 'WP': -4, 'WS': -3, 'WT': -2, 'WW': 11, 'WY': 2, 'WV': -3, 'YA': -2, 'YR': -2, 'YN': -2, 'YD': -3, 'YC': -2, 'YQ': -1, 'YE': -2, 'YG': -3, 'YH': 2, 'YI': -1, 'YL': -1, 'YK': -2, 'YM': -1, 'YF': 3, 'YP': -3, 'YS': -2, 'YT': -2, 'YW': 2, 'YY': 7, 'YV': -1, 'VA': 0, 'VR': -3, 'VN': -3, 'VD': -3, 'VC': -1, 'VQ': -2, 'VE': -2, 'VG': -3, 'VH': -3, 'VI': 3, 'VL': 1, 'VK': -2, 'VM': 1, 'VF': -1, 'VP': -2, 'VS': -2, 'VT': 0, 'VW': -3, 'VY': -1, 'VV': 4}\n"
     ]
    }
   ],
   "source": [
    "#it works on the tinymatrix.txt lets try it on the blosum50\n",
    "blosum50 = subsmat_from_txt(\"blosum50.txt\")\n",
    "print(blosum50)"
   ]
  },
  {
   "cell_type": "markdown",
   "metadata": {},
   "source": [
    "### c)\n",
    "Write a function that takes as input the **two sequences** and the **dictionary**, and finds the best scoring alignment based on an ungapped exhaustive search. Non-aligned residues at the beginning or at the end of the alignment will score zero (gap penalty = 0)."
   ]
  },
  {
   "cell_type": "markdown",
   "metadata": {},
   "source": [
    "Scripts will be evaluated using the usual rubric. Please have a look at it.\n",
    "- Use **comments** to justify your choices and explain what you are doing step by step;\n",
    "- Use **docstrings** to describe input, output and the action of functions;\n",
    "- **Modularise** your code;\n",
    "- **Run** and **debug** your script(s);\n",
    "- **Send in** your script(s), as well as the input files, **two WORKING days before** the exam (by email);\n",
    "- The oral exam will consist in critically discussing your code. I will ask you how you would modify\n",
    "your code if you had to implement a different algorithm, use a different input, or produce a\n",
    "different output. In order to be able to do this, you will have to perfectly master your code.\n",
    "- You will also run your code and show that it is bug-free.\n"
   ]
  },
  {
   "cell_type": "code",
   "execution_count": 18,
   "metadata": {},
   "outputs": [],
   "source": [
    "# def best_scoring_alignment(s1, s2, dict, g_p = 0):\n",
    "#     '''Takes as input two sequences and a dictionary of a substitution scoring matrix. It finds the best scoring alignments based on an *ungapped* and *exhaustive* search. \n",
    "#     Trailing residues that are not aligned (beginning or end of the seq) recieve a gap penalty of 0.'''\n",
    "    "
   ]
  },
  {
   "cell_type": "code",
   "execution_count": 21,
   "metadata": {},
   "outputs": [
    {
     "data": {
      "text/plain": [
       "['---------------LHTYQWK-----------', 'AAAAAAAAAAAAAAAAATYQAAAAAAAAAAAAA', 10]"
      ]
     },
     "execution_count": 21,
     "metadata": {},
     "output_type": "execute_result"
    }
   ],
   "source": [
    "def calcAlignment(s1,s2,dictionary,gp=0):\n",
    "\n",
    "    '''The function finds the best scoring alignment implementing an ungapped exhaustive alignment algorithm.\n",
    "\n",
    "    The function takes as input the sequences and the scoring matrix; gap penalty is equal to 0. The\n",
    "    function will return the best alignment(s) and the score.\n",
    "    '''\n",
    "\n",
    "    if len(s1)>len(s2):    \n",
    "        seq = \n",
    "        #if sequences are not of equal len dashes are added to the shorter one.\n",
    "        seq = list(s2+ '-'*len(seq1))   #sequence are added at the beginning of the shortest one\n",
    "        dashseq = list('-'*len(seq2) +seq1)  #viceversa a number of dash equal to the shortest are\n",
    "    else:                                #added at the end of the longest\n",
    "        long=list(seq1+ '-'*len(seq2))\n",
    "        short=list('-'*len(seq1) +seq2)\n",
    "    score=gp*len(short)\n",
    "    bestAl=[''.join(short),''.join(long),score] #initialize a list where to store the best alignment(s).\n",
    "\n",
    "    # Iteration: sequeces slides on each other\n",
    "    for i in range((len(seq1)+ len(seq2))-1):   #the number of iteration is equal to the sum of the lenght of both\n",
    "        score=0                                 #sequences because the first and the last alignments are equal\n",
    "        if long[-1]=='-' and short[0]=='-':\n",
    "            del short[0]                          #delete dash at the beginning\n",
    "            del long[-1]                          #delete dash at the end\n",
    "            for a1, a2 in zip(short,long):        #get the score of each of the amino acid aligned\n",
    "                if a1 == '-' or a2 == '-': score += gp\n",
    "                else: score += dictionary[a1 + a2]\n",
    "        elif long[-1] != '-' and short[0] == '-': #if the long sequence has no more dash at the end but the short has\n",
    "            short+='-'                            #append dash at the end\n",
    "            del short[0]                          #delete dash at the beginning\n",
    "            for a1, a2 in zip(short,long):\n",
    "                if a1 == '-' or a2 == '-': score += gp\n",
    "                else: score += dictionary[a1 + a2]\n",
    "        else:\n",
    "            long.insert(0, '-')                   #append dash at the beginning\n",
    "            short+='-'\n",
    "            for a1, a2 in zip(short,long):\n",
    "                if a1 == '-' or a2 == '-': score += gp\n",
    "                else: score += dictionary[a1 + a2]\n",
    "        if score > bestAl[2]: bestAl=[''.join(short),''.join(long),score]   #if the score is better replace the sequences\n",
    "        elif score == bestAl[2]: bestAl+=[''.join(short),''.join(long),score]   #if the score is equal append the sequences\n",
    "    return bestAl\n",
    "\n",
    "calcAlignment(\"AAAAAAAAAAAAAAAAATYQAAA\",\"LHTYQWK\",blosum50,gp=0)"
   ]
  },
  {
   "cell_type": "markdown",
   "metadata": {},
   "source": [
    "# Final exam script\n",
    "a) Write a function that calculates the global dynamic programming (scoring) matrix F based on the Smith- Waterman algorithm and the associated traceback matrix P. The function will take seq1, seq2, the BLOSUM50 matrix and the gap value as input and return F and P.\n"
   ]
  },
  {
   "cell_type": "code",
   "execution_count": null,
   "metadata": {},
   "outputs": [],
   "source": [
    "import matrices\n",
    "\n",
    "def glob_al_NW(seq1, seq2, substitutionMatrix, gap_penalty):\n",
    "    \"\"\" Does global alignment employing dynamic programming employing the Needleman-Wunsch algorithm. Needs 2 sequences, one scoring matrix such as BLOSUM or PAM and a gap penalty as input. It creates matrix S (containing the score) and the path matrix P (containing the path for backtracking). It returns both S and P and the maximum score.\"\"\"\n",
    "    num_rows = len(seq1) + 1 # M[0][0] filled with 0 plus seq1 (is on the \"vertical dimension\" of the matix) and determines the number of rows. This also determines the lenght of each column\n",
    "    num_cols = len(seq2) + 1 # Here its M[0][0] filled with 0 plus seq2 across \"horizontal dimension\" that determines the length of each row plus \n",
    "\n",
    "    # #  0  s  e  q  2        illutstrates how len(seq2)+1 determines the number of columns (5) AND the length of each row\n",
    "    # 0  0 -2 -4 -6 -8       and len(seq1)+1 dictates the number of rows AND the lenght of each column\n",
    "    # s -2 x  x  x   x\n",
    "    # e -4 x  x  x   x\n",
    "    # q -6 x  x  x   x\n",
    "    # 1 -8 x  x  x   x\n",
    "\n",
    "    # Generate matrices S and P and dimensions num_rows * num_cols. Fills it with 0 for now.\n",
    "    S = [[0] * num_cols for x in range(num_rows)]\n",
    "    P = [[0] * num_cols for x in range(num_rows)]\n",
    "    \n",
    "    # Fill the first column of the matrices S (score) and P (path).\n",
    "    for i in range(num_rows):\n",
    "        S[i][0] = gap_penalty * i # to obtain all the gap penalties you need to multiplicate with the iteration\n",
    "        P[i][0] = 'u' # indicates up\n",
    "        \n",
    "    # Fills first row of the each matrix S and P. Now i is fixed and j iterates.\n",
    "    for j in range(num_cols):\n",
    "        S[0][j] = gap_penalty * j # to obtain all the gap penalties you need to multiplicate with the iteration\n",
    "        P[0][j] = 'l' # indicates left\n",
    "        \n",
    "    # Fills the remaining cols and rows of each matrix starting at index 1 (because 0 was filled above)\n",
    "    for i in range(1, num_rows): # indexes of 'outer list' iterates through the 'lines of the matrix'\n",
    "        for j in range(1, num_cols): # Rows\n",
    "            \n",
    "            sDiagonal = S[i-1][j-1] + substitutionMatrix[seq1[i-1] + seq2[j-1]] # Previous value in the diagonal + score of match or mismatch\n",
    "            s_Top = S[i-1][j] + gap_penalty # Previous value in the column + gap\n",
    "            s_Left = S[i][j-1] + gap_penalty # Previous value in the diagonal + gap\n",
    "            \n",
    "            # Obtains the maximun value\n",
    "            max_score = max(sDiagonal, s_Top, s_Left)\n",
    "            \n",
    "            # Fills the path matrix with directional indication u = up, l = left and d = diagonal in the matrix P\n",
    "            if max_score == sDiagonal:\n",
    "                P[i][j] = \"d\" # d, represents diagonal\n",
    "            elif max_score == s_Top:\n",
    "                P[i][j] = \"u\" # u, represents column (up)\n",
    "            else:\n",
    "                P[i][j] = \"l\" # l, represents row (left)\n",
    "                \n",
    "            S[i][j] = max_score # strore the max_score in the matrix S in position Sij\n",
    "\n",
    "    return S,P\n",
    "\n",
    "# S, P = glob_al_NW('ADCDN', 'AWCN', matrices.blosum62, -4) # variable S and P are defined and hold now whatever the funciton\n",
    "# # glob_al_NW returns.\n",
    "\n",
    "# print(S)\n",
    "# print('dir')\n",
    "# print(P)\n",
    "\n",
    "# for row in S:\n",
    "#     for num in row: # each number in a row\n",
    "#         print(num,'\\t', end='')\n",
    "#     print('') # newline when we finish printing a row\n",
    "\n",
    "# for dir in P:\n",
    "# # unpack\n",
    "#     for letter in dir:\n",
    "#         print(letter+'\\t', end='')\n",
    "#     print('')\n",
    "\n",
    "def best_alignment(seq1, seq2, S, P):\n",
    "    \"\"\" The function aligns seq1 to seq2 by backtracking using P matrix. \n",
    "    The score is obtained from the matrix S, which stores all the maxima of the alignment. \"best_alignment\" returns the template (seq1), target (seq2) including eventual gaps AND best score\"\"\"\n",
    "    \n",
    "    i = len(P) - 1; j = len(P[0]) -1 # To get the index of the last position on the matrix. Indicates start of backtracking\n",
    "    template_l = \"\"; target_u = \"\"; score = S[i][j] # The last position of the matrix S is the best score in NW with gaps\n",
    "    while i + j != 0: #because only if both are 0 it should stop\n",
    "        if P[i][j] == \"d\": # if from diagonal = match or mismatch\n",
    "            template_l += seq1[i - 1] # Concattinate corresponding part of seq1 to the string called template\n",
    "            target_u += seq2[j - 1] # Concattinate corresponding part of seq2 to the string called template.\n",
    "            i -= 1 # decrement i for one to continue backtracking\n",
    "            j -= 1 # same for j\n",
    "        elif P[i][j] == \"u\":\n",
    "            template_l += seq1[i - 1] # Insert in template the letter of the sequence 1\n",
    "            target_u += \"-\" # Inserts a gap \n",
    "            i -= 1\n",
    "        else:\n",
    "            template_l += \"-\" #Symbolizes insertion of a gap\n",
    "            target_u += seq2[j - 1] # Insert in template the letter of the sequence 2\n",
    "            j -= 1\n",
    "            # Use gaps when the movement is to left or up, we are add a gap \"-\". \n",
    "\n",
    "    return template_l, target_u, score\n",
    "\n",
    "# def represent_alignment(template, target, score):            \n",
    "#     \"\"\" Print the template (sequence 1) and the target (sequence 2) representing the best alignment and the score\"\"\"\n",
    "#     template = template[::-1] # Reverse template\n",
    "#     target = target[::-1] # Reverse target\n",
    "#     print(\"Seq1:\", template)\n",
    "#     print(\"Seq2:\", target)\n",
    "#     print(\"Score:\", score)\n",
    "    \n",
    "# def obtain_data():\n",
    "#     \"\"\" Function to read the seq1, seq2 and the substitutionMatrix dictionary from the file input_data.py \"\"\"\n",
    "#     import input_data\n",
    "#     dic = input_data.BLOSUM52\n",
    "#     seq1 = input_data.seq1\n",
    "#     seq2 = input_data.seq2\n",
    "#     return seq1, seq2, dic\n",
    "\n",
    "# if __name__ == \"__main__\":\n",
    "#     seq1, seq2, BLOSUM52 = obtain_data() # Sequences without gaps and dictionary BLOSUM52\n",
    "#     gap_penalty = -2 # Use the normal gap_penalty that we use in class, in the exam is not specificed\n",
    "#     F, P = glob_al_NW(seq1, seq2, BLOSUM52, gap_penalty)\n",
    "#     template, target, score = best_alignment(seq1, seq2, F, P)\n",
    "#     represent_alignment(template, target, score)"
   ]
  },
  {
   "cell_type": "markdown",
   "metadata": {},
   "source": [
    "b) Write a function that takes F, P, seq1 and seq2 as input and returns the best local alignment(s) between seq1 and seq2 and the corresponding score(s)."
   ]
  },
  {
   "cell_type": "code",
   "execution_count": null,
   "metadata": {},
   "outputs": [],
   "source": []
  },
  {
   "cell_type": "markdown",
   "metadata": {},
   "source": [
    "c) Print the alignment(s) and the corresponding score(s)"
   ]
  },
  {
   "cell_type": "code",
   "execution_count": null,
   "metadata": {},
   "outputs": [],
   "source": []
  }
 ],
 "metadata": {
  "kernelspec": {
   "display_name": "Python 3",
   "language": "python",
   "name": "python3"
  },
  "language_info": {
   "codemirror_mode": {
    "name": "ipython",
    "version": 3
   },
   "file_extension": ".py",
   "mimetype": "text/x-python",
   "name": "python",
   "nbconvert_exporter": "python",
   "pygments_lexer": "ipython3",
   "version": "3.7.2"
  }
 },
 "nbformat": 4,
 "nbformat_minor": 2
}
