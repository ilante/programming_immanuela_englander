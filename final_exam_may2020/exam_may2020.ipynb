{
 "cells": [
  {
   "cell_type": "markdown",
   "metadata": {},
   "source": [
    "Scripts will be evaluated using the usual rubric. Please have a look at it.\n",
    "- Use **comments** to justify your choices and explain what you are doing step by step;\n",
    "- Use **docstrings** to describe input, output and the action of functions;\n",
    "- **Modularise** your code;\n",
    "- **Run** and **debug** your script(s);\n",
    "- **Send in** your script(s), as well as the input files, **two WORKING days before** the exam (by email);\n",
    "- The oral exam will consist in critically discussing your code. I will ask you how you would modify\n",
    "your code if you had to implement a different algorithm, use a different input, or produce a\n",
    "different output. In order to be able to do this, you will have to perfectly master your code.\n",
    "- You will also run your code and show that it is bug-free.\n"
   ]
  },
  {
   "cell_type": "markdown",
   "metadata": {},
   "source": [
    "# Midterm script\n",
    "# a) \n",
    "Write a function that reads **two amino acid sequences** into **Python strings** *from a file* in FASTA format and put them in the two variables seq1 and seq2, respectively. The function should **return a tuple (seq1, seq2)**."
   ]
  },
  {
   "cell_type": "markdown",
   "metadata": {},
   "source": [
    "### Preparation:\n",
    "#### 1. acquireing the files:"
   ]
  },
  {
   "cell_type": "code",
   "execution_count": 6,
   "metadata": {},
   "outputs": [
    {
     "name": "stdout",
     "output_type": "stream",
     "text": [
      "Warning: Failed to set locale category LC_NUMERIC to en_NO.\n",
      "Warning: Failed to set locale category LC_TIME to en_NO.\n",
      "Warning: Failed to set locale category LC_COLLATE to en_NO.\n",
      "Warning: Failed to set locale category LC_MONETARY to en_NO.\n",
      "Warning: Failed to set locale category LC_MESSAGES to en_NO.\n",
      "--2020-05-06 16:46:17--  https://www.uniprot.org/uniprot/Q9IQN3.fasta\n",
      "Resolving www.uniprot.org (www.uniprot.org)... 193.62.192.81, 128.175.245.202\n",
      "Connecting to www.uniprot.org (www.uniprot.org)|193.62.192.81|:443... connected.\n",
      "HTTP request sent, awaiting response... 200 \n",
      "Length: 199 [text/plain]\n",
      "Saving to: ‘Q9IQN3.fasta.1’\n",
      "\n",
      "Q9IQN3.fasta.1      100%[===================>]     199  --.-KB/s    in 0s      \n",
      "\n",
      "2020-05-06 16:46:17 (4.74 MB/s) - ‘Q9IQN3.fasta.1’ saved [199/199]\n",
      "\n"
     ]
    }
   ],
   "source": [
    "! wget https://www.uniprot.org/uniprot/Q9IQN3.fasta"
   ]
  },
  {
   "cell_type": "code",
   "execution_count": 4,
   "metadata": {},
   "outputs": [
    {
     "name": "stdout",
     "output_type": "stream",
     "text": [
      "Warning: Failed to set locale category LC_NUMERIC to en_NO.\n",
      "Warning: Failed to set locale category LC_TIME to en_NO.\n",
      "Warning: Failed to set locale category LC_COLLATE to en_NO.\n",
      "Warning: Failed to set locale category LC_MONETARY to en_NO.\n",
      "Warning: Failed to set locale category LC_MESSAGES to en_NO.\n",
      "--2020-05-06 16:45:43--  https://www.uniprot.org/uniprot/O95218.fasta\n",
      "Resolving www.uniprot.org (www.uniprot.org)... 193.62.192.81, 128.175.245.202\n",
      "Connecting to www.uniprot.org (www.uniprot.org)|193.62.192.81|:443... connected.\n",
      "HTTP request sent, awaiting response... 200 \n",
      "Length: 455 [text/plain]\n",
      "Saving to: ‘O95218.fasta’\n",
      "\n",
      "O95218.fasta        100%[===================>]     455  --.-KB/s    in 0s      \n",
      "\n",
      "2020-05-06 16:46:17 (19.7 MB/s) - ‘O95218.fasta’ saved [455/455]\n",
      "\n"
     ]
    }
   ],
   "source": [
    "! wget https://www.uniprot.org/uniprot/O95218.fasta"
   ]
  },
  {
   "cell_type": "code",
   "execution_count": 13,
   "metadata": {},
   "outputs": [
    {
     "name": "stdout",
     "output_type": "stream",
     "text": [
      "O95218.fasta       Q9IQN3.fasta       exam_may2020.ipynb\n"
     ]
    }
   ],
   "source": [
    "!ls"
   ]
  },
  {
   "cell_type": "markdown",
   "metadata": {},
   "source": [
    "#### 2. Appending one file to the other"
   ]
  },
  {
   "cell_type": "code",
   "execution_count": 15,
   "metadata": {},
   "outputs": [],
   "source": [
    "def appendfasta(fasta1, fasta2):\n",
    "    '''appends fasta2 to fasta1'''\n",
    "    with open(\"./\"+fasta1, 'a') as afile: # file1 is opened only for appending.\n",
    "        string2='' #creating empty string for later use.\n",
    "        with open(\"./\"+fasta2, 'r') as rfile: # file2 is opened to be read.\n",
    "            string2 = rfile.read() # the method .read() returns a string [readlines() would return a list]\n",
    "            afile.write(string2)\n",
    "\n",
    "def py_cat(thefile):\n",
    "    '''this funciton prints the content of a file DO not use on huge files. \n",
    "    Here it is used to confirm weather the appending was successful. Not the\n",
    "    most elegant but it will do for now.'''\n",
    "    with open(\"./\"+thefile, 'r') as rfile:\n",
    "        see=rfile.read()\n",
    "        return see\n",
    "            \n",
    "sfile1=\"Q9IQN3.fasta\"\n",
    "sfile2=\"O95218.fasta\"\n",
    "\n",
    "# appendfasta(sfile1, sfile2) Had to comment it so i cant accidentally append file2 again\n",
    "# print(py_cat(sfile1))\n",
    "        "
   ]
  },
  {
   "cell_type": "markdown",
   "metadata": {},
   "source": [
    "#### 3. Confirming it worked in bash"
   ]
  },
  {
   "cell_type": "code",
   "execution_count": 30,
   "metadata": {},
   "outputs": [
    {
     "name": "stdout",
     "output_type": "stream",
     "text": [
      ">tr|Q9IQN3|Q9IQN3_9HIV1 Protein Rev (Fragment) OS=Human immunodeficiency virus 1 OX=11676 GN=rev PE=4 SV=1\n",
      "PPPSSEGTRQARRNRRRRWRERQRQIRRISGWILSNHLGGLTEPVPLQLPPLERLTLDCN\n",
      "EDCGTSGTQGVGSPQIPVESPTVLESGTKE\n",
      ">sp|O95218|ZRAB2_HUMAN Zinc finger Ran-binding domain-containing protein 2 OS=Homo sapiens OX=9606 GN=ZRANB2 PE=1 SV=2\n",
      "MSTKNFRVSDGDWICPDKKCGNVNFARRTSCNRCGREKTTEAKMMKAGGTEIGKTLAEKS\n",
      "RGLFSANDWQCKTCSNVNWARRSECNMCNTPKYAKLEERTGYGGGFNERENVEYIEREES\n",
      "DGEYDEFGRKKKKYRGKAVGPASILKEVEDKESEGEEEDEDEDLSKYKLDEDEDEDDADL\n",
      "SKYNLDASEEEDSNKKKSNRRSRSKSRSSHSRSSSRSSSPSSSRSRSRSRSRSSSSSQSR\n",
      "SRSSSRERSRSRGSKSRSSSRSHRGSSSPRKRSYSSSSSSPERNRKRSRSRSSSSGDRKK\n",
      "RRTRSRSPERRHRSSSGSSHSGSRSSSKKK\n"
     ]
    }
   ],
   "source": [
    "!cat Q9IQN3.fasta # just confirming in bash irrelevant, but still good practice"
   ]
  },
  {
   "cell_type": "markdown",
   "metadata": {},
   "source": [
    "#### 4. Pseudocode and Thinking of Options to Solve it\n",
    "\n",
    "a) Write a function that reads **two amino acid sequences** into **Python strings** *from a file* in FASTA format and put them in the two variables seq1 and seq2, respectively. The function should **return a tuple (seq1, seq2)**.\n",
    "\n",
    "- use either .readlines() to generate string of entire file and then .split('>')\n",
    "- or try with a loop that skipps the line containing '>' and saves the rest \n",
    "\n",
    "ok first check what split would really do with the string:\n",
    "\n",
    "general steps:\n",
    "- open file\n",
    "- read file\n",
    "- split the file to be able into 2 sequences preferably 2 lists that each contain one sequence\n",
    "- get rid of the header\n",
    "- keep the sequence only\n",
    "- get rid of the '\\n' character\n",
    "- put each seq into variable\n",
    "- close file (not necessary if use ```with open()``` )\n",
    "- return tuple"
   ]
  },
  {
   "cell_type": "code",
   "execution_count": 17,
   "metadata": {},
   "outputs": [
    {
     "data": {
      "text/plain": [
       "['',\n",
       " 'tr|Q9IQN3|Q9IQN3_9HIV1 Protein Rev (Fragment) OS=Human immunodeficiency virus 1 OX=11676 GN=rev PE=4 SV=1\\nPPPSSEGTRQARRNRRRRWRERQRQIRRISGWILSNHLGGLTEPVPLQLPPLERLTLDCN\\nEDCGTSGTQGVGSPQIPVESPTVLESGTKE\\n',\n",
       " 'sp|O95218|ZRAB2_HUMAN Zinc finger Ran-binding domain-containing protein 2 OS=Homo sapiens OX=9606 GN=ZRANB2 PE=1 SV=2\\nMSTKNFRVSDGDWICPDKKCGNVNFARRTSCNRCGREKTTEAKMMKAGGTEIGKTLAEKS\\nRGLFSANDWQCKTCSNVNWARRSECNMCNTPKYAKLEERTGYGGGFNERENVEYIEREES\\nDGEYDEFGRKKKKYRGKAVGPASILKEVEDKESEGEEEDEDEDLSKYKLDEDEDEDDADL\\nSKYNLDASEEEDSNKKKSNRRSRSKSRSSHSRSSSRSSSPSSSRSRSRSRSRSSSSSQSR\\nSRSSSRERSRSRGSKSRSSSRSHRGSSSPRKRSYSSSSSSPERNRKRSRSRSSSSGDRKK\\nRRTRSRSPERRHRSSSGSSHSGSRSSSKKK']"
      ]
     },
     "execution_count": 17,
     "metadata": {},
     "output_type": "execute_result"
    }
   ],
   "source": [
    "stest = '>tr|Q9IQN3|Q9IQN3_9HIV1 Protein Rev (Fragment) OS=Human immunodeficiency virus 1 OX=11676 GN=rev PE=4 SV=1\\nPPPSSEGTRQARRNRRRRWRERQRQIRRISGWILSNHLGGLTEPVPLQLPPLERLTLDCN\\nEDCGTSGTQGVGSPQIPVESPTVLESGTKE\\n>sp|O95218|ZRAB2_HUMAN Zinc finger Ran-binding domain-containing protein 2 OS=Homo sapiens OX=9606 GN=ZRANB2 PE=1 SV=2\\nMSTKNFRVSDGDWICPDKKCGNVNFARRTSCNRCGREKTTEAKMMKAGGTEIGKTLAEKS\\nRGLFSANDWQCKTCSNVNWARRSECNMCNTPKYAKLEERTGYGGGFNERENVEYIEREES\\nDGEYDEFGRKKKKYRGKAVGPASILKEVEDKESEGEEEDEDEDLSKYKLDEDEDEDDADL\\nSKYNLDASEEEDSNKKKSNRRSRSKSRSSHSRSSSRSSSPSSSRSRSRSRSRSSSSSQSR\\nSRSSSRERSRSRGSKSRSSSRSHRGSSSPRKRSYSSSSSSPERNRKRSRSRSSSSGDRKK\\nRRTRSRSPERRHRSSSGSSHSGSRSSSKKK'\n",
    "seqli = stest.split(\">\", 2) # Now I know it will give me a list with a maximum 3 items - \n",
    "seqli                       # item 0 = the empty string item 1 is the seq1 and item 2 is seq"
   ]
  },
  {
   "cell_type": "markdown",
   "metadata": {},
   "source": [
    "#### 5. Writing the function including all 'test-prints' - below is just the *draft*\n",
    "- ok so I got a list containing 3 items and I know that seqli[1] contains seq1 and seqli[2] contains seq2\n",
    "- remember .read() returns the whole file in a *string* by default"
   ]
  },
  {
   "cell_type": "code",
   "execution_count": 103,
   "metadata": {},
   "outputs": [
    {
     "name": "stdout",
     "output_type": "stream",
     "text": [
      "['', 'tr|Q9IQN3|Q9IQN3_9HIV1 Protein Rev (Fragment) OS=Human immunodeficiency virus 1 OX=11676 GN=rev PE=4 SV=1\\nPPPSSEGTRQARRNRRRRWRERQRQIRRISGWILSNHLGGLTEPVPLQLPPLERLTLDCN\\nEDCGTSGTQGVGSPQIPVESPTVLESGTKE\\n', 'sp|O95218|ZRAB2_HUMAN Zinc finger Ran-binding domain-containing protein 2 OS=Homo sapiens OX=9606 GN=ZRANB2 PE=1 SV=2\\nMSTKNFRVSDGDWICPDKKCGNVNFARRTSCNRCGREKTTEAKMMKAGGTEIGKTLAEKS\\nRGLFSANDWQCKTCSNVNWARRSECNMCNTPKYAKLEERTGYGGGFNERENVEYIEREES\\nDGEYDEFGRKKKKYRGKAVGPASILKEVEDKESEGEEEDEDEDLSKYKLDEDEDEDDADL\\nSKYNLDASEEEDSNKKKSNRRSRSKSRSSHSRSSSRSSSPSSSRSRSRSRSRSSSSSQSR\\nSRSSSRERSRSRGSKSRSSSRSHRGSSSPRKRSYSSSSSSPERNRKRSRSRSSSSGDRKK\\nRRTRSRSPERRHRSSSGSSHSGSRSSSKKK\\n']\n",
      "here the seqs\n",
      "tr|Q9IQN3|Q9IQN3_9HIV1 Protein Rev (Fragment) OS=Human immunodeficiency virus 1 OX=11676 GN=rev PE=4 SV=1\n",
      "PPPSSEGTRQARRNRRRRWRERQRQIRRISGWILSNHLGGLTEPVPLQLPPLERLTLDCN\n",
      "EDCGTSGTQGVGSPQIPVESPTVLESGTKE\n",
      "\n",
      "sp|O95218|ZRAB2_HUMAN Zinc finger Ran-binding domain-containing protein 2 OS=Homo sapiens OX=9606 GN=ZRANB2 PE=1 SV=2\n",
      "MSTKNFRVSDGDWICPDKKCGNVNFARRTSCNRCGREKTTEAKMMKAGGTEIGKTLAEKS\n",
      "RGLFSANDWQCKTCSNVNWARRSECNMCNTPKYAKLEERTGYGGGFNERENVEYIEREES\n",
      "DGEYDEFGRKKKKYRGKAVGPASILKEVEDKESEGEEEDEDEDLSKYKLDEDEDEDDADL\n",
      "SKYNLDASEEEDSNKKKSNRRSRSKSRSSHSRSSSRSSSPSSSRSRSRSRSRSSSSSQSR\n",
      "SRSSSRERSRSRGSKSRSSSRSHRGSSSPRKRSYSSSSSSPERNRKRSRSRSSSSGDRKK\n",
      "RRTRSRSPERRHRSSSGSSHSGSRSSSKKK\n",
      "\n",
      "this is the list of seq1 incl header in liseq1[0]\n",
      " ['tr|Q9IQN3|Q9IQN3_9HIV1 Protein Rev (Fragment) OS=Human immunodeficiency virus 1 OX=11676 GN=rev PE=4 SV=1', 'PPPSSEGTRQARRNRRRRWRERQRQIRRISGWILSNHLGGLTEPVPLQLPPLERLTLDCN', 'EDCGTSGTQGVGSPQIPVESPTVLESGTKE', '']\n",
      "BEFORE join: ['PPPSSEGTRQARRNRRRRWRERQRQIRRISGWILSNHLGGLTEPVPLQLPPLERLTLDCN', 'EDCGTSGTQGVGSPQIPVESPTVLESGTKE', '']\n",
      "Seq1 AFTER join: PPPSSEGTRQARRNRRRRWRERQRQIRRISGWILSNHLGGLTEPVPLQLPPLERLTLDCNEDCGTSGTQGVGSPQIPVESPTVLESGTKE\n",
      "Seq2 AFTER join: MSTKNFRVSDGDWICPDKKCGNVNFARRTSCNRCGREKTTEAKMMKAGGTEIGKTLAEKSRGLFSANDWQCKTCSNVNWARRSECNMCNTPKYAKLEERTGYGGGFNERENVEYIEREESDGEYDEFGRKKKKYRGKAVGPASILKEVEDKESEGEEEDEDEDLSKYKLDEDEDEDDADLSKYNLDASEEEDSNKKKSNRRSRSKSRSSHSRSSSRSSSPSSSRSRSRSRSRSSSSSQSRSRSSSRERSRSRGSKSRSSSRSHRGSSSPRKRSYSSSSSSPERNRKRSRSRSSSSGDRKKRRTRSRSPERRHRSSSGSSHSGSRSSSKKK\n",
      "This is the tuple containing seq1 and seq2:\n",
      " ('PPPSSEGTRQARRNRRRRWRERQRQIRRISGWILSNHLGGLTEPVPLQLPPLERLTLDCNEDCGTSGTQGVGSPQIPVESPTVLESGTKE', 'MSTKNFRVSDGDWICPDKKCGNVNFARRTSCNRCGREKTTEAKMMKAGGTEIGKTLAEKSRGLFSANDWQCKTCSNVNWARRSECNMCNTPKYAKLEERTGYGGGFNERENVEYIEREESDGEYDEFGRKKKKYRGKAVGPASILKEVEDKESEGEEEDEDEDLSKYKLDEDEDEDDADLSKYNLDASEEEDSNKKKSNRRSRSKSRSSHSRSSSRSSSPSSSRSRSRSRSRSSSSSQSRSRSSSRERSRSRGSKSRSSSRSHRGSSSPRKRSYSSSSSSPERNRKRSRSRSSSSGDRKKRRTRSRSPERRHRSSSGSSHSGSRSSSKKK')\n"
     ]
    }
   ],
   "source": [
    "def split_fasta(fastafile):\n",
    "    filist = []\n",
    "    seq1 = '' #defining both variables now so they can be returned later\n",
    "    seq2 = ''\n",
    "    with open('./'+fastafile, 'r') as rfile: #open the fastafile\n",
    "        allines = rfile.read()               # .read() returns the whole file as string\n",
    "        newlist = allines.split(\">\", 2)      # splitting the string into list of 3 items \n",
    "        print(newlist)                       # checking that the result is what i belive [0] empty\n",
    "        seq1string =  newlist[1]             # seq1string takes item[1] of the newlist which is seq1 incl header\n",
    "        seq2string =  newlist[2]             # seq2string takes item[2] of the newlist which is seq1 incl header\n",
    "        print(\"here the seqs\")               # just to avoid reading the wrong line\n",
    "        print(seq1string)                    # printing both sequences including header\n",
    "        print(seq2string)\n",
    "        liseq1 = seq1string.split(\"\\n\")      # removing the '\\n' characters so the strgs can be joined later.\n",
    "        liseq2 = seq2string.split(\"\\n\")\n",
    "        print(\"this is the list of seq1 incl header in liseq1[0]\\n\", liseq1) # checking if it worked on the first seq\n",
    "        noheader1=liseq1[1:]                 # noheaderX is the amino acid sequence alone\n",
    "        noheader2=liseq2[1:]\n",
    "        print('BEFORE join:', noheader1)     # checking if its ok before joining\n",
    "        seq1 = str.join('', noheader1)\n",
    "        print('Seq1 AFTER join:', seq1)      # checking if joined properly before proceeding with seq2\n",
    "        seq2 = str.join('', noheader2)\n",
    "        print('Seq2 AFTER join:', seq2)        \n",
    "    return (seq1, seq2)                      #remember to return tuple with both seqs\n",
    "         \n",
    "seqtuple = split_fasta(\"Q9IQN3.fasta\") #calling the funciton on the file that contains 2 seqs\n",
    "print('This is the tuple containing seq1 and seq2:\\n', seqtuple) # Text to find the right print to confirm\n"
   ]
  },
  {
   "cell_type": "markdown",
   "metadata": {},
   "source": [
    "# Final version of function a):\n",
    "a) Write a function that reads **two amino acid sequences** into **Python strings** *from a file* in FASTA format and put them in the two variables seq1 and seq2, respectively. The function should **return a tuple (seq1, seq2)**."
   ]
  },
  {
   "cell_type": "code",
   "execution_count": 50,
   "metadata": {},
   "outputs": [
    {
     "name": "stdout",
     "output_type": "stream",
     "text": [
      "('PPPSSEGTRQARRNRRRRWRERQRQIRRISGWILSNHLGGLTEPVPLQLPPLERLTLDCNEDCGTSGTQGVGSPQIPVESPTVLESGTKE', 'MSTKNFRVSDGDWICPDKKCGNVNFARRTSCNRCGREKTTEAKMMKAGGTEIGKTLAEKSRGLFSANDWQCKTCSNVNWARRSECNMCNTPKYAKLEERTGYGGGFNERENVEYIEREESDGEYDEFGRKKKKYRGKAVGPASILKEVEDKESEGEEEDEDEDLSKYKLDEDEDEDDADLSKYNLDASEEEDSNKKKSNRRSRSKSRSSHSRSSSRSSSPSSSRSRSRSRSRSSSSSQSRSRSSSRERSRSRGSKSRSSSRSHRGSSSPRKRSYSSSSSSPERNRKRSRSRSSSSGDRKKRRTRSRSPERRHRSSSGSSHSGSRSSSKKK')\n",
      "This is sequence 1 :\n",
      " PPPSSEGTRQARRNRRRRWRERQRQIRRISGWILSNHLGGLTEPVPLQLPPLERLTLDCNEDCGTSGTQGVGSPQIPVESPTVLESGTKE \n",
      "This is sequence 2 :\n",
      " MSTKNFRVSDGDWICPDKKCGNVNFARRTSCNRCGREKTTEAKMMKAGGTEIGKTLAEKSRGLFSANDWQCKTCSNVNWARRSECNMCNTPKYAKLEERTGYGGGFNERENVEYIEREESDGEYDEFGRKKKKYRGKAVGPASILKEVEDKESEGEEEDEDEDLSKYKLDEDEDEDDADLSKYNLDASEEEDSNKKKSNRRSRSKSRSSHSRSSSRSSSPSSSRSRSRSRSRSSSSSQSRSRSSSRERSRSRGSKSRSSSRSHRGSSSPRKRSYSSSSSSPERNRKRSRSRSSSSGDRKKRRTRSRSPERRHRSSSGSSHSGSRSSSKKK\n"
     ]
    }
   ],
   "source": [
    "def split_fasta(fastafile): \n",
    "    '''Function takes as input a fasta file containing *EXACTLY* 2 sequences. \n",
    "    It extracts the amino acid sequences and puts them into the variables\n",
    "    seq1 and seq2 which are returned as a tuple (seq1, seq2)'''\n",
    "    seq1 = '' #defining both variables now so they can be returned later\n",
    "    seq2 = ''\n",
    "    with open('./'+fastafile, 'r') as rfile: #open the fastafile\n",
    "        allines = rfile.read()               # .read() returns the whole file as string\n",
    "        newlist = allines.split(\">\")         # splitting the string into list of 3 items \n",
    "        seq1string =  newlist[1]             # seq1string takes item[1] of the newlist which is seq1 incl header\n",
    "        seq2string =  newlist[2]             # seq2string takes item[2] of the newlist which is seq1 incl header\n",
    "        liseq1 = seq1string.split(\"\\n\")      # removing the '\\n' characters so the strgs can be joined later.\n",
    "        liseq2 = seq2string.split(\"\\n\")\n",
    "        noheader_list1=liseq1[1:]                 # noheaderX is the amino acid sequence alone\n",
    "        noheader_list2=liseq2[1:]\n",
    "        seq1 = str.join('', noheader_list1)       # joining the list of aa into string and putting it into the variable seq1, seq2\n",
    "        seq2 = str.join('', noheader_list2)\n",
    "    return (seq1, seq2)                      #returnin tuple with both sequences\n",
    "         \n",
    "seqtuple = split_fasta(\"Q9IQN3.fasta\") #calling the funciton on the file that contains 2 seqs\n",
    "print(seqtuple) #Printing the tuple see if it works\n",
    "seq1, seq2 = seqtuple # unpacking the tuple\n",
    "print(\"This is sequence 1 :\\n\",seq1, \"\\nThis is sequence 2 :\\n\",seq2) # printing each seq \n"
   ]
  },
  {
   "cell_type": "markdown",
   "metadata": {},
   "source": [
    "# b) \n",
    "Write a function that \n",
    "- **reads** a **substitution matrix** from a **text file** \n",
    "- and puts its **values in a dictionary** where **pairs of amino acids** letters are the **keys** (“AA”, “AC”, “AD”, etc.). \n",
    "- The function should return the dictionary. \n"
   ]
  },
  {
   "cell_type": "markdown",
   "metadata": {},
   "source": [
    "Steps for b)\n",
    "- try on tinymatrix.txt so its easier to build and expand later\n",
    "\n",
    "```\n",
    "\n",
    "   A  R  N  D  \n",
    "A  4 -1 -2 -2  \n",
    "R -1  5  0 -2 \n",
    "N -2  0  6  1 \n",
    "D -2 -2  1  6 \n",
    "\n",
    "\n",
    "```\n",
    "\n",
    "make one fct that makes list of txt file:\n",
    "- open and .readlines() entire file: the method gives me a list where each item is one row.\n",
    "- name of row i (each item of list)\n",
    "- name of col j (inner indices)\n",
    "\n",
    "\n",
    "- I dont need the first row i=0 as it is exactly the same as [0][i] vertical down.\n",
    "- need to make a nested loop to do each against each:\n",
    "\n",
    "# Final version of b)\n",
    "read_blosum50.py"
   ]
  },
  {
   "cell_type": "code",
   "execution_count": 3,
   "metadata": {},
   "outputs": [
    {
     "name": "stdout",
     "output_type": "stream",
     "text": [
      "{'AA': 4, 'AR': -1, 'AN': -2, 'AD': -2, 'RA': -1, 'RR': 5, 'RN': 0, 'RD': -2, 'NA': -2, 'NR': 0, 'NN': 6, 'ND': 1, 'DA': -2, 'DR': -2, 'DN': 1, 'DD': 6}\n",
      "16\n"
     ]
    }
   ],
   "source": [
    "def subsmat_from_txt(filename):\n",
    "    '''Take as input a filename (must be written between '') of a square matrix does not contain a header. \n",
    "    It returns a substitution matrix. '''\n",
    "    scoringmatrix_dict = {} #blosumdictionary\n",
    "    pairli=[]\n",
    "    \n",
    "    with open(filename, 'r') as rfile:\n",
    "        pairlist = []\n",
    "        resilist = rfile.readline().rstrip().split() # creates list of all 20 residues.\n",
    "        for i in range(len(resilist)):\n",
    "            pair='' # creating loop to enable pairing the residues 'AA':, 'AR':...\n",
    "            for j in range(len(resilist)):\n",
    "                pair = resilist[i] + resilist[j]\n",
    "                pairlist.append(pair) \n",
    "        # print(pairlist) # now I know I have a list that has all the keys. And every 20 items - so at item 21 Im in a new line of the matrix. At 41 in the line below that and at 61 below that.... So now I can add the values according to their postion in the txt.\n",
    "\n",
    "        scorli = []\n",
    "        numscoreli = []\n",
    "        for k in range(1, len(resilist)+1): # index 0 is letters only - so I skip it. But need to add 1 otherwise last value would be lost. So all XV and VX values...\n",
    "            full_list = rfile.readline().rstrip().split()\n",
    "            scorli = full_list[1:] #now I know I have a list whose first character can be ommitted because its just the aa.\n",
    "            for el in range(len(resilist)): # the list contains strings - need to generate integers.\n",
    "                num_score = int(scorli[el])\n",
    "                numscoreli.append(num_score) #numscoreli has the same layout as pairlist matching indecis can be paired as key and value:\n",
    "        for l in range(len(pairlist)):\n",
    "            scoringmatrix_dict[pairlist[l]] = numscoreli[l]\n",
    "        return scoringmatrix_dict\n",
    "    \n",
    "matrix = subsmat_from_txt(\"tinymatrix.txt\")\n",
    "print(matrix)\n",
    "print(len(matrix)) # 4*4 = 16"
   ]
  },
  {
   "cell_type": "code",
   "execution_count": 4,
   "metadata": {},
   "outputs": [
    {
     "name": "stdout",
     "output_type": "stream",
     "text": [
      "{'AA': 4, 'AR': -1, 'AN': -2, 'AD': -2, 'AC': 0, 'AQ': -1, 'AE': -1, 'AG': 0, 'AH': -2, 'AI': -1, 'AL': -1, 'AK': -1, 'AM': -1, 'AF': -2, 'AP': -1, 'AS': 1, 'AT': 0, 'AW': -3, 'AY': -2, 'AV': 0, 'RA': -1, 'RR': 5, 'RN': 0, 'RD': -2, 'RC': -3, 'RQ': 1, 'RE': 0, 'RG': -2, 'RH': 0, 'RI': -3, 'RL': -2, 'RK': 2, 'RM': -1, 'RF': -3, 'RP': -2, 'RS': -1, 'RT': -1, 'RW': -3, 'RY': -2, 'RV': -3, 'NA': -2, 'NR': 0, 'NN': 6, 'ND': 1, 'NC': -3, 'NQ': 0, 'NE': 0, 'NG': 0, 'NH': 1, 'NI': -3, 'NL': -3, 'NK': 0, 'NM': -2, 'NF': -3, 'NP': -2, 'NS': 1, 'NT': 0, 'NW': -4, 'NY': -2, 'NV': -3, 'DA': -2, 'DR': -2, 'DN': 1, 'DD': 6, 'DC': -3, 'DQ': 0, 'DE': 2, 'DG': -1, 'DH': -1, 'DI': -3, 'DL': -4, 'DK': -1, 'DM': -3, 'DF': -3, 'DP': -1, 'DS': 0, 'DT': -1, 'DW': -4, 'DY': -3, 'DV': -3, 'CA': 0, 'CR': -3, 'CN': -3, 'CD': -3, 'CC': 9, 'CQ': -3, 'CE': -4, 'CG': -3, 'CH': -3, 'CI': -1, 'CL': -1, 'CK': -3, 'CM': -1, 'CF': -2, 'CP': -3, 'CS': -1, 'CT': -1, 'CW': -2, 'CY': -2, 'CV': -1, 'QA': -1, 'QR': 1, 'QN': 0, 'QD': 0, 'QC': -3, 'QQ': 5, 'QE': 2, 'QG': -2, 'QH': 0, 'QI': -3, 'QL': -2, 'QK': 1, 'QM': 0, 'QF': -3, 'QP': -1, 'QS': 0, 'QT': -1, 'QW': -2, 'QY': -1, 'QV': -2, 'EA': -1, 'ER': 0, 'EN': 0, 'ED': 2, 'EC': -4, 'EQ': 2, 'EE': 5, 'EG': -2, 'EH': 0, 'EI': -3, 'EL': -3, 'EK': 1, 'EM': -2, 'EF': -3, 'EP': -1, 'ES': 0, 'ET': -1, 'EW': -3, 'EY': -2, 'EV': -2, 'GA': 0, 'GR': -2, 'GN': 0, 'GD': -1, 'GC': -3, 'GQ': -2, 'GE': -2, 'GG': 6, 'GH': -2, 'GI': -4, 'GL': -4, 'GK': -2, 'GM': -3, 'GF': -3, 'GP': -2, 'GS': 0, 'GT': -2, 'GW': -2, 'GY': -3, 'GV': -3, 'HA': -2, 'HR': 0, 'HN': 1, 'HD': -1, 'HC': -3, 'HQ': 0, 'HE': 0, 'HG': -2, 'HH': 8, 'HI': -3, 'HL': -3, 'HK': -1, 'HM': -2, 'HF': -1, 'HP': -2, 'HS': -1, 'HT': -2, 'HW': -2, 'HY': 2, 'HV': -3, 'IA': -1, 'IR': -3, 'IN': -3, 'ID': -3, 'IC': -1, 'IQ': -3, 'IE': -3, 'IG': -4, 'IH': -3, 'II': 4, 'IL': 2, 'IK': -3, 'IM': 1, 'IF': 0, 'IP': -3, 'IS': -2, 'IT': -1, 'IW': -3, 'IY': -1, 'IV': 3, 'LA': -1, 'LR': -2, 'LN': -3, 'LD': -4, 'LC': -1, 'LQ': -2, 'LE': -3, 'LG': -4, 'LH': -3, 'LI': 2, 'LL': 4, 'LK': -2, 'LM': 2, 'LF': 0, 'LP': -3, 'LS': -2, 'LT': -1, 'LW': -2, 'LY': -1, 'LV': 1, 'KA': -1, 'KR': 2, 'KN': 0, 'KD': -1, 'KC': -3, 'KQ': 1, 'KE': 1, 'KG': -2, 'KH': -1, 'KI': -3, 'KL': -2, 'KK': 5, 'KM': -1, 'KF': -3, 'KP': -1, 'KS': 0, 'KT': -1, 'KW': -3, 'KY': -2, 'KV': -2, 'MA': -1, 'MR': -1, 'MN': -2, 'MD': -3, 'MC': -1, 'MQ': 0, 'ME': -2, 'MG': -3, 'MH': -2, 'MI': 1, 'ML': 2, 'MK': -1, 'MM': 5, 'MF': 0, 'MP': -2, 'MS': -1, 'MT': -1, 'MW': -1, 'MY': -1, 'MV': 1, 'FA': -2, 'FR': -3, 'FN': -3, 'FD': -3, 'FC': -2, 'FQ': -3, 'FE': -3, 'FG': -3, 'FH': -1, 'FI': 0, 'FL': 0, 'FK': -3, 'FM': 0, 'FF': 6, 'FP': -4, 'FS': -2, 'FT': -2, 'FW': 1, 'FY': 3, 'FV': -1, 'PA': -1, 'PR': -2, 'PN': -2, 'PD': -1, 'PC': -3, 'PQ': -1, 'PE': -1, 'PG': -2, 'PH': -2, 'PI': -3, 'PL': -3, 'PK': -1, 'PM': -2, 'PF': -4, 'PP': 7, 'PS': -1, 'PT': -1, 'PW': -4, 'PY': -3, 'PV': -2, 'SA': 1, 'SR': -1, 'SN': 1, 'SD': 0, 'SC': -1, 'SQ': 0, 'SE': 0, 'SG': 0, 'SH': -1, 'SI': -2, 'SL': -2, 'SK': 0, 'SM': -1, 'SF': -2, 'SP': -1, 'SS': 4, 'ST': 1, 'SW': -3, 'SY': -2, 'SV': -2, 'TA': 0, 'TR': -1, 'TN': 0, 'TD': -1, 'TC': -1, 'TQ': -1, 'TE': -1, 'TG': -2, 'TH': -2, 'TI': -1, 'TL': -1, 'TK': -1, 'TM': -1, 'TF': -2, 'TP': -1, 'TS': 1, 'TT': 5, 'TW': -2, 'TY': -2, 'TV': 0, 'WA': -3, 'WR': -3, 'WN': -4, 'WD': -4, 'WC': -2, 'WQ': -2, 'WE': -3, 'WG': -2, 'WH': -2, 'WI': -3, 'WL': -2, 'WK': -3, 'WM': -1, 'WF': 1, 'WP': -4, 'WS': -3, 'WT': -2, 'WW': 11, 'WY': 2, 'WV': -3, 'YA': -2, 'YR': -2, 'YN': -2, 'YD': -3, 'YC': -2, 'YQ': -1, 'YE': -2, 'YG': -3, 'YH': 2, 'YI': -1, 'YL': -1, 'YK': -2, 'YM': -1, 'YF': 3, 'YP': -3, 'YS': -2, 'YT': -2, 'YW': 2, 'YY': 7, 'YV': -1, 'VA': 0, 'VR': -3, 'VN': -3, 'VD': -3, 'VC': -1, 'VQ': -2, 'VE': -2, 'VG': -3, 'VH': -3, 'VI': 3, 'VL': 1, 'VK': -2, 'VM': 1, 'VF': -1, 'VP': -2, 'VS': -2, 'VT': 0, 'VW': -3, 'VY': -1, 'VV': 4}\n",
      "400\n"
     ]
    }
   ],
   "source": [
    "#it works on the tinymatrix.txt lets try it on the blosum50\n",
    "blosum50 = subsmat_from_txt(\"blosum50.txt\")\n",
    "print(blosum50)\n",
    "print(len(blosum50)) # checking the lenght to see if I managed to put all keys and values 20 * 20 = 400"
   ]
  },
  {
   "cell_type": "markdown",
   "metadata": {},
   "source": [
    "## c) Final version\n",
    "Write a function that takes as input the **two sequences** and the **dictionary**, and finds the best scoring alignment based on an ungapped exhaustive search. Non-aligned residues at the beginning or at the end of the alignment will score zero (gap penalty = 0)."
   ]
  },
  {
   "cell_type": "code",
   "execution_count": 51,
   "metadata": {},
   "outputs": [
    {
     "name": "stdout",
     "output_type": "stream",
     "text": [
      "(['------------------------------------------------------------------------------------------------------------------------------------------------------------------------------------------------------------------------------------------------------------------------------------------------------------------------------------------PPPSSEGTRQARRNRRRRWRERQRQIRRISGWILSNHLGGLTEPVPLQLPPLERLTLDCNEDCGTSGTQGVGSPQIPVESPTVLESGTKE', '--------------------------------------------MSTKNFRVSDGDWICPDKKCGNVNFARRTSCNRCGREKTTEAKMMKAGGTEIGKTLAEKSRGLFSANDWQCKTCSNVNWARRSECNMCNTPKYAKLEERTGYGGGFNERENVEYIEREESDGEYDEFGRKKKKYRGKAVGPASILKEVEDKESEGEEEDEDEDLSKYKLDEDEDEDDADLSKYNLDASEEEDSNKKKSNRRSRSKSRSSHSRSSSRSSSPSSSRSRSRSRSRSSSSSQSRSRSSSRERSRSRGSKSRSSSRSHRGSSSPRKRSYSSSSSSPERNRKRSRSRSSSSGDRKKRRTRSRSPERRHRSSSGSSHSGSRSSSKKK----------------------------------------------'], 31)\n"
     ]
    }
   ],
   "source": [
    "###########################################################################################################\n",
    "#final version\n",
    "###########################################################################################################\n",
    "def score_aln(s1, s2, scoring_dict):\n",
    "    tot_score = 0                   # initiate score at 0 \n",
    "    for i in range(len(s1)):        # counts\n",
    "        pair = s1[i] + s2[i]        # pair concattenation of s1 and s2 at corresponding index\n",
    "        if \"-\" not in pair:         # if true (no dash in pair), so there is no gap in the alignment\n",
    "            tot_score += scoring_dict[pair] # increment total score by value from scoring dict\n",
    "    return tot_score\n",
    "\n",
    "def ungapped_best_aln (s1, s2, scoring_dict):                         # - - T C A         \n",
    "    aln_len = len(s1) + len(s2)         # sum length of the alignment  G A - - - \n",
    "    fill_gaps1 = list(\"-\" * len(s2))    # generating as many gaps as necessary - always as long as the other sequence\n",
    "    fill_gaps2 = list(\"-\" * len(s1))\n",
    "    aln = [fill_gaps1 + list(s1), list(s2) + fill_gaps2] # --- are added to beginning of s1 BUT appended to s2\n",
    "    best_score = -1                    # initializing score at -1                                                                           \n",
    "    for i in range(aln_len):  \n",
    "        seq_string1 = \"\".join(aln[0])  # extracts element 0 from list and transforms it into a string\n",
    "        seq_string2 = \"\".join(aln[1])  # extracts element 1 from list and transforms it into a string\n",
    "        \n",
    "        score = score_aln(seq_string1, seq_string2, scoring_dict) # calling function\n",
    "\n",
    "        if score > best_score:          # only if score is larger than the best_score,\n",
    "           \n",
    "            best_score = score\n",
    "            best_pair = [\"\".join(aln[0]), \"\".join(aln[1])] \n",
    "     \n",
    "#             print(aln) [['-', '-', 'T', 'G', 'A'], ['G', 'A', '-', '-', '-']]\n",
    "\n",
    "            \n",
    "        if aln[1][-1] == \"-\":            # if last pos in s1 is a gap\n",
    "            aln[1] = aln[1][-1:] + aln[1][:-1] # moves last element in front\n",
    "        else:                            # in case last el is NOT a gap\n",
    "            aln[0] = aln[0][1:] + aln[0][:1]  # first element is moved to the back\n",
    "    return best_pair, best_score\n",
    "\n",
    "\n",
    "print(ungapped_best_aln(seq1, seq2, blosum50))"
   ]
  },
  {
   "cell_type": "code",
   "execution_count": 47,
   "metadata": {},
   "outputs": [
    {
     "name": "stdout",
     "output_type": "stream",
     "text": [
      "['-', '-', 'T', 'G', 'A']\n",
      "['-', 'G', 'A', '-', '-']\n",
      "Score 0\n",
      "['-', '-', 'T', 'G', 'A']\n",
      "['-', '-', 'G', 'A', '-']\n",
      "Score 0\n",
      "['-', '-', 'T', 'G', 'A']\n",
      "['-', '-', '-', 'G', 'A']\n",
      "Score 0\n",
      "['-', 'T', 'G', 'A', '-']\n",
      "['-', '-', '-', 'G', 'A']\n",
      "Score 13\n",
      "['T', 'G', 'A', '-', '-']\n",
      "['-', '-', '-', 'G', 'A']\n",
      "Score 13\n",
      "(['--TGA', '---GA'], 13)\n"
     ]
    }
   ],
   "source": [
    "###########################################################################################################\n",
    "# version including testprints\n",
    "###########################################################################################################\n",
    "\n",
    "def score_aln(s1, s2, scoring_dict):\n",
    "    tot_score = 0                   # initiate score at 0 \n",
    "    for i in range(len(s1)):        # counts\n",
    "        pair = s1[i] + s2[i]        # pair concattenation of s1 and s2 at corresponding index\n",
    "        if \"-\" not in pair:         # if true (no dash in pair), so there is no gap in the alignment\n",
    "            tot_score += scoring_dict[pair] # increment total score by value from scoring dict\n",
    "    return tot_score\n",
    "\n",
    "def ungapped_best_aln (s1, s2, scoring_dict):                         # - - T C A         \n",
    "    aln_len = len(s1) + len(s2)         # sum length of the alignment  G A - - - \n",
    "    fill_gaps1 = list(\"-\" * len(s2))    # generating as many gaps as necessary - always as long as the other sequence\n",
    "    fill_gaps2 = list(\"-\" * len(s1))\n",
    "    aln = [fill_gaps1 + list(s1), list(s2) + fill_gaps2] # --- are added to beginning of s1 BUT appended to s2\n",
    "    best_score = -1                    # initializing score at -1                                                                           \n",
    "    for i in range(aln_len):  \n",
    "        seq_string1 = \"\".join(aln[0])  # extracts element 0 from list and transforms it into a string\n",
    "        seq_string2 = \"\".join(aln[1])  # extracts element 1 from list and transforms it into a string\n",
    "        \n",
    "        score = score_aln(seq_string1, seq_string2, scoring_dict) # calling function\n",
    "\n",
    "        if score > best_score:          # only if score is larger than the best_score,\n",
    "           \n",
    "            best_score = score\n",
    "            best_pair = [\"\".join(aln[0]), \"\".join(aln[1])] \n",
    "     \n",
    "#             print(aln) [['-', '-', 'T', 'G', 'A'], ['G', 'A', '-', '-', '-']]\n",
    "\n",
    "            \n",
    "        if aln[1][-1] == \"-\":            # if last pos in s1 is a gap\n",
    "            aln[1] = aln[1][-1:] + aln[1][:-1] # moves last element in front\n",
    "        else:                            # in case last el is NOT a gap\n",
    "            aln[0] = aln[0][1:] + aln[0][:1]  # first element is moved to the back\n",
    "        print(aln[0])     # print to see if they slide as they should\n",
    "        print(aln[1])\n",
    "        print('Score', best_score)\n",
    "    return best_pair, best_score\n",
    "\n",
    "\n",
    "print(ungapped_best_aln(\"TGA\", 'GA', blosum50))"
   ]
  },
  {
   "cell_type": "markdown",
   "metadata": {},
   "source": [
    "# Final exam script\n",
    "a) Write a function that calculates the **local** dynamic programming (scoring) matrix F based on the **Smith- Waterman** algorithm and the associated **traceback matrix** P. The function will take seq1, seq2, the BLOSUM50 matrix and the gap value as input and return F and P.\n",
    "\n",
    "# a) Final Version of Script\n"
   ]
  },
  {
   "cell_type": "code",
   "execution_count": 1,
   "metadata": {},
   "outputs": [
    {
     "name": "stdout",
     "output_type": "stream",
     "text": [
      "(5, 9, 28) i, j, and Maxvalue\n"
     ]
    }
   ],
   "source": [
    "'''Smith Waterman (Examples: p 95/96 Concepts in Bioinformatics and Genomics, J. Momand, A. McCurdy)\n",
    "Developed by Temple Smith and Michael Waterman in 1981. We need to make three changes to the N-W program.\n",
    "1) Modifying the equation by adding a fourth option: 0 for the calculation of S i, j. \n",
    "Thus no element can be less than zero. \n",
    "2) Traceback is started from the highest value of S i, j and continues until 0 is found.\n",
    "once 0 is found the traceback stops. This point is the end of the seuquece alignment.\n",
    "\n",
    "SW_alignment(Input: Sequence1, Sequence 2, Substitution_Matrix_Dictionary, gap_penalty)\n",
    "- define matrix dimension according to length of S1 and S2 PLUS one to account for the empty field before each sequence starts (does not contain a letter:)\n",
    "\n",
    "* *    H    E    A    G    A    W   G    H   E    E\n",
    "* 0,   0,   0,   0,   0,   0,   0,   0,   0,   0,   0\n",
    "P 0,   0,   0,   0,   0,   0,   0,   0,   0,   0,   0\n",
    "A 0,   0,   0,   5,   0,   5,   0,   0,   0,   0,   0\n",
    "W 0,   0,   0,   0,   2,   0,  20,  12,   4,   0,   0\n",
    "H 0,  10,   2,   0,   0,   0,  12,  18,  22,  14,   6\n",
    "E 0,   2,  16,   8,   0,   0,   4,  10,  18,  28,  20\n",
    "A 0,   0,   8,  21,  13,   5,   0,   4,  10,  20,  27\n",
    "E 0,   0,   6,  13,  18,  12,   4,   0,   4,  16,  26\n",
    "\n",
    "- initialize 0 matrix S for score;\n",
    "- initialize * matrix P for the path \n",
    "- fill first column and first row of S with the gap penalty\n",
    "- fill first culumn and first row of P with indicators for direction 'h'orizontal 'v'ertical\n",
    "- nested for-loop to fill the remaining positions of each matrix\n",
    "  remember: both ranges START at 1 because first r & c are filled already!!!\n",
    "- use while loop to ensure it iterates ONLY until it hits ZERO.\n",
    "- Traceback startes at exactly the postion of the HIGHEST value:\n",
    "  if Diagonal: two sequences are aligned and assigned their match score\n",
    "  if Vertical: gap must be introduced in the sequence from up.\n",
    "  if Horizontal: gap must be introduced in the sequence from the left.\n",
    "\n",
    "\n",
    "- OUTPUT: the function must \n",
    "  return S and P.\n",
    "\n",
    "It is important to keep in mind that MORE than one alignment can be 'best'.'''\n",
    "\n",
    "# 3) Elements of the top row (i=0) and first column (j=0) are all set to 0.\n",
    "\n",
    "from blo_fifity import blosum50\n",
    "from blo_fifity import align1\n",
    "import sys\n",
    "\n",
    "def smith_waterman_alignment(seq1, seq2, scoringMtrx, gap_penalty):\n",
    "    ''' Function calculates the global dynamic programming (scoring) matrix S based \n",
    "    on the Smith- Waterman algorithm and the associated traceback matrix P. Input:\n",
    "    seq1, seq2, BLOSUM50 matrix and the gap penalty as input. It returns S and P.'''\n",
    "    num_rows = len(seq1) + 1 # number of rows or the length of each column\n",
    "    num_cols = len(seq2) + 1 # number of columns or the length of each row\n",
    "\n",
    "    # 1 . initialize one Matrix for the score: S and one for the path P:\n",
    "    # S: zero matrix of dimensions num_rows * num_cols (m * n)\n",
    "    # P: asterisk matrix of dimensions num_rows * num_cols (m * n)\n",
    "\n",
    "    S = [[0] * num_cols for m in range(num_rows)] \n",
    "    P = [['*'] * num_cols for m in range(num_rows)] \n",
    "\n",
    "    # 2. fill first column and first row\n",
    "    # S: with gap penalty\n",
    "    # P: with directions: for 1st row \"h\" ; for 1st col: \"v\"\n",
    "\n",
    "    for i in range(num_rows):       # REMEMBER: can only iterate in RANGE(...) TypeError: 'int' object is not iterable\n",
    "        P[i][0] = 'v' # filling first col with letter indicating vertical move up is saved in P matrix\n",
    "\n",
    "    for j in range(num_cols):       # \n",
    "        P[0][j] = 'h' # filling first row with letter indicating horizontal move left is saved in P matrix\n",
    "\n",
    "    # 3. Fill inn scores into remaining fields of S \n",
    "    # since i and j 0 are filled in already: we start from i and j ONE  !!!\n",
    "\n",
    "    for i in range(1, num_rows):       # because 0 is filled already range must start at 1\n",
    "        for j in range(1, num_cols):   # same here 0 is filled above so range starts one later\n",
    "\n",
    "            Diagonal_score = S[i-1][j-1] + scoringMtrx[seq1[i-1] + seq2[j-1]] #Store diagonal score in variable\n",
    "            Vertical_score = S[i-1][j] + gap_penalty  #Store vertical score in variable\n",
    "            Horizontal_score= S[i][j-1] + gap_penalty #Store horizontal score in variable\n",
    "\n",
    "            # 4. find maximum of the score to determine direction (diagonal 'd', vertical 'v' or horizontal 'h'\n",
    "\n",
    "            max_score = max(Diagonal_score, Vertical_score, Horizontal_score, 0) #for SW need to include 0 into the maximum function !!!\n",
    "\n",
    "            # 5. fill inn directional information into the open fields of the P matrix\n",
    "            \n",
    "            if max_score == Diagonal_score:\n",
    "                P[i][j] = 'd'    # letter indicating diagonal move up is saved in P matrix\n",
    "            elif max_score == Vertical_score:\n",
    "                P[i][j] = 'v'    # letter indicating vertical move up is saved in P matrix\n",
    "            else:\n",
    "                P[i][j] = 'h'    # letter indicating horizontal move corssover is saved in P \n",
    "\n",
    "                                 # 6. store value of max_score in corresponding field of S[i][j]:\n",
    "            S[i][j] = max_score\n",
    "    \n",
    "                                 # 7. return both matrices\n",
    "    return S, P                  # INDENTATION !!!\n",
    "\n",
    "def max_val_mat(M):\n",
    "    ''' The function takes as input a matrix. It returns the maximum value found in the matrix and its position M_i,j '''\n",
    "    max_val = M[0][0]                  # starts at top left corner\n",
    "    pos_i = 0                          # to later store the value of i of the best field\n",
    "    pos_j = 0                          # to later store the value of j of the best field\n",
    "    for i in range(len(M)):\n",
    "        for j in range(len(M[0])):\n",
    "            if M[i][j] > max_val:\n",
    "                max_val = M[i][j]\n",
    "                pos_i = i\n",
    "                pos_j = j\n",
    "    return pos_i, pos_j, max_val\n",
    "\n",
    "def many_val_mat(M, val):\n",
    "    ''' The function takes as input a matrix and a value. It returns a list of the positions with the same value M_i,j '''\n",
    "    same_val_list = []                 # to store position(s) of values eqal to val\n",
    "    pos_i = 0                          # to later store the value of i of the best field\n",
    "    pos_j = 0                          # to later store the value of j of the best field\n",
    "    for i in range(len(M)):         \n",
    "        for j in range(len(M[0])):\n",
    "            if M[i][j] == val:         # if the value in the position is equal: store the positon in the same_val_list = []\n",
    "                same_val_list.append((i, j))\n",
    "    return same_val_list\n",
    "\n",
    "# try it with example from Concepts in Bioinformatics and genomics page 96 \n",
    "# and veryfy with https://gtuckerkellogg.github.io/pairwise/demo/ \n",
    "# >\n",
    "s1  =  align1[0] # using values from list imported from blo_fifity.py (see line 42) align[0] is assigned to s1\n",
    "s2  =  align1[1] # align[2] is assigned to s2\n",
    "S, P = smith_waterman_alignment(s1, s2, blosum50, -8) # unpacked S and P from function global_alignment\n",
    "print(max_val_mat(S), 'i, j, and Maxvalue')\n"
   ]
  },
  {
   "cell_type": "markdown",
   "metadata": {},
   "source": [
    "# b) Final Version of Script\n",
    "Write a function that takes F, P, seq1 and seq2 as input and returns the **best local alignment(s)** between seq1 and seq2 and the corresponding score(s)."
   ]
  },
  {
   "cell_type": "code",
   "execution_count": 39,
   "metadata": {},
   "outputs": [],
   "source": [
    "# Pseudocode:\n",
    "#     - function takes as input s1 s2, ScoringMatrix S and PathMatrix P.\n",
    "#     - need to put the maximum value from the S matrix into the variable i, j and max I can do that by calling my function max_val_mat() and pass S.\n",
    "#     - define variables for the strings of the s1 and s2. REMEMBER backtracking reads backwards. They need to be flipped later.\n",
    "#     - use a while loop to track back until a 0 is met.\n",
    "#     - retrieve letter of the sequence by acessing the dict and save to the variable\n",
    "#     - decrememnt i and j according to the situation (d, v, h)\n",
    "#     - flip both s1 and s2 so they are read in the right direction\n",
    "#     - return s1, s2 and score\n",
    "\n",
    "def traceback_SW_best_alignment(seq1, seq2, S, P):\n",
    "    ''' Function performes back tracking to determine the best alignment of template (seq1) and target (seq2). The moves are either:\n",
    "    - diagonal: match/mismatch \n",
    "    - vertical/top:       gap in sequence 1\n",
    "    - horizontal/left:     gap in sequence 2\n",
    "    Function returns template_seq1, target_seq2 and score'''\n",
    "    \n",
    "    i,j,max = max_val_mat(S)                # assigning variables to each output of the function. Indeces i,j of max value = starting point of traceback\n",
    "    \n",
    "    score = S[i][j]                         # 'score' the highest value = best local alignment.\n",
    "    rev_template_seq1 = ''                  # 'rev_...' because by backtracing we first obtain each sequence backwards so we need to flip it again\n",
    "    rev_target_seq2 = '' \n",
    "   \n",
    "    while S[i][j] != 0:                     # loop continues until it encounters ZERO\n",
    "        if P[i][j] == 'd':                  # match or mismatch from diagonal\n",
    "            rev_template_seq1 += seq1[i-1]\n",
    "            rev_target_seq2 += seq2[j-1]\n",
    "            i -= 1                     \n",
    "            j -= 1                          # decrement both i and j                    \n",
    "            \n",
    "        elif P[i][j] == 'v':           \n",
    "            rev_template_seq1 += '-'        # vertical: from top: gap is introduced in seq1\n",
    "            rev_target_seq2 += seq1[i-1]\n",
    "            i -= 1                          # Here ONLY i is decremented   \n",
    "        else:                            \n",
    "            rev_template_seq1 += seq2[j-1]\n",
    "            rev_target_seq2 += '-'          # so if P[i][j] was from 'h' horizontal move --> introduce gap into seq2\n",
    "            j -= 1                          # Here ONLY j is decremented  \n",
    "\n",
    "        # print(\"i\", i, 'j', j, S[i][j])    # testprint\n",
    "                                                    \n",
    "        template_seq1 = rev_template_seq1[::-1] # reverse needs to be flipped : turn around seq1\n",
    "        target_seq2 = rev_target_seq2[::-1]     # flip seq2\n",
    "    return template_seq1, target_seq2, score    # return the Sequence 1, Sequence 2 and the Score\n",
    "\n"
   ]
  },
  {
   "cell_type": "markdown",
   "metadata": {},
   "source": [
    "# c) Final Version of Script\n",
    "Can I call it a script if I am just printing something?...\n",
    "Print the alignment(s) and the corresponding score(s)"
   ]
  },
  {
   "cell_type": "code",
   "execution_count": 38,
   "metadata": {},
   "outputs": [
    {
     "name": "stdout",
     "output_type": "stream",
     "text": [
      "['h', 'h', 'h', 'h', 'h', 'h', 'h', 'h', 'h', 'h', 'h']\n",
      "['v', 'h', 'h', 'h', 'h', 'h', 'h', 'h', 'h', 'h', 'h']\n",
      "['v', 'h', 'h', 'd', 'd', 'd', 'h', 'd', 'h', 'h', 'h']\n",
      "['v', 'h', 'h', 'h', 'd', 'h', 'd', 'h', 'h', 'h', 'h']\n",
      "['v', 'd', 'h', 'h', 'h', 'd', 'v', 'd', 'd', 'h', 'h']\n",
      "['v', 'v', 'd', 'h', 'h', 'h', 'v', 'v', 'd', 'd', 'd']\n",
      "['v', 'h', 'v', 'd', 'h', 'd', 'h', 'd', 'v', 'v', 'd']\n",
      "['v', 'd', 'd', 'v', 'd', 'd', 'h', 'h', 'd', 'd', 'd']\n",
      "[0, 0, 0, 0, 0, 0, 0, 0, 0, 0, 0]\n",
      "[0, 0, 0, 0, 0, 0, 0, 0, 0, 0, 0]\n",
      "[0, 0, 0, 5, 0, 5, 0, 0, 0, 0, 0]\n",
      "[0, 0, 0, 0, 2, 0, 20, 12, 4, 0, 0]\n",
      "[0, 10, 2, 0, 0, 0, 12, 18, 22, 14, 6]\n",
      "[0, 2, 16, 8, 0, 0, 4, 10, 18, 28, 20]\n",
      "[0, 0, 8, 21, 13, 5, 0, 4, 10, 20, 27]\n",
      "[0, 0, 6, 13, 18, 12, 4, 0, 4, 16, 26]\n",
      "AWGHE\n",
      "AW-HE\n",
      "the score is  28\n",
      "[(4, 7), (5, 8), (7, 4)]\n"
     ]
    }
   ],
   "source": [
    "################ CHECKING ###############################################\n",
    "# try it with example from Concepts in Bioinformatics and genomics page 96 \n",
    "# and veryfy with https://gtuckerkellogg.github.io/pairwise/demo/ \n",
    "# \n",
    "for line in P:   # to print the matrix P\n",
    "    print(line)\n",
    "for line in S:   # to print the matrix S\n",
    "    print(line)\n",
    "    \n",
    "# call function traceback_best_alignment OBVIOUSLY with same parameters\n",
    "# and unpack what it returns: >> template_seq1, target_seq2, score\n",
    "\n",
    "template_seq1, target_seq2, score = traceback_SW_best_alignment(s1, s2, S, P)\n",
    "print(template_seq1)\n",
    "print(target_seq2)\n",
    "print('the score is ', score)\n",
    "\n",
    "# print(many_val_mat(S,18)) # to see if it finds me equal values"
   ]
  },
  {
   "cell_type": "code",
   "execution_count": null,
   "metadata": {},
   "outputs": [],
   "source": []
  }
 ],
 "metadata": {
  "kernelspec": {
   "display_name": "Python 3",
   "language": "python",
   "name": "python3"
  },
  "language_info": {
   "codemirror_mode": {
    "name": "ipython",
    "version": 3
   },
   "file_extension": ".py",
   "mimetype": "text/x-python",
   "name": "python",
   "nbconvert_exporter": "python",
   "pygments_lexer": "ipython3",
   "version": "3.7.2"
  }
 },
 "nbformat": 4,
 "nbformat_minor": 2
}
