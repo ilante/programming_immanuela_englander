{
 "cells": [
  {
   "cell_type": "code",
   "execution_count": 14,
   "metadata": {},
   "outputs": [
    {
     "name": "stdout",
     "output_type": "stream",
     "text": [
      "PH\t -2.0 \t PE\t -1.0 \t PA\t -1.0 \t PG\t -2.0 \t PA\t -1.0 \t PW\t -4.0 \t PG\t -2.0 \t PH\t -2.0 \t PE\t -1.0 \t PE\t -1.0 \t AH\t -2.0 \t AE\t -1.0 \t AA\t 5.0 \t AG\t 0.0 \t AA\t 5.0 \t AW\t -3.0 \t AG\t 0.0 \t AH\t -2.0 \t AE\t -1.0 \t AE\t -1.0 \t WH\t -3.0 \t WE\t -3.0 \t WA\t -3.0 \t WG\t -3.0 \t WA\t -3.0 \t WW\t 15.0 \t WG\t -3.0 \t WH\t -3.0 \t WE\t -3.0 \t WE\t -3.0 \t HH\t 10.0 \t HE\t 0.0 \t HA\t -2.0 \t HG\t -2.0 \t HA\t -2.0 \t HW\t -3.0 \t HG\t -2.0 \t HH\t 10.0 \t HE\t 0.0 \t HE\t 0.0 \t EH\t 0.0 \t EE\t 6.0 \t EA\t -1.0 \t EG\t -3.0 \t EA\t -1.0 \t EW\t -3.0 \t EG\t -3.0 \t EH\t 0.0 \t EE\t 6.0 \t EE\t 6.0 \t AH\t -2.0 \t AE\t -1.0 \t AA\t 5.0 \t AG\t 0.0 \t AA\t 5.0 \t AW\t -3.0 \t AG\t 0.0 \t AH\t -2.0 \t AE\t -1.0 \t AE\t -1.0 \t EH\t 0.0 \t EE\t 6.0 \t EA\t -1.0 \t EG\t -3.0 \t EA\t -1.0 \t EW\t -3.0 \t EG\t -3.0 \t EH\t 0.0 \t EE\t 6.0 \t EE\t 6.0 \t "
     ]
    }
   ],
   "source": [
    "import sys\n",
    "from b50 import blosum50\n",
    "\n",
    "# print(blosum50)\n",
    "s2='HEAGAWGHEE'\n",
    "s1='PAWHEAE'\n",
    "\n",
    "for i in s1:\n",
    "    for j in s2:\n",
    "        print(i+j+'\\t', blosum50[i+j],'\\t', end=' ')\n",
    "\n",
    "# blosum50['PH']"
   ]
  },
  {
   "cell_type": "raw",
   "metadata": {},
   "source": [
    "PH -2.0 PE -1.0 PA -1.0 PG -2.0 PA -1.0 PW -4.0 PG -2.0 PH -2.0 PE -1.0 PE -1.0 \n",
    "AH -2.0 AE -1.0 AA 5.0 AG 0.0 AA 5.0 AW -3.0 AG 0.0 AH -2.0 AE -1.0 AE -1.0 \n",
    "WH -3.0 WE -3.0 WA -3.0 WG -3.0 WA -3.0 WW 15.0 WG -3.0 WH -3.0 WE -3.0 WE -3.0 \n",
    "HH 10.0 HE 0.0 HA -2.0 HG -2.0 HA -2.0 HW -3.0 HG -2.0 HH 10.0 HE 0.0 HE 0.0 \n",
    "EH 0.0 EE 6.0 EA -1.0 EG -3.0 EA -1.0 EW -3.0 EG -3.0 EH 0.0 EE 6.0 EE 6.0 \n",
    "AH -2.0 AE -1.0 AA 5.0 AG 0.0 AA 5.0 AW -3.0 AG 0.0 AH -2.0 AE -1.0 AE -1.0 \n",
    "EH 0.0 EE 6.0 EA -1.0 EG -3.0 EA -1.0 EW -3.0 EG -3.0 EH 0.0 EE 6.0 EE 6.0 "
   ]
  },
  {
   "cell_type": "code",
   "execution_count": 17,
   "metadata": {},
   "outputs": [
    {
     "name": "stdout",
     "output_type": "stream",
     "text": [
      "-2 ,-1 ,-1 ,-2 ,-1 ,-4 ,-2 ,-2 ,-1 ,-1 ,-2 ,-1 ,5 ,0 ,5 ,-3 ,0 ,-2 ,-1 ,-1 ,-3 ,-3 ,-3 ,-3 ,-3 ,15 ,-3 ,-3 ,-3 ,-3 ,10 ,0 ,-2 ,-2 ,-2 ,-3 ,-2 ,10 ,0 ,0 ,0 ,6 ,-1 ,-3 ,-1 ,-3 ,-3 ,0 ,6 ,6 ,-2 ,-1 ,5 ,0 ,5 ,-3 ,0 ,-2 ,-1 ,-1 ,0 ,6 ,-1 ,-3 ,-1 ,-3 ,-3 ,0 ,6 ,6 ,"
     ]
    }
   ],
   "source": [
    "import sys\n",
    "from b50 import blosum50\n",
    "\n",
    "# print(blosum50)\n",
    "s2='HEAGAWGHEE'\n",
    "s1='PAWHEAE'\n",
    "\n",
    "for i in s1:\n",
    "    for j in s2:\n",
    "        print(int(blosum50[i+j]),',', end='')\n",
    "\n",
    "# blosum50['PH']"
   ]
  },
  {
   "cell_type": "code",
   "execution_count": null,
   "metadata": {},
   "outputs": [],
   "source": []
  }
 ],
 "metadata": {
  "kernelspec": {
   "display_name": "Python 3",
   "language": "python",
   "name": "python3"
  },
  "language_info": {
   "codemirror_mode": {
    "name": "ipython",
    "version": 3
   },
   "file_extension": ".py",
   "mimetype": "text/x-python",
   "name": "python",
   "nbconvert_exporter": "python",
   "pygments_lexer": "ipython3",
   "version": "3.7.2"
  }
 },
 "nbformat": 4,
 "nbformat_minor": 2
}
